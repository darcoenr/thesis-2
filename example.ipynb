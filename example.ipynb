{
 "cells": [
  {
   "cell_type": "code",
   "execution_count": null,
   "id": "335c2726",
   "metadata": {},
   "outputs": [],
   "source": [
    "import torch\n",
    "\n",
    "from torch.utils.data import DataLoader"
   ]
  },
  {
   "cell_type": "code",
   "execution_count": 9,
   "id": "10626473",
   "metadata": {},
   "outputs": [],
   "source": [
    "import core.models  as models\n",
    "import core.utils as utils\n"
   ]
  },
  {
   "cell_type": "code",
   "execution_count": 1,
   "id": "9e217e50",
   "metadata": {},
   "outputs": [],
   "source": [
    "MODEL_CHECKPOINT = 'Exscientia/IgBert'\n",
    "TOKENIZER_CHECKPOINT = 'Exscientia/IgBert'\n",
    "MODEL_NAME = 'average'\n",
    "BATCH_SIZE = 32"
   ]
  },
  {
   "cell_type": "code",
   "execution_count": null,
   "id": "ef843d57",
   "metadata": {},
   "outputs": [],
   "source": [
    "def predict(model_location, dataset_location,\n",
    "        model_checkpoint='Exscientia/IgBert', \n",
    "        tokenizer_checkpoint='Exscientia/IgBert', \n",
    "        model_name='average', \n",
    "        batch_size=32):\n",
    "    print('Retrieving the model...')\n",
    "    state_dict = torch.load('{}'.format(model_location), weights_only=True)\n",
    "    model = utils.load_model(model_name, checkpoint=model_checkpoint, state_dict=state_dict)\n",
    "    print('Retrieve the tokenizdr...')\n",
    "    tokenizer = utils.retrieve_tokenizer(tokenizer_checkpoint)\n",
    "    print('Retrieve the dataset...')\n",
    "    abd, _ = utils.get_dataset(dataset_location)\n",
    "    data_dl = DataLoader(abd, batch_size=batch_size)"
   ]
  }
 ],
 "metadata": {
  "kernelspec": {
   "display_name": "Python 3",
   "language": "python",
   "name": "python3"
  },
  "language_info": {
   "codemirror_mode": {
    "name": "ipython",
    "version": 3
   },
   "file_extension": ".py",
   "mimetype": "text/x-python",
   "name": "python",
   "nbconvert_exporter": "python",
   "pygments_lexer": "ipython3",
   "version": "3.10.12"
  }
 },
 "nbformat": 4,
 "nbformat_minor": 5
}
