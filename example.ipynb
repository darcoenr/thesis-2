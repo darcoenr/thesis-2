{
 "cells": [
  {
   "cell_type": "code",
   "execution_count": 1,
   "id": "335c2726",
   "metadata": {},
   "outputs": [],
   "source": [
    "import torch\n",
    "\n",
    "from torch.utils.data import DataLoader\n",
    "\n",
    "import importlib"
   ]
  },
  {
   "cell_type": "code",
   "execution_count": 2,
   "id": "10626473",
   "metadata": {},
   "outputs": [
    {
     "name": "stderr",
     "output_type": "stream",
     "text": [
      "/home/enrico/Documents/TESI/remote/.thesis_venv/lib/python3.10/site-packages/tqdm/auto.py:21: TqdmWarning: IProgress not found. Please update jupyter and ipywidgets. See https://ipywidgets.readthedocs.io/en/stable/user_install.html\n",
      "  from .autonotebook import tqdm as notebook_tqdm\n"
     ]
    }
   ],
   "source": [
    "import core.models as models\n",
    "import core.utils as utils\n",
    "import core.evaluate as evaluate"
   ]
  },
  {
   "cell_type": "code",
   "execution_count": 3,
   "id": "9e217e50",
   "metadata": {},
   "outputs": [],
   "source": [
    "MODEL_CHECKPOINT = 'Exscientia/IgBert'\n",
    "TOKENIZER_CHECKPOINT = 'Exscientia/IgBert'\n",
    "MODEL_NAME = 'average'\n",
    "BATCH_SIZE = 4"
   ]
  },
  {
   "cell_type": "code",
   "execution_count": 8,
   "id": "387b1330",
   "metadata": {},
   "outputs": [],
   "source": [
    "RESULTS_LOCATION = './results/germline_all_evaluation'\n",
    "MODEL_LOCATION = './weights/germline_all.pt'\n",
    "DATASET_LOCATION = './datasets_old/classificator/germline_all/test/test.csv'\n",
    "\n",
    "# Dataset parameters\n",
    "shuffle = False     # Shuffle the dataset\n",
    "frac = None         # Get only the specified fraction of the dataset, if None, take the whole\n",
    "                    # dataset unless subsample is specified\n",
    "subsample = 20      # Get a subsample of the specified size\n",
    "batch_size = 4      # Specifies the batch size\n",
    "seed = 0            # The seed in case shuffle, frac or subsample are specified\n",
    "eval_batches = 1    # Number of batches to evaluate"
   ]
  },
  {
   "cell_type": "code",
   "execution_count": 9,
   "id": "0e78834d",
   "metadata": {},
   "outputs": [
    {
     "name": "stdout",
     "output_type": "stream",
     "text": [
      "Results location: ./results/germline_all_evaluation\n",
      "Retrieving the dataset...\n",
      "Reading ./datasets_old/classificator/germline_all/test/test.csv...\n",
      "Dataset of size 739194\n",
      "Sampled a subset of size 20\n",
      "Load the model...\n",
      "Retrieve the tokenizer...\n",
      "Tokenizer checkpoint: Exscientia/IgBert\n",
      "Start evaluating...\n",
      "Number of batches: 5.\n",
      "Select only the first 1 batches\n",
      "Model: ClassificationFromAveraging\n",
      "Device detected: cpu\n"
     ]
    },
    {
     "name": "stderr",
     "output_type": "stream",
     "text": [
      "100%|██████████| 1/1 [00:15<00:00, 15.59s/it]\n"
     ]
    }
   ],
   "source": [
    "importlib.reload(evaluate)\n",
    "evaluate.evaluate(\n",
    "    MODEL_LOCATION, DATASET_LOCATION, RESULTS_LOCATION,\n",
    "    shuffle=shuffle, frac=frac, subsample=subsample, batch_size=batch_size, seed=seed,\n",
    "    model_name=MODEL_NAME, model_checkpoint=MODEL_CHECKPOINT, \n",
    "    tokenizer_checkpoint=TOKENIZER_CHECKPOINT,\n",
    "    eval_batches=eval_batches, save=True, out='test'\n",
    ")"
   ]
  }
 ],
 "metadata": {
  "kernelspec": {
   "display_name": ".thesis_venv (3.10.12)",
   "language": "python",
   "name": "python3"
  },
  "language_info": {
   "codemirror_mode": {
    "name": "ipython",
    "version": 3
   },
   "file_extension": ".py",
   "mimetype": "text/x-python",
   "name": "python",
   "nbconvert_exporter": "python",
   "pygments_lexer": "ipython3",
   "version": "3.10.12"
  }
 },
 "nbformat": 4,
 "nbformat_minor": 5
}
