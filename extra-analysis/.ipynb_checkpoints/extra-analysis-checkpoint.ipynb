{
 "cells": [
  {
   "cell_type": "code",
   "execution_count": 3,
   "id": "8644e000-f1df-43e2-acc7-c3700e010d43",
   "metadata": {},
   "outputs": [],
   "source": [
    "from importlib import reload\n",
    "\n",
    "import extra_analysis"
   ]
  },
  {
   "cell_type": "code",
   "execution_count": 9,
   "id": "22971cf5-1ae1-41b0-bb53-64966e7ba355",
   "metadata": {},
   "outputs": [
    {
     "name": "stdout",
     "output_type": "stream",
     "text": [
      "Retrieving the model...\n",
      "Return the logits, use the classificator (../results/classification/final_train_1/model.pt).\n",
      "Retrieve the tokenizdr...\n",
      "Tokenizer checkpoint: Exscientia/IgBert\n",
      "Retrieve the dataset...\n",
      "Reading sample.csv...\n",
      "Dataset of size 100\n"
     ]
    },
    {
     "name": "stderr",
     "output_type": "stream",
     "text": [
      "100%|█████████████████████████████████████████████| 4/4 [00:03<00:00,  1.01it/s]\n"
     ]
    }
   ],
   "source": [
    "reload(extra_analysis)\n",
    "\n",
    "model_location = '../results/classification/final_train_1/model.pt'\n",
    "only_embeddings = False\n",
    "dataset_location = 'sample.csv'\n",
    "additional_name = ''\n",
    "\n",
    "extra_analysis.extra_analysis(model_location, only_embeddings, dataset_location, additional_name)"
   ]
  },
  {
   "cell_type": "code",
   "execution_count": 1,
   "id": "e31612ff-2d06-45a3-ace8-d802076be6ff",
   "metadata": {},
   "outputs": [
    {
     "name": "stderr",
     "output_type": "stream",
     "text": [
      "Error in cpuinfo: prctl(PR_SVE_GET_VL) failed\n"
     ]
    }
   ],
   "source": [
    "import torch"
   ]
  },
  {
   "cell_type": "code",
   "execution_count": 3,
   "id": "3492c501-5df4-416d-b724-5f2603dc920d",
   "metadata": {},
   "outputs": [
    {
     "data": {
      "text/plain": [
       "tensor([[-0.0200,  0.0021,  0.0196,  ..., -0.0172,  0.0190, -0.0045],\n",
       "        [-0.0613,  0.0187,  0.0233,  ..., -0.0310,  0.0006, -0.0754],\n",
       "        [-0.0351, -0.0018,  0.0054,  ...,  0.0069,  0.0111, -0.0318],\n",
       "        ...,\n",
       "        [-0.0349,  0.0127,  0.0071,  ...,  0.0151,  0.0121, -0.0143],\n",
       "        [-0.0382,  0.0254,  0.0044,  ..., -0.0135, -0.0034, -0.0602],\n",
       "        [-0.0474,  0.0047,  0.0309,  ...,  0.0061,  0.0188, -0.0663]])"
      ]
     },
     "execution_count": 3,
     "metadata": {},
     "output_type": "execute_result"
    }
   ],
   "source": [
    "#torch.load('embeddings.pt', weights_only=True)\n",
    "#torch.load('embeddings.pt', weights_only=True)"
   ]
  }
 ],
 "metadata": {
  "kernelspec": {
   "display_name": "Python 3 (ipykernel)",
   "language": "python",
   "name": "python3"
  },
  "language_info": {
   "codemirror_mode": {
    "name": "ipython",
    "version": 3
   },
   "file_extension": ".py",
   "mimetype": "text/x-python",
   "name": "python",
   "nbconvert_exporter": "python",
   "pygments_lexer": "ipython3",
   "version": "3.11.9+"
  }
 },
 "nbformat": 4,
 "nbformat_minor": 5
}
