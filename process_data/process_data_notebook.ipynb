{
 "cells": [
  {
   "cell_type": "code",
   "execution_count": 1,
   "id": "21ebf894-5c96-41d9-918a-c651baadd4cf",
   "metadata": {},
   "outputs": [],
   "source": [
    "import importlib\n",
    "\n",
    "import os\n",
    "import pathlib"
   ]
  },
  {
   "cell_type": "code",
   "execution_count": 2,
   "id": "cad20720-aac9-4c15-93bc-b42228b53027",
   "metadata": {},
   "outputs": [],
   "source": [
    "OAS_FILE_DIR = r'../../datasets/OAS'\n",
    "DATASET_DIR = r'../datasets'"
   ]
  },
  {
   "cell_type": "code",
   "execution_count": 3,
   "id": "013baf6f-1f03-49da-9a58-7a7dabc9b441",
   "metadata": {},
   "outputs": [
    {
     "data": {
      "text/plain": [
       "'only_human-germline_all'"
      ]
     },
     "execution_count": 3,
     "metadata": {},
     "output_type": "execute_result"
    }
   ],
   "source": [
    "ONLY_HUMAN = True\n",
    "GERMLINE_INFO = 'all'\n",
    "\n",
    "PARAMETERS = ''\n",
    "\n",
    "if ONLY_HUMAN: PARAMETERS += 'only_human'\n",
    "PARAMETERS += '-germline_{}'.format(GERMLINE_INFO)\n",
    "\n",
    "#ADDITIONAL = '-SMALL'\n",
    "ADDITIONAL = ''\n",
    "\n",
    "PARAMETERS += ADDITIONAL\n",
    "PARAMETERS"
   ]
  },
  {
   "cell_type": "code",
   "execution_count": 4,
   "id": "430cbe17-2748-4ef9-9f08-900b53703676",
   "metadata": {},
   "outputs": [],
   "source": [
    "DIR = '{}/{}'.format(DATASET_DIR, PARAMETERS)\n",
    "if not pathlib.Path(DIR).exists():\n",
    "    os.mkdir(DIR)"
   ]
  },
  {
   "cell_type": "markdown",
   "id": "eac9dc91-1f27-4bcc-b040-516219b561cd",
   "metadata": {},
   "source": [
    "### Read Raw Data"
   ]
  },
  {
   "cell_type": "code",
   "execution_count": 5,
   "id": "140c64a9-da07-4c46-921a-6ebacae7e02b",
   "metadata": {},
   "outputs": [],
   "source": [
    "import read_raw"
   ]
  },
  {
   "cell_type": "code",
   "execution_count": 6,
   "id": "90045304-6877-4b3a-8b9b-6b420cf256e4",
   "metadata": {},
   "outputs": [],
   "source": [
    "GERMLINE_IDS_FILE = '{}/germline.csv'.format(\n",
    "    DIR,\n",
    ")\n",
    "SEQUENCES_FILE = '{}/sequences.csv'.format(\n",
    "    DIR\n",
    ")\n",
    "\n",
    "SUBSAMPLE = None"
   ]
  },
  {
   "cell_type": "code",
   "execution_count": 7,
   "id": "88b9989c-6403-4c26-be7a-0b13631a955d",
   "metadata": {},
   "outputs": [],
   "source": [
    "COMPUTE_NEW = False"
   ]
  },
  {
   "cell_type": "code",
   "execution_count": 11,
   "id": "5bda9a58-bf92-4494-80ac-6ddc8d6d28e0",
   "metadata": {},
   "outputs": [
    {
     "name": "stdout",
     "output_type": "stream",
     "text": [
      "Reading data...\n",
      "Found 310 files.\n",
      "human:                280\n",
      "mouse_C57BL/6:          2\n",
      "mouse_BALB/c:           8\n",
      "rat_SD:                20\n"
     ]
    },
    {
     "name": "stderr",
     "output_type": "stream",
     "text": [
      "100%|█████████████████████████████████████████████████████████████████████████████████████████████████████████| 280/280 [04:32<00:00,  1.03it/s]\n"
     ]
    },
    {
     "name": "stdout",
     "output_type": "stream",
     "text": [
      "Filtering the data\n",
      "Initial number of rows: 1954079\n",
      "Removed 331160 rows (-16.947%), new number of rows: 1622919.\n",
      "Assining ids...\n",
      "Number of unique heavy: 1604717\n",
      "Number of unique light: 699889\n",
      "Number of unique pairs:  1622674\n",
      "Cleaning the germlines...\n",
      "                                                     heavy  \\\n",
      "0        QVQLVQSGAEVKKPGASVKVSCKASGYTFTGYYMHWVRQAPGQGLE...   \n",
      "1        QVQLVQSGAEVKKPGASVKVSCKASGYTFTSYAMHWVRQAPGQRLE...   \n",
      "2        EVQLVESGGGLVKPGGSLRLSCAASGFTFSNAWMSWVRQAPGKGLE...   \n",
      "3        EVQLLESGGGLVQPGGSLRLSCAASGFTFSSYAMSWVRQAPGKGLE...   \n",
      "4        EVQLLESGGGLVQPGGSLRLSCAASGFTFSSYAMSWVRQAPGKGLE...   \n",
      "...                                                    ...   \n",
      "1622914  QVQLVESGGGLVKPGGSLRLSCAASGFTFSDYYMSWIRQAPGKGLE...   \n",
      "1622915  QVQLVQSGAEVKKPGASVKVSCKASGFALTSYSLHWVRQAPGQGLE...   \n",
      "1622916  EVQLLESGGNLVQPGGSLRLSCAASEFTFTIYAMHWVRQAPGKGLE...   \n",
      "1622917  QVQLQESGPGLVKPSGTLSLTCAVSGGSISSNNCWTWVRQPPGKGL...   \n",
      "1622918  QVQLVQSGAEVKKPGASVKVSCKASGYTFTGYYMHWVRQAPGQGLE...   \n",
      "\n",
      "                                                     light v_call_heavy  \\\n",
      "0        QSVLTQPPSVSEAPRQRVTISCSGSSSNIGNNAVNWYQQLPGKAPK...          HV1   \n",
      "1        SYELTQPPSVSVSPGQTARITCSGDALPKQYAYWYQQKPGQAPVLV...          HV1   \n",
      "2        SYELTQPPSVSVSPGQTARITCSGDALPKKYAYWYQQKSGQAPVLV...          HV3   \n",
      "3        DIQMTQSPSSLSASVGDRVTITCRASQSISSYLNWYQQKPGKAPKL...          HV3   \n",
      "4        DIQMTQSPSSLSASVGDRVTITCRASQGISSWLAWYQQKPEKAPKS...          HV3   \n",
      "...                                                    ...          ...   \n",
      "1622914  DIQMTQSPSTLSASVGDRVTITCRASQSISSWLAWYQQKPGKAPKL...          HV3   \n",
      "1622915  SYVLAQPPSVSVAPGQTARITCGGDNIGSKSVHWYHQKPGQAPVLV...          HV1   \n",
      "1622916  DIQMTQSPSSLSASVGDRVTITCRASQGISNYLAWYQQKPGKAPKL...          HV3   \n",
      "1622917  DIQMTQSPSSVSASVGDRVTITCRASQGISSWLAWYQQKPGKAPKL...          HV4   \n",
      "1622918  QSVLTQPPSVSGAPGQRVTISCTGSSSNIGAGYDVHWYQQLPGTAP...          HV1   \n",
      "\n",
      "        d_call_heavy j_call_heavy v_call_light j_call_light specie  heavy_id  \\\n",
      "0                HD6          HJ6          LV1          LJ2  human         0   \n",
      "1                HD4          HJ6          LV3          LJ1  human         1   \n",
      "2                HD4          HJ4          LV3          LJ3  human         2   \n",
      "3                HD6          HJ4          KV1          KJ2  human         3   \n",
      "4                HD5          HJ4          KV1          KJ1  human         4   \n",
      "...              ...          ...          ...          ...    ...       ...   \n",
      "1622914          HD2          HJ4          KV1          KJ2  human   1604712   \n",
      "1622915          HD3          HJ4          LV3          LJ3  human   1604713   \n",
      "1622916          HD4          HJ4          KV1          KJ4  human   1604714   \n",
      "1622917          HD4          HJ6          KV1          KJ1  human   1604715   \n",
      "1622918          HD1          HJ5          LV1          LJ2  human   1604716   \n",
      "\n",
      "         light_id  pair_id heavy_germline light_germline  \n",
      "0               0        0    HV1-HD6-HJ6        LV1-LJ2  \n",
      "1               1        1    HV1-HD4-HJ6        LV3-LJ1  \n",
      "2               2        2    HV3-HD4-HJ4        LV3-LJ3  \n",
      "3               3        3    HV3-HD6-HJ4        KV1-KJ2  \n",
      "4               4        4    HV3-HD5-HJ4        KV1-KJ1  \n",
      "...           ...      ...            ...            ...  \n",
      "1622914    699885  1622669    HV3-HD2-HJ4        KV1-KJ2  \n",
      "1622915    699886  1622670    HV1-HD3-HJ4        LV3-LJ3  \n",
      "1622916    699887  1622671    HV3-HD4-HJ4        KV1-KJ4  \n",
      "1622917    699888  1622672    HV4-HD4-HJ6        KV1-KJ1  \n",
      "1622918     66353  1622673    HV1-HD1-HJ5        LV1-LJ2  \n",
      "\n",
      "[1622919 rows x 13 columns]\n",
      "v_call_heavy     7\n",
      "d_call_heavy     7\n",
      "j_call_heavy     6\n",
      "v_call_light    18\n",
      "j_call_light    12\n",
      "dtype: int64\n"
     ]
    }
   ],
   "source": [
    "importlib.reload(read_raw)\n",
    "if COMPUTE_NEW:\n",
    "    read_raw.read_raw(location=OAS_FILE_DIR, output_location=SEQUENCES_FILE, \n",
    "                      germline_ids_location=GERMLINE_IDS_FILE,\n",
    "                      subsample=SUBSAMPLE, only_human=ONLY_HUMAN, which_germline=GERMLINE_INFO)"
   ]
  },
  {
   "cell_type": "code",
   "execution_count": 13,
   "id": "b2548294-3d84-4013-8859-fb9a58626a43",
   "metadata": {},
   "outputs": [
    {
     "data": {
      "text/plain": [
       "'../datasets/only_human-germline_all/germline.csv'"
      ]
     },
     "execution_count": 13,
     "metadata": {},
     "output_type": "execute_result"
    }
   ],
   "source": [
    "GERMLINE_IDS_FILE"
   ]
  },
  {
   "cell_type": "code",
   "execution_count": 14,
   "id": "f09b0a72-9c62-442c-bead-7fd5153f2559",
   "metadata": {},
   "outputs": [
    {
     "data": {
      "text/plain": [
       "'../datasets/only_human-germline_all/sequences.csv'"
      ]
     },
     "execution_count": 14,
     "metadata": {},
     "output_type": "execute_result"
    }
   ],
   "source": [
    "SEQUENCES_FILE"
   ]
  },
  {
   "cell_type": "markdown",
   "id": "33eb7d8d-e0d2-4f44-9590-253388000868",
   "metadata": {},
   "source": [
    "### Random Pairing"
   ]
  },
  {
   "cell_type": "code",
   "execution_count": 8,
   "id": "431404fd-8a6f-42ae-8bd0-ce3d268367c0",
   "metadata": {},
   "outputs": [],
   "source": [
    "import random_pairing"
   ]
  },
  {
   "cell_type": "code",
   "execution_count": 9,
   "id": "2ecbada0-63cb-4554-9ea7-c851fc0192fe",
   "metadata": {},
   "outputs": [],
   "source": [
    "RANDOM_PAIRING_FILE = '{}/random_pairing.csv'.format(\n",
    "    DIR,\n",
    ")\n",
    "\n",
    "NUMBER = None"
   ]
  },
  {
   "cell_type": "code",
   "execution_count": 10,
   "id": "d58c0cca-8b0b-475d-8587-83e1447bdbc6",
   "metadata": {},
   "outputs": [],
   "source": [
    "COMPUTE_NEW = False"
   ]
  },
  {
   "cell_type": "code",
   "execution_count": 10,
   "id": "55a04956-018f-4a7d-954e-40f9ab05523d",
   "metadata": {},
   "outputs": [
    {
     "name": "stdout",
     "output_type": "stream",
     "text": [
      "Sampling 1622802 random pairs\n",
      "Saved: ../datasets/only_human-germline_all/random_pairing.csv\n"
     ]
    }
   ],
   "source": [
    "importlib.reload(random_pairing)\n",
    "if COMPUTE_NEW:\n",
    "    random_pairing.random_pairing(location=SEQUENCES_FILE, germline_ids_location=GERMLINE_IDS_FILE,\n",
    "                                  output_location=RANDOM_PAIRING_FILE, n=NUMBER)"
   ]
  },
  {
   "cell_type": "markdown",
   "id": "2c06b4a2-f10a-48fa-8608-31a1bd7d40bf",
   "metadata": {},
   "source": [
    "### Germline Pairing"
   ]
  },
  {
   "cell_type": "code",
   "execution_count": 11,
   "id": "be2ac80a-981c-4a10-a3ed-24db3050d647",
   "metadata": {},
   "outputs": [],
   "source": [
    "import germline_pairing"
   ]
  },
  {
   "cell_type": "code",
   "execution_count": 12,
   "id": "8c0c252d-0b65-458f-9cc8-17f9f7b8064e",
   "metadata": {},
   "outputs": [],
   "source": [
    "ALPHA = 1000\n",
    "GERMLINE_PAIRING_FILE = '{}/germline_pairing-{}.csv'.format(\n",
    "    DIR,\n",
    "    'alpha_{}'.format(ALPHA)\n",
    ")\n",
    "\n",
    "NUMBER = None"
   ]
  },
  {
   "cell_type": "code",
   "execution_count": 13,
   "id": "107df979-51b4-45a5-b237-e01ec518adbb",
   "metadata": {},
   "outputs": [],
   "source": [
    "COMPUTE_NEW = False"
   ]
  },
  {
   "cell_type": "code",
   "execution_count": 14,
   "id": "c3f6d2cb-3ebc-42f9-a4a7-00cb4f765904",
   "metadata": {},
   "outputs": [
    {
     "name": "stdout",
     "output_type": "stream",
     "text": [
      "9928 out of 22344 of only zeros\n"
     ]
    },
    {
     "name": "stderr",
     "output_type": "stream",
     "text": [
      "  8%|████████                                                                                                | 770/9928 [04:01<47:53,  3.19it/s]\n"
     ]
    },
    {
     "ename": "KeyboardInterrupt",
     "evalue": "",
     "output_type": "error",
     "traceback": [
      "\u001b[0;31m---------------------------------------------------------------------------\u001b[0m",
      "\u001b[0;31mKeyboardInterrupt\u001b[0m                         Traceback (most recent call last)",
      "Cell \u001b[0;32mIn[14], line 3\u001b[0m\n\u001b[1;32m      1\u001b[0m importlib\u001b[38;5;241m.\u001b[39mreload(germline_pairing)\n\u001b[1;32m      2\u001b[0m \u001b[38;5;28;01mif\u001b[39;00m COMPUTE_NEW:\n\u001b[0;32m----> 3\u001b[0m     \u001b[43mgermline_pairing\u001b[49m\u001b[38;5;241;43m.\u001b[39;49m\u001b[43mgermline_pairing\u001b[49m\u001b[43m(\u001b[49m\u001b[43mlocation\u001b[49m\u001b[38;5;241;43m=\u001b[39;49m\u001b[43mSEQUENCES_FILE\u001b[49m\u001b[43m,\u001b[49m\u001b[43m \u001b[49m\u001b[43mgermline_ids_location\u001b[49m\u001b[38;5;241;43m=\u001b[39;49m\u001b[43mGERMLINE_IDS_FILE\u001b[49m\u001b[43m,\u001b[49m\n\u001b[1;32m      4\u001b[0m \u001b[43m                                      \u001b[49m\u001b[43moutput_location\u001b[49m\u001b[38;5;241;43m=\u001b[39;49m\u001b[43mGERMLINE_PAIRING_FILE\u001b[49m\u001b[43m,\u001b[49m\u001b[43m \u001b[49m\u001b[43malpha\u001b[49m\u001b[38;5;241;43m=\u001b[39;49m\u001b[43mALPHA\u001b[49m\u001b[43m,\u001b[49m\u001b[43m \u001b[49m\u001b[43mn\u001b[49m\u001b[38;5;241;43m=\u001b[39;49m\u001b[43mNUMBER\u001b[49m\u001b[43m)\u001b[49m\n",
      "File \u001b[0;32m/disk1/e.darco/thesis/process_data/germline_pairing.py:120\u001b[0m, in \u001b[0;36mgermline_pairing\u001b[0;34m(location, output_location, germline_ids_location, n, alpha)\u001b[0m\n\u001b[1;32m    117\u001b[0m \u001b[38;5;28;01mif\u001b[39;00m n \u001b[38;5;241m==\u001b[39m \u001b[38;5;28;01mNone\u001b[39;00m: n \u001b[38;5;241m=\u001b[39m \u001b[38;5;28mlen\u001b[39m(df)\n\u001b[1;32m    118\u001b[0m \u001b[38;5;66;03m#sampled_pairs = sample_zeros(germline_pairing_df, n)\u001b[39;00m\n\u001b[1;32m    119\u001b[0m \u001b[38;5;66;03m#print(sampled_pairs)\u001b[39;00m\n\u001b[0;32m--> 120\u001b[0m sampled_pairs \u001b[38;5;241m=\u001b[39m \u001b[43msample_zeros_v2\u001b[49m\u001b[43m(\u001b[49m\u001b[43mdf\u001b[49m\u001b[43m,\u001b[49m\u001b[43m \u001b[49m\u001b[43mgermline_pairing_df\u001b[49m\u001b[43m,\u001b[49m\u001b[43m \u001b[49m\u001b[43mn\u001b[49m\u001b[43m,\u001b[49m\u001b[43m \u001b[49m\u001b[43malpha\u001b[49m\u001b[43m)\u001b[49m\n\u001b[1;32m    121\u001b[0m \u001b[38;5;66;03m#print(sampled_pairs)\u001b[39;00m\n\u001b[1;32m    123\u001b[0m df_original \u001b[38;5;241m=\u001b[39m df\n",
      "File \u001b[0;32m/disk1/e.darco/thesis/process_data/germline_pairing.py:48\u001b[0m, in \u001b[0;36msample_zeros_v2\u001b[0;34m(df, df_pairing, how_many, alpha)\u001b[0m\n\u001b[1;32m     46\u001b[0m total_sum \u001b[38;5;241m=\u001b[39m \u001b[38;5;241m0\u001b[39m\n\u001b[1;32m     47\u001b[0m \u001b[38;5;28;01mfor\u001b[39;00m _, row \u001b[38;5;129;01min\u001b[39;00m tqdm(only_zeros\u001b[38;5;241m.\u001b[39miterrows(), total\u001b[38;5;241m=\u001b[39m\u001b[38;5;28mlen\u001b[39m(only_zeros)):\n\u001b[0;32m---> 48\u001b[0m     number_of_heavy_germline \u001b[38;5;241m=\u001b[39m \u001b[38;5;28mlen\u001b[39m(df[\u001b[43mdf\u001b[49m\u001b[43m[\u001b[49m\u001b[38;5;124;43m'\u001b[39;49m\u001b[38;5;124;43mheavy_germline\u001b[39;49m\u001b[38;5;124;43m'\u001b[39;49m\u001b[43m]\u001b[49m\u001b[43m \u001b[49m\u001b[38;5;241;43m==\u001b[39;49m\u001b[43m \u001b[49m\u001b[43mrow\u001b[49m\u001b[43m[\u001b[49m\u001b[38;5;124;43m'\u001b[39;49m\u001b[38;5;124;43mheavy_germline\u001b[39;49m\u001b[38;5;124;43m'\u001b[39;49m\u001b[43m]\u001b[49m])\n\u001b[1;32m     49\u001b[0m     number_of_light_germline \u001b[38;5;241m=\u001b[39m \u001b[38;5;28mlen\u001b[39m(df[df[\u001b[38;5;124m'\u001b[39m\u001b[38;5;124mlight_germline\u001b[39m\u001b[38;5;124m'\u001b[39m] \u001b[38;5;241m==\u001b[39m row[\u001b[38;5;124m'\u001b[39m\u001b[38;5;124mlight_germline\u001b[39m\u001b[38;5;124m'\u001b[39m]])\n\u001b[1;32m     50\u001b[0m     number_of_combinations \u001b[38;5;241m=\u001b[39m number_of_heavy_germline \u001b[38;5;241m*\u001b[39m number_of_light_germline\n",
      "File \u001b[0;32m/disk1/e.darco/venvs/pytorch-nightly/lib/python3.11/site-packages/pandas/core/ops/common.py:76\u001b[0m, in \u001b[0;36m_unpack_zerodim_and_defer.<locals>.new_method\u001b[0;34m(self, other)\u001b[0m\n\u001b[1;32m     72\u001b[0m             \u001b[38;5;28;01mreturn\u001b[39;00m \u001b[38;5;28mNotImplemented\u001b[39m\n\u001b[1;32m     74\u001b[0m other \u001b[38;5;241m=\u001b[39m item_from_zerodim(other)\n\u001b[0;32m---> 76\u001b[0m \u001b[38;5;28;01mreturn\u001b[39;00m \u001b[43mmethod\u001b[49m\u001b[43m(\u001b[49m\u001b[38;5;28;43mself\u001b[39;49m\u001b[43m,\u001b[49m\u001b[43m \u001b[49m\u001b[43mother\u001b[49m\u001b[43m)\u001b[49m\n",
      "File \u001b[0;32m/disk1/e.darco/venvs/pytorch-nightly/lib/python3.11/site-packages/pandas/core/arraylike.py:40\u001b[0m, in \u001b[0;36mOpsMixin.__eq__\u001b[0;34m(self, other)\u001b[0m\n\u001b[1;32m     38\u001b[0m \u001b[38;5;129m@unpack_zerodim_and_defer\u001b[39m(\u001b[38;5;124m\"\u001b[39m\u001b[38;5;124m__eq__\u001b[39m\u001b[38;5;124m\"\u001b[39m)\n\u001b[1;32m     39\u001b[0m \u001b[38;5;28;01mdef\u001b[39;00m \u001b[38;5;21m__eq__\u001b[39m(\u001b[38;5;28mself\u001b[39m, other):\n\u001b[0;32m---> 40\u001b[0m     \u001b[38;5;28;01mreturn\u001b[39;00m \u001b[38;5;28;43mself\u001b[39;49m\u001b[38;5;241;43m.\u001b[39;49m\u001b[43m_cmp_method\u001b[49m\u001b[43m(\u001b[49m\u001b[43mother\u001b[49m\u001b[43m,\u001b[49m\u001b[43m \u001b[49m\u001b[43moperator\u001b[49m\u001b[38;5;241;43m.\u001b[39;49m\u001b[43meq\u001b[49m\u001b[43m)\u001b[49m\n",
      "File \u001b[0;32m/disk1/e.darco/venvs/pytorch-nightly/lib/python3.11/site-packages/pandas/core/series.py:6119\u001b[0m, in \u001b[0;36mSeries._cmp_method\u001b[0;34m(self, other, op)\u001b[0m\n\u001b[1;32m   6116\u001b[0m lvalues \u001b[38;5;241m=\u001b[39m \u001b[38;5;28mself\u001b[39m\u001b[38;5;241m.\u001b[39m_values\n\u001b[1;32m   6117\u001b[0m rvalues \u001b[38;5;241m=\u001b[39m extract_array(other, extract_numpy\u001b[38;5;241m=\u001b[39m\u001b[38;5;28;01mTrue\u001b[39;00m, extract_range\u001b[38;5;241m=\u001b[39m\u001b[38;5;28;01mTrue\u001b[39;00m)\n\u001b[0;32m-> 6119\u001b[0m res_values \u001b[38;5;241m=\u001b[39m \u001b[43mops\u001b[49m\u001b[38;5;241;43m.\u001b[39;49m\u001b[43mcomparison_op\u001b[49m\u001b[43m(\u001b[49m\u001b[43mlvalues\u001b[49m\u001b[43m,\u001b[49m\u001b[43m \u001b[49m\u001b[43mrvalues\u001b[49m\u001b[43m,\u001b[49m\u001b[43m \u001b[49m\u001b[43mop\u001b[49m\u001b[43m)\u001b[49m\n\u001b[1;32m   6121\u001b[0m \u001b[38;5;28;01mreturn\u001b[39;00m \u001b[38;5;28mself\u001b[39m\u001b[38;5;241m.\u001b[39m_construct_result(res_values, name\u001b[38;5;241m=\u001b[39mres_name)\n",
      "File \u001b[0;32m/disk1/e.darco/venvs/pytorch-nightly/lib/python3.11/site-packages/pandas/core/ops/array_ops.py:344\u001b[0m, in \u001b[0;36mcomparison_op\u001b[0;34m(left, right, op)\u001b[0m\n\u001b[1;32m    341\u001b[0m     \u001b[38;5;28;01mreturn\u001b[39;00m invalid_comparison(lvalues, rvalues, op)\n\u001b[1;32m    343\u001b[0m \u001b[38;5;28;01melif\u001b[39;00m lvalues\u001b[38;5;241m.\u001b[39mdtype \u001b[38;5;241m==\u001b[39m \u001b[38;5;28mobject\u001b[39m \u001b[38;5;129;01mor\u001b[39;00m \u001b[38;5;28misinstance\u001b[39m(rvalues, \u001b[38;5;28mstr\u001b[39m):\n\u001b[0;32m--> 344\u001b[0m     res_values \u001b[38;5;241m=\u001b[39m \u001b[43mcomp_method_OBJECT_ARRAY\u001b[49m\u001b[43m(\u001b[49m\u001b[43mop\u001b[49m\u001b[43m,\u001b[49m\u001b[43m \u001b[49m\u001b[43mlvalues\u001b[49m\u001b[43m,\u001b[49m\u001b[43m \u001b[49m\u001b[43mrvalues\u001b[49m\u001b[43m)\u001b[49m\n\u001b[1;32m    346\u001b[0m \u001b[38;5;28;01melse\u001b[39;00m:\n\u001b[1;32m    347\u001b[0m     res_values \u001b[38;5;241m=\u001b[39m _na_arithmetic_op(lvalues, rvalues, op, is_cmp\u001b[38;5;241m=\u001b[39m\u001b[38;5;28;01mTrue\u001b[39;00m)\n",
      "File \u001b[0;32m/disk1/e.darco/venvs/pytorch-nightly/lib/python3.11/site-packages/pandas/core/ops/array_ops.py:129\u001b[0m, in \u001b[0;36mcomp_method_OBJECT_ARRAY\u001b[0;34m(op, x, y)\u001b[0m\n\u001b[1;32m    127\u001b[0m     result \u001b[38;5;241m=\u001b[39m libops\u001b[38;5;241m.\u001b[39mvec_compare(x\u001b[38;5;241m.\u001b[39mravel(), y\u001b[38;5;241m.\u001b[39mravel(), op)\n\u001b[1;32m    128\u001b[0m \u001b[38;5;28;01melse\u001b[39;00m:\n\u001b[0;32m--> 129\u001b[0m     result \u001b[38;5;241m=\u001b[39m \u001b[43mlibops\u001b[49m\u001b[38;5;241;43m.\u001b[39;49m\u001b[43mscalar_compare\u001b[49m\u001b[43m(\u001b[49m\u001b[43mx\u001b[49m\u001b[38;5;241;43m.\u001b[39;49m\u001b[43mravel\u001b[49m\u001b[43m(\u001b[49m\u001b[43m)\u001b[49m\u001b[43m,\u001b[49m\u001b[43m \u001b[49m\u001b[43my\u001b[49m\u001b[43m,\u001b[49m\u001b[43m \u001b[49m\u001b[43mop\u001b[49m\u001b[43m)\u001b[49m\n\u001b[1;32m    130\u001b[0m \u001b[38;5;28;01mreturn\u001b[39;00m result\u001b[38;5;241m.\u001b[39mreshape(x\u001b[38;5;241m.\u001b[39mshape)\n",
      "\u001b[0;31mKeyboardInterrupt\u001b[0m: "
     ]
    }
   ],
   "source": [
    "importlib.reload(germline_pairing)\n",
    "if COMPUTE_NEW:\n",
    "    germline_pairing.germline_pairing(location=SEQUENCES_FILE, germline_ids_location=GERMLINE_IDS_FILE,\n",
    "                                      output_location=GERMLINE_PAIRING_FILE, alpha=ALPHA, n=NUMBER)"
   ]
  },
  {
   "cell_type": "code",
   "execution_count": 18,
   "id": "583fdb1a-e85f-4663-90f6-f09739a4e651",
   "metadata": {},
   "outputs": [
    {
     "data": {
      "text/plain": [
       "'../datasets/only_human-germline_all/germline_pairing-alpha_1000.csv'"
      ]
     },
     "execution_count": 18,
     "metadata": {},
     "output_type": "execute_result"
    }
   ],
   "source": [
    "GERMLINE_PAIRING_FILE"
   ]
  },
  {
   "cell_type": "markdown",
   "id": "35e03157-ff50-4be1-a1d8-3850ae3bdf08",
   "metadata": {},
   "source": [
    "### Generate FASTA"
   ]
  },
  {
   "cell_type": "code",
   "execution_count": 14,
   "id": "ee64adb3-389c-45aa-93c1-48f162dced5c",
   "metadata": {},
   "outputs": [],
   "source": [
    "import generate_fasta"
   ]
  },
  {
   "cell_type": "code",
   "execution_count": 15,
   "id": "2bb34cf6-9e3e-4b89-a9fa-03efa3e0b1c4",
   "metadata": {},
   "outputs": [],
   "source": [
    "COMPUTE_NEW = True"
   ]
  },
  {
   "cell_type": "code",
   "execution_count": 16,
   "id": "15c457d4-e38d-4c38-947a-f16f4a7e9c54",
   "metadata": {},
   "outputs": [
    {
     "name": "stderr",
     "output_type": "stream",
     "text": [
      "100%|██████████████████████████████████████████████████████████████████████████████████████████████| 1622802/1622802 [01:11<00:00, 22568.06it/s]\n"
     ]
    },
    {
     "name": "stdout",
     "output_type": "stream",
     "text": [
      "Saved: ../datasets/only_human-germline_all/fasta_files/sequences.fasta\n"
     ]
    },
    {
     "name": "stderr",
     "output_type": "stream",
     "text": [
      "100%|██████████████████████████████████████████████████████████████████████████████████████████████| 1622802/1622802 [01:11<00:00, 22792.04it/s]\n"
     ]
    },
    {
     "name": "stdout",
     "output_type": "stream",
     "text": [
      "Saved: ../datasets/only_human-germline_all/fasta_files/random_pairing.fasta\n"
     ]
    },
    {
     "name": "stderr",
     "output_type": "stream",
     "text": [
      "100%|██████████████████████████████████████████████████████████████████████████████████████████████| 1622802/1622802 [01:11<00:00, 22794.68it/s]\n"
     ]
    },
    {
     "name": "stdout",
     "output_type": "stream",
     "text": [
      "Saved: ../datasets/only_human-germline_all/fasta_files/germline_pairing.fasta\n"
     ]
    }
   ],
   "source": [
    "if COMPUTE_NEW:\n",
    "    if not pathlib.Path('{}/fasta_files/'.format(DIR)).exists():\n",
    "        os.mkdir('{}/fasta_files/'.format(DIR))\n",
    "    generate_fasta.generate_fasta(SEQUENCES_FILE, '{}/fasta_files/sequences.fasta'.format(DIR))\n",
    "    generate_fasta.generate_fasta(RANDOM_PAIRING_FILE, '{}/fasta_files/random_pairing.fasta'.format(DIR))\n",
    "    generate_fasta.generate_fasta(GERMLINE_PAIRING_FILE, '{}/fasta_files/germline_pairing.fasta'.format(DIR))"
   ]
  },
  {
   "cell_type": "markdown",
   "id": "8ca9697e-328b-4271-a55c-185ff838ba7e",
   "metadata": {
    "jp-MarkdownHeadingCollapsed": true
   },
   "source": [
    "### Clustering"
   ]
  },
  {
   "cell_type": "code",
   "execution_count": 17,
   "id": "4fb6e350-bc9e-4519-a916-8a5e62bb4682",
   "metadata": {},
   "outputs": [],
   "source": [
    "import os\n",
    "import pathlib\n",
    "\n",
    "CLUSTERING_DIR = '{}/clustering'.format(\n",
    "    DIR,\n",
    ")\n",
    "\n",
    "if not pathlib.Path(CLUSTERING_DIR).exists():\n",
    "    os.makedirs(CLUSTERING_DIR)\n",
    "\n",
    "MIN_SEQ_ID = 0.8\n",
    "\n",
    "commands = 'source cluster.sh {} {} {} {}\\n'.format(\n",
    "    DIR, \n",
    "    'fasta_files/sequences.fasta', \n",
    "    'clustering/sequences', \n",
    "    MIN_SEQ_ID\n",
    ")\n",
    "\n",
    "commands += 'source cluster.sh {} {} {} {}\\n'.format(\n",
    "    DIR, \n",
    "    'fasta_files/random_pairing.fasta', \n",
    "    'clustering/random_pairing', \n",
    "    MIN_SEQ_ID\n",
    ")\n",
    "\n",
    "commands += 'source cluster.sh {} {} {} {}\\n'.format(\n",
    "    DIR, \n",
    "    'fasta_files/germline_pairing.fasta', \n",
    "    'clustering/germline_pairing', \n",
    "    MIN_SEQ_ID\n",
    ")\n",
    "\n",
    "commands += 'rm -rf {}/fasta_files'.format(DATASET_DIR)\n",
    "\n",
    "with open('clustering_commands.sh', 'w') as f:\n",
    "    f.write(commands)"
   ]
  },
  {
   "cell_type": "raw",
   "id": "beed6bd0-dd6f-48a9-b093-3615d8cd3d6c",
   "metadata": {},
   "source": [
    "Go and run \"source clustering_commands.sh\""
   ]
  },
  {
   "cell_type": "markdown",
   "id": "f421d017-1ef4-4f61-b673-dd981b62e418",
   "metadata": {
    "jp-MarkdownHeadingCollapsed": true
   },
   "source": [
    "### Split"
   ]
  },
  {
   "cell_type": "code",
   "execution_count": 18,
   "id": "32745798-f6fb-4bc1-ab1c-4a0fb947fdb1",
   "metadata": {},
   "outputs": [],
   "source": [
    "import split"
   ]
  },
  {
   "cell_type": "code",
   "execution_count": 21,
   "id": "eb5ec736-75df-4b78-bbf5-aee460f365d5",
   "metadata": {},
   "outputs": [
    {
     "data": {
      "text/plain": [
       "'../datasets/only_human-germline_all/splits'"
      ]
     },
     "execution_count": 21,
     "metadata": {},
     "output_type": "execute_result"
    }
   ],
   "source": [
    "SEQUENCES_CLUSTER = '{}/sequences.tsv'.format(CLUSTERING_DIR)\n",
    "RANDOM_PAIRING_CLUSTER = '{}/random_pairing.tsv'.format(CLUSTERING_DIR)\n",
    "GERMLINE_PAIRING_CLUSTER = '{}/germline_pairing.tsv'.format(CLUSTERING_DIR)\n",
    "\n",
    "ONLY_REPRESENTATIVE = False\n",
    "\n",
    "OUTPUT_DIRECTORY = '{}/splits'.format(DIR)\n",
    "\n",
    "if ONLY_REPRESENTATIVE: OUTPUT_DIRECTORY += '-only-representative'\n",
    "\n",
    "if not pathlib.Path(OUTPUT_DIRECTORY).exists():\n",
    "    os.mkdir(OUTPUT_DIRECTORY)\n",
    "\n",
    "#OUTPUT_DIRECTORY = '{}/splits{}{}'.format(\n",
    "#    DATASET_DIR, \n",
    "#    '' if PARAMETERS == '' else '-' + PARAMETERS,\n",
    "#    '' if ONLY_REPRESENTATIVE is False else '-only_representative'\n",
    "#)\n",
    "\n",
    "OUTPUT_DIRECTORY"
   ]
  },
  {
   "cell_type": "code",
   "execution_count": 22,
   "id": "a391058b-21b1-42e3-ba81-d41dce0dda90",
   "metadata": {},
   "outputs": [],
   "source": [
    "COMPUTE_NEW = True"
   ]
  },
  {
   "cell_type": "code",
   "execution_count": 23,
   "id": "4789c887-0c16-481b-8025-a6dbff30a944",
   "metadata": {},
   "outputs": [
    {
     "name": "stdout",
     "output_type": "stream",
     "text": [
      "There are 1622802 paired sequences with 1357063 clusters.\n",
      "There are 1622802 negative paired sequences with 1368195 clusters.\n",
      "../datasets/only_human-germline_all/splits/train_random.csv\n",
      "There are 1622802 paired sequences with 1357063 clusters.\n",
      "There are 1622802 negative paired sequences with 1212314 clusters.\n",
      "../datasets/only_human-germline_all/splits/train_germline.csv\n"
     ]
    }
   ],
   "source": [
    "importlib.reload(split)\n",
    "if COMPUTE_NEW:\n",
    "    split.split(SEQUENCES_CLUSTER, RANDOM_PAIRING_CLUSTER, \n",
    "                SEQUENCES_FILE, RANDOM_PAIRING_FILE,\n",
    "                proportions=[50, 25, 25], output_location=OUTPUT_DIRECTORY,\n",
    "                only_representative=True,\n",
    "                additional_name='random')\n",
    "    split.split(SEQUENCES_CLUSTER, GERMLINE_PAIRING_CLUSTER, \n",
    "                SEQUENCES_FILE, GERMLINE_PAIRING_FILE,\n",
    "                proportions=[50, 25, 25], output_location=OUTPUT_DIRECTORY,\n",
    "                only_representative=True,\n",
    "                additional_name='germline')"
   ]
  },
  {
   "cell_type": "markdown",
   "id": "f2cdccb5-dc38-48a6-9f67-821782f24996",
   "metadata": {
    "jp-MarkdownHeadingCollapsed": true
   },
   "source": [
    "### Run this test\n",
    "\n",
    "Per eviteare di creare un altro fine ho messo tutto qua, anche l'analisi."
   ]
  },
  {
   "cell_type": "code",
   "execution_count": 4,
   "id": "39b3b2e9-f4f9-4315-9c00-954975a63900",
   "metadata": {},
   "outputs": [],
   "source": [
    "import pandas as pd\n",
    "from collections import defaultdict\n",
    "import matplotlib.pyplot as plt\n",
    "import numpy as np\n",
    "from random import sample\n",
    "from itertools import combinations\n",
    "from Levenshtein import distance\n",
    "\n",
    "import generate_fasta"
   ]
  },
  {
   "cell_type": "code",
   "execution_count": 5,
   "id": "ad840e22-2ee3-4cc1-ac21-4889bc78818f",
   "metadata": {},
   "outputs": [],
   "source": [
    "HEAVY_FASTA_FILE = '{}/test/heavy_fasta.fasta'.format(DATASET_DIR)"
   ]
  },
  {
   "cell_type": "code",
   "execution_count": 6,
   "id": "88572b76-4ac6-4fdd-b5c0-303719497372",
   "metadata": {},
   "outputs": [
    {
     "name": "stderr",
     "output_type": "stream",
     "text": [
      "100%|██████████████████████████████| 1674216/1674216 [01:10<00:00, 23839.24it/s]\n"
     ]
    },
    {
     "name": "stdout",
     "output_type": "stream",
     "text": [
      "Saved: ../datasets/test/heavy_fasta.fasta\n"
     ]
    }
   ],
   "source": [
    "generate_fasta.generate_fasta(SEQUENCES_FILE, HEAVY_FASTA_FILE, which='heavy')"
   ]
  },
  {
   "cell_type": "raw",
   "id": "f24c2cfd-e46d-4e3e-862e-c843d6f92e96",
   "metadata": {},
   "source": [
    "source cluster.sh ../datasets test/heavy_fasta.fasta ../datasets/test/heavy_cluster 0.8"
   ]
  },
  {
   "cell_type": "code",
   "execution_count": 64,
   "id": "6d3b50c1-17d2-4ba4-978c-334ceff32417",
   "metadata": {},
   "outputs": [],
   "source": [
    "# Read the cluster data\n",
    "\n",
    "heavy_clusters = pd.read_csv('../datasets/test/heavy_cluster.tsv', sep='\\t', header=None).rename(\n",
    "    {\n",
    "        0: 'Representative',\n",
    "        1: 'Sequence'\n",
    "    },\n",
    "    axis=1\n",
    ").drop_duplicates()"
   ]
  },
  {
   "cell_type": "code",
   "execution_count": 65,
   "id": "62267ded-7cf9-497a-9ac3-602078167636",
   "metadata": {},
   "outputs": [
    {
     "name": "stdout",
     "output_type": "stream",
     "text": [
      "  Number of sequences: 1655037\n",
      "   Number of clusters:  849219\n",
      "              Average:    1.95\n",
      "  Number of singleton:  764724\n",
      "      Biggest cluster:   41029\n"
     ]
    }
   ],
   "source": [
    "cluster_sizes = [len(d) for _, d in heavy_clusters.groupby('Representative')]\n",
    "\n",
    "print('{:>22}{:8}'.format('Number of sequences:', sum(cluster_sizes)))\n",
    "print('{:>22}{:8}'.format('Number of clusters:', len(cluster_sizes)))\n",
    "print('{:>22}{:8.2f}'.format('Average:', sum(cluster_sizes) / len(cluster_sizes)))\n",
    "print('{:>22}{:8}'.format('Number of singleton:', len(list(filter(lambda x: x == 1, cluster_sizes)))))\n",
    "print('{:>22}{:8}'.format('Biggest cluster:', max(cluster_sizes)))"
   ]
  },
  {
   "cell_type": "code",
   "execution_count": 66,
   "id": "c31fd9ae-ffca-4563-af0e-72ea3d5b3240",
   "metadata": {},
   "outputs": [],
   "source": [
    "counter = defaultdict(int)\n",
    "for i in cluster_sizes:\n",
    "    counter[i] += 1"
   ]
  },
  {
   "cell_type": "code",
   "execution_count": 67,
   "id": "800e60f5-718b-41cd-bc7e-d483f3af2b16",
   "metadata": {},
   "outputs": [
    {
     "data": {
      "text/plain": [
       "<matplotlib.collections.PathCollection at 0xfe737a7f6990>"
      ]
     },
     "execution_count": 67,
     "metadata": {},
     "output_type": "execute_result"
    },
    {
     "data": {
      "image/png": "[encoded data removed]",
      "text/plain": [
       "<Figure size 640x480 with 1 Axes>"
      ]
     },
     "metadata": {},
     "output_type": "display_data"
    }
   ],
   "source": [
    "fig, axs = plt.subplots(1)\n",
    "\n",
    "axs.scatter(np.log10(sorted(counter.keys())), np.log10([counter[k] for k in sorted(counter.keys())]), s=10)"
   ]
  },
  {
   "cell_type": "code",
   "execution_count": 68,
   "id": "ec6a525a-2337-46d0-973c-9c2292f17516",
   "metadata": {},
   "outputs": [],
   "source": [
    "cluster_sizes_dict = {\n",
    "    'Representative': [],\n",
    "    'size': []\n",
    "}\n",
    "for seq_id, data in heavy_clusters.groupby('Representative'):\n",
    "    cluster_sizes_dict['Representative'].append(seq_id)\n",
    "    cluster_sizes_dict['size'].append(len(data))\n",
    "\n",
    "cluster_sizes = pd.DataFrame(cluster_sizes_dict)"
   ]
  },
  {
   "cell_type": "code",
   "execution_count": 69,
   "id": "ef492274-fc77-4bd6-8a27-417406a11d62",
   "metadata": {},
   "outputs": [],
   "source": [
    "# Filter out all the clusters having a size smaller then the minimal\n",
    "\n",
    "min_cluster_size = 5\n",
    "cluster_sizes = cluster_sizes[cluster_sizes['size'] >= min_cluster_size]\n",
    "\n",
    "heavy_clusters = heavy_clusters.merge(cluster_sizes)\n",
    "heavy_clusters = heavy_clusters[['Representative', 'Sequence']]"
   ]
  },
  {
   "cell_type": "code",
   "execution_count": 70,
   "id": "4b278bea-28f3-43b1-aee0-08dec05f4245",
   "metadata": {},
   "outputs": [],
   "source": [
    "# Sample a number of clusters\n",
    "\n",
    "to_sample = 1000\n",
    "\n",
    "representative_sample = heavy_clusters['Representative'].drop_duplicates().sample(to_sample)\n",
    "heavy_clusters = heavy_clusters.merge(representative_sample)"
   ]
  },
  {
   "cell_type": "code",
   "execution_count": 74,
   "id": "3e2a0d41-fd25-4b91-ad12-891f3edb12c0",
   "metadata": {},
   "outputs": [],
   "source": [
    "sequences = pd.read_csv('../datasets/sequences-only_human-germline_j.csv', index_col=0)\n",
    "sequences_heavy = sequences[['heavy_id', 'heavy']].drop_duplicates()"
   ]
  },
  {
   "cell_type": "code",
   "execution_count": 79,
   "id": "a9225260-4b11-4fca-ab2a-01d9620de9ab",
   "metadata": {},
   "outputs": [],
   "source": [
    "representative_sequences_sample = sequences_heavy.merge(heavy_clusters, left_on='heavy_id', right_on='Representative')\n",
    "representative_sequences_sample = representative_sequences_sample['heavy'].drop_duplicates()"
   ]
  },
  {
   "cell_type": "code",
   "execution_count": 80,
   "id": "2fcf4a47-42f7-48a9-a436-88f4d6c7f875",
   "metadata": {},
   "outputs": [],
   "source": [
    "inter_cluster_distances = []\n",
    "for x, y in combinations(representative_sequences_sample, 2):\n",
    "    inter_cluster_distances.append(distance(x, y))"
   ]
  },
  {
   "cell_type": "code",
   "execution_count": 81,
   "id": "d4797a3a-7063-44e9-abba-4bcd5a07c8d0",
   "metadata": {},
   "outputs": [
    {
     "name": "stdout",
     "output_type": "stream",
     "text": [
      "Inter-clusters distance:\n",
      "     mean: 58.09 +/-  16.01\n",
      "      max:   102\n",
      "      min:     6\n"
     ]
    }
   ],
   "source": [
    "print('Inter-clusters distance:')\n",
    "print('{:>10}{:6.2f} +/- {:6.2f}'.format('mean:', np.mean(inter_cluster_distances), np.std(inter_cluster_distances)))\n",
    "print('{:>10}{:6}'.format('max:', max(inter_cluster_distances)))\n",
    "print('{:>10}{:6}'.format('min:', min(inter_cluster_distances)))"
   ]
  },
  {
   "cell_type": "code",
   "execution_count": 85,
   "id": "285cf8ec-352f-4f0e-9098-7a01af3c11b5",
   "metadata": {},
   "outputs": [
    {
     "data": {
      "text/html": [
       "<div>\n",
       "<style scoped>\n",
       "    .dataframe tbody tr th:only-of-type {\n",
       "        vertical-align: middle;\n",
       "    }\n",
       "\n",
       "    .dataframe tbody tr th {\n",
       "        vertical-align: top;\n",
       "    }\n",
       "\n",
       "    .dataframe thead th {\n",
       "        text-align: right;\n",
       "    }\n",
       "</style>\n",
       "<table border=\"1\" class=\"dataframe\">\n",
       "  <thead>\n",
       "    <tr style=\"text-align: right;\">\n",
       "      <th></th>\n",
       "      <th>heavy_id</th>\n",
       "      <th>heavy</th>\n",
       "      <th>Representative</th>\n",
       "      <th>Sequence</th>\n",
       "    </tr>\n",
       "  </thead>\n",
       "  <tbody>\n",
       "    <tr>\n",
       "      <th>0</th>\n",
       "      <td>2</td>\n",
       "      <td>QVQLVQSGAEVKKPGASVKVSCKASGYTFTSYAMHWVRQAPGQRLE...</td>\n",
       "      <td>547004</td>\n",
       "      <td>2</td>\n",
       "    </tr>\n",
       "    <tr>\n",
       "      <th>1</th>\n",
       "      <td>3</td>\n",
       "      <td>EVQLVESGGGLVKPGGSLRLSCAASGFTFSNAWMSWVRQAPGKGLE...</td>\n",
       "      <td>698646</td>\n",
       "      <td>3</td>\n",
       "    </tr>\n",
       "    <tr>\n",
       "      <th>2</th>\n",
       "      <td>7</td>\n",
       "      <td>QVQLVQSGAEVKKPGSSVKVSCKASGGTFSSYAISWVRQAPGQGLE...</td>\n",
       "      <td>653555</td>\n",
       "      <td>7</td>\n",
       "    </tr>\n",
       "    <tr>\n",
       "      <th>3</th>\n",
       "      <td>22</td>\n",
       "      <td>EVQLVESGGGLVKPGGSLRLSCAASGFTFSNAWMSWVRQAPGKGLE...</td>\n",
       "      <td>698646</td>\n",
       "      <td>22</td>\n",
       "    </tr>\n",
       "    <tr>\n",
       "      <th>4</th>\n",
       "      <td>31</td>\n",
       "      <td>QVQLQESGPGLVKPSGTLSLTCAVSGGSISSSNWWSWVRQPPGKGL...</td>\n",
       "      <td>264473</td>\n",
       "      <td>31</td>\n",
       "    </tr>\n",
       "    <tr>\n",
       "      <th>...</th>\n",
       "      <td>...</td>\n",
       "      <td>...</td>\n",
       "      <td>...</td>\n",
       "      <td>...</td>\n",
       "    </tr>\n",
       "    <tr>\n",
       "      <th>113914</th>\n",
       "      <td>1654756</td>\n",
       "      <td>QVQLVQSGAEVKKPGSSVKVSCKASGGTFSSYAISWVRQAPGQGLE...</td>\n",
       "      <td>653555</td>\n",
       "      <td>1654756</td>\n",
       "    </tr>\n",
       "    <tr>\n",
       "      <th>113915</th>\n",
       "      <td>1654757</td>\n",
       "      <td>QVTLKESGPALVKPTQTLTLTCAFSGFSLSTSGMRVSWIRQPPGKA...</td>\n",
       "      <td>1390728</td>\n",
       "      <td>1654757</td>\n",
       "    </tr>\n",
       "    <tr>\n",
       "      <th>113916</th>\n",
       "      <td>1654779</td>\n",
       "      <td>EVQLVESGGGLVQPGRSLRLSCAASGFTFDDYAMHWVRQAPGKGLE...</td>\n",
       "      <td>744750</td>\n",
       "      <td>1654779</td>\n",
       "    </tr>\n",
       "    <tr>\n",
       "      <th>113917</th>\n",
       "      <td>1654844</td>\n",
       "      <td>QVQLVESGGGVVQPGGSLRLSCAASGFTFSSYGMHWVRQAPGKGLE...</td>\n",
       "      <td>346543</td>\n",
       "      <td>1654844</td>\n",
       "    </tr>\n",
       "    <tr>\n",
       "      <th>113918</th>\n",
       "      <td>1654898</td>\n",
       "      <td>QVQLVQSGAEVKKPGSSVKVSCKASGGTFSSYAISWVRQAPGQGLE...</td>\n",
       "      <td>653555</td>\n",
       "      <td>1654898</td>\n",
       "    </tr>\n",
       "  </tbody>\n",
       "</table>\n",
       "<p>113919 rows × 4 columns</p>\n",
       "</div>"
      ],
      "text/plain": [
       "        heavy_id                                              heavy  \\\n",
       "0              2  QVQLVQSGAEVKKPGASVKVSCKASGYTFTSYAMHWVRQAPGQRLE...   \n",
       "1              3  EVQLVESGGGLVKPGGSLRLSCAASGFTFSNAWMSWVRQAPGKGLE...   \n",
       "2              7  QVQLVQSGAEVKKPGSSVKVSCKASGGTFSSYAISWVRQAPGQGLE...   \n",
       "3             22  EVQLVESGGGLVKPGGSLRLSCAASGFTFSNAWMSWVRQAPGKGLE...   \n",
       "4             31  QVQLQESGPGLVKPSGTLSLTCAVSGGSISSSNWWSWVRQPPGKGL...   \n",
       "...          ...                                                ...   \n",
       "113914   1654756  QVQLVQSGAEVKKPGSSVKVSCKASGGTFSSYAISWVRQAPGQGLE...   \n",
       "113915   1654757  QVTLKESGPALVKPTQTLTLTCAFSGFSLSTSGMRVSWIRQPPGKA...   \n",
       "113916   1654779  EVQLVESGGGLVQPGRSLRLSCAASGFTFDDYAMHWVRQAPGKGLE...   \n",
       "113917   1654844  QVQLVESGGGVVQPGGSLRLSCAASGFTFSSYGMHWVRQAPGKGLE...   \n",
       "113918   1654898  QVQLVQSGAEVKKPGSSVKVSCKASGGTFSSYAISWVRQAPGQGLE...   \n",
       "\n",
       "        Representative  Sequence  \n",
       "0               547004         2  \n",
       "1               698646         3  \n",
       "2               653555         7  \n",
       "3               698646        22  \n",
       "4               264473        31  \n",
       "...                ...       ...  \n",
       "113914          653555   1654756  \n",
       "113915         1390728   1654757  \n",
       "113916          744750   1654779  \n",
       "113917          346543   1654844  \n",
       "113918          653555   1654898  \n",
       "\n",
       "[113919 rows x 4 columns]"
      ]
     },
     "execution_count": 85,
     "metadata": {},
     "output_type": "execute_result"
    }
   ],
   "source": [
    "clusters_sequences_sample = sequences_heavy.merge(heavy_clusters, left_on='heavy_id', right_on='Sequence')\n",
    "clusters_sequences_sample"
   ]
  },
  {
   "cell_type": "code",
   "execution_count": 91,
   "id": "5f6b53a1-9b61-4a74-a52c-88c0afcd4c66",
   "metadata": {},
   "outputs": [],
   "source": [
    "intra_cluster_distances = []\n",
    "for _, data in clusters_sequences_sample.groupby('Representative'):\n",
    "    for x, y in combinations(data['heavy'].sample(5), 2):\n",
    "        intra_cluster_distances.append(distance(x, y))   "
   ]
  },
  {
   "cell_type": "code",
   "execution_count": 92,
   "id": "6510b3fb-046c-44a9-8951-6812553deff8",
   "metadata": {},
   "outputs": [
    {
     "name": "stdout",
     "output_type": "stream",
     "text": [
      "Intra-clusters distance:\n",
      "     mean: 13.06 +/-   7.13\n",
      "      max:    41\n",
      "      min:     1\n"
     ]
    }
   ],
   "source": [
    "print('Intra-clusters distance:')\n",
    "print('{:>10}{:6.2f} +/- {:6.2f}'.format('mean:', np.mean(intra_cluster_distances), np.std(intra_cluster_distances)))\n",
    "print('{:>10}{:6}'.format('max:', max(intra_cluster_distances)))\n",
    "print('{:>10}{:6}'.format('min:', min(intra_cluster_distances)))"
   ]
  },
  {
   "cell_type": "code",
   "execution_count": 98,
   "id": "7292e319-d365-49ff-b8fe-b7dec23115ca",
   "metadata": {},
   "outputs": [],
   "source": [
    "sequences_light = sequences[['heavy_id', 'light']].drop_duplicates()"
   ]
  },
  {
   "cell_type": "code",
   "execution_count": 100,
   "id": "4db6ccc4-7a85-4352-b7ca-02342e5d342c",
   "metadata": {},
   "outputs": [
    {
     "data": {
      "text/plain": [
       "0         DIQMTQSPSSLSASVGDRVTITCRASQGISNYLAWFQQKPGKAPKS...\n",
       "8         DIVMTQSPLSLPVTPGEPASISCRSSQSLLHSNGYNYLDWYLQKPG...\n",
       "19        DIQLTQSPSFLSASVGDRVTITCRASQGINSYLAWYQQKPGKAPRL...\n",
       "25        QSALTQPPSASGSPGQSVTISCTGTSSDVGGSNFVSWYQQYPGKAP...\n",
       "35        DIQMTQSPSTLSASVGDRVTITCRASQSFSNWLAWYQQKPGKAPKL...\n",
       "                                ...                        \n",
       "115008    QSALTQPASVSGSPGQSITISCTGTSSDVGYYNYVSWYQHHPGKAP...\n",
       "115013    QSALTQPPSASGSPGQSVTISCTGTSSDVGGYNYVSWYQQHPGKAP...\n",
       "115018    DVVMTQSPLSLPVTLGQPASISCRSSQSLVHRDGNTYLNWFQQRPG...\n",
       "115023    QSALTQPPSASGSPGQSVTISCTGTSSDVGGYKYVSWYQQLPGKAP...\n",
       "115028    DIVLTQSPDSLAVSLGERATINCKSSQSVLSRSNNKNYLGWYQQKP...\n",
       "Name: light, Length: 1079, dtype: object"
      ]
     },
     "execution_count": 100,
     "metadata": {},
     "output_type": "execute_result"
    }
   ],
   "source": [
    "representative_sequences_sample = sequences_light.merge(heavy_clusters, left_on='heavy_id', right_on='Representative')\n",
    "representative_sequences_sample = representative_sequences_sample['light'].drop_duplicates()\n",
    "representative_sequences_sample"
   ]
  },
  {
   "cell_type": "code",
   "execution_count": 101,
   "id": "03ec3014-b745-4866-8d06-df0d9433121d",
   "metadata": {},
   "outputs": [],
   "source": [
    "inter_cluster_distances = []\n",
    "for x, y in combinations(representative_sequences_sample, 2):\n",
    "    inter_cluster_distances.append(distance(x, y))"
   ]
  },
  {
   "cell_type": "code",
   "execution_count": 102,
   "id": "57ac9b2c-9892-45cf-8f5b-687200d2bd5b",
   "metadata": {},
   "outputs": [
    {
     "name": "stdout",
     "output_type": "stream",
     "text": [
      "Inter-clusters distance:\n",
      "     mean: 47.16 +/-  15.53\n",
      "      max:    85\n",
      "      min:     1\n"
     ]
    }
   ],
   "source": [
    "print('Inter-clusters distance:')\n",
    "print('{:>10}{:6.2f} +/- {:6.2f}'.format('mean:', np.mean(inter_cluster_distances), np.std(inter_cluster_distances)))\n",
    "print('{:>10}{:6}'.format('max:', max(inter_cluster_distances)))\n",
    "print('{:>10}{:6}'.format('min:', min(inter_cluster_distances)))"
   ]
  },
  {
   "cell_type": "code",
   "execution_count": 103,
   "id": "d9114338-bd9e-4f5a-9ec8-f47d4d6f264a",
   "metadata": {},
   "outputs": [
    {
     "data": {
      "text/html": [
       "<div>\n",
       "<style scoped>\n",
       "    .dataframe tbody tr th:only-of-type {\n",
       "        vertical-align: middle;\n",
       "    }\n",
       "\n",
       "    .dataframe tbody tr th {\n",
       "        vertical-align: top;\n",
       "    }\n",
       "\n",
       "    .dataframe thead th {\n",
       "        text-align: right;\n",
       "    }\n",
       "</style>\n",
       "<table border=\"1\" class=\"dataframe\">\n",
       "  <thead>\n",
       "    <tr style=\"text-align: right;\">\n",
       "      <th></th>\n",
       "      <th>heavy_id</th>\n",
       "      <th>light</th>\n",
       "      <th>Representative</th>\n",
       "      <th>Sequence</th>\n",
       "    </tr>\n",
       "  </thead>\n",
       "  <tbody>\n",
       "    <tr>\n",
       "      <th>0</th>\n",
       "      <td>2</td>\n",
       "      <td>SYELTQPPSVSVSPGQTARITCSGDALPKQYAYWYQQKPGQAPVLV...</td>\n",
       "      <td>547004</td>\n",
       "      <td>2</td>\n",
       "    </tr>\n",
       "    <tr>\n",
       "      <th>1</th>\n",
       "      <td>3</td>\n",
       "      <td>SYELTQPPSVSVSPGQTARITCSGDALPKKYAYWYQQKSGQAPVLV...</td>\n",
       "      <td>698646</td>\n",
       "      <td>3</td>\n",
       "    </tr>\n",
       "    <tr>\n",
       "      <th>2</th>\n",
       "      <td>7</td>\n",
       "      <td>DVVMTQSPLSLPVTLGQPASISCRSSQSLVYSDGNTYLNWFQQRPG...</td>\n",
       "      <td>653555</td>\n",
       "      <td>7</td>\n",
       "    </tr>\n",
       "    <tr>\n",
       "      <th>3</th>\n",
       "      <td>22</td>\n",
       "      <td>DIVMTQSPLSLPVTPGEPASISCRSSQSLLHSNGYNYLDWYLQKPG...</td>\n",
       "      <td>698646</td>\n",
       "      <td>22</td>\n",
       "    </tr>\n",
       "    <tr>\n",
       "      <th>4</th>\n",
       "      <td>31</td>\n",
       "      <td>DIQMTQSPSSLSASVGDRVTITCRASQGISNYLAWFQQKPGKAPKS...</td>\n",
       "      <td>264473</td>\n",
       "      <td>31</td>\n",
       "    </tr>\n",
       "    <tr>\n",
       "      <th>...</th>\n",
       "      <td>...</td>\n",
       "      <td>...</td>\n",
       "      <td>...</td>\n",
       "      <td>...</td>\n",
       "    </tr>\n",
       "    <tr>\n",
       "      <th>114637</th>\n",
       "      <td>1654756</td>\n",
       "      <td>DVVMTQSPLSLPVTLGQPASISCRSSQSLVHSDGNTYLNWFQQRPG...</td>\n",
       "      <td>653555</td>\n",
       "      <td>1654756</td>\n",
       "    </tr>\n",
       "    <tr>\n",
       "      <th>114638</th>\n",
       "      <td>1654757</td>\n",
       "      <td>QTVVTQEPSFSVSPGGTVTLTCGLSADSVSTRHYPSWYQQSPGQPP...</td>\n",
       "      <td>1390728</td>\n",
       "      <td>1654757</td>\n",
       "    </tr>\n",
       "    <tr>\n",
       "      <th>114639</th>\n",
       "      <td>1654779</td>\n",
       "      <td>DIVMTQSPLSLPVTPGEPASISCRSSQSLLHSNGYNYLDWYLQKPG...</td>\n",
       "      <td>744750</td>\n",
       "      <td>1654779</td>\n",
       "    </tr>\n",
       "    <tr>\n",
       "      <th>114640</th>\n",
       "      <td>1654844</td>\n",
       "      <td>SYELTQPPSVSVSPGQTARITCSGDALPKKYAYWYQQKSGQAPVLV...</td>\n",
       "      <td>346543</td>\n",
       "      <td>1654844</td>\n",
       "    </tr>\n",
       "    <tr>\n",
       "      <th>114641</th>\n",
       "      <td>1654898</td>\n",
       "      <td>QSVLTQPPSASGTPGQRVTISCSGSSSNIGSNTVNWYQQLPGTAPK...</td>\n",
       "      <td>653555</td>\n",
       "      <td>1654898</td>\n",
       "    </tr>\n",
       "  </tbody>\n",
       "</table>\n",
       "<p>114642 rows × 4 columns</p>\n",
       "</div>"
      ],
      "text/plain": [
       "        heavy_id                                              light  \\\n",
       "0              2  SYELTQPPSVSVSPGQTARITCSGDALPKQYAYWYQQKPGQAPVLV...   \n",
       "1              3  SYELTQPPSVSVSPGQTARITCSGDALPKKYAYWYQQKSGQAPVLV...   \n",
       "2              7  DVVMTQSPLSLPVTLGQPASISCRSSQSLVYSDGNTYLNWFQQRPG...   \n",
       "3             22  DIVMTQSPLSLPVTPGEPASISCRSSQSLLHSNGYNYLDWYLQKPG...   \n",
       "4             31  DIQMTQSPSSLSASVGDRVTITCRASQGISNYLAWFQQKPGKAPKS...   \n",
       "...          ...                                                ...   \n",
       "114637   1654756  DVVMTQSPLSLPVTLGQPASISCRSSQSLVHSDGNTYLNWFQQRPG...   \n",
       "114638   1654757  QTVVTQEPSFSVSPGGTVTLTCGLSADSVSTRHYPSWYQQSPGQPP...   \n",
       "114639   1654779  DIVMTQSPLSLPVTPGEPASISCRSSQSLLHSNGYNYLDWYLQKPG...   \n",
       "114640   1654844  SYELTQPPSVSVSPGQTARITCSGDALPKKYAYWYQQKSGQAPVLV...   \n",
       "114641   1654898  QSVLTQPPSASGTPGQRVTISCSGSSSNIGSNTVNWYQQLPGTAPK...   \n",
       "\n",
       "        Representative  Sequence  \n",
       "0               547004         2  \n",
       "1               698646         3  \n",
       "2               653555         7  \n",
       "3               698646        22  \n",
       "4               264473        31  \n",
       "...                ...       ...  \n",
       "114637          653555   1654756  \n",
       "114638         1390728   1654757  \n",
       "114639          744750   1654779  \n",
       "114640          346543   1654844  \n",
       "114641          653555   1654898  \n",
       "\n",
       "[114642 rows x 4 columns]"
      ]
     },
     "execution_count": 103,
     "metadata": {},
     "output_type": "execute_result"
    }
   ],
   "source": [
    "clusters_sequences_sample = sequences_light.merge(heavy_clusters, left_on='heavy_id', right_on='Sequence')\n",
    "clusters_sequences_sample"
   ]
  },
  {
   "cell_type": "code",
   "execution_count": 105,
   "id": "4a0ea691-fb98-42f8-acd3-fa0d16b82478",
   "metadata": {},
   "outputs": [],
   "source": [
    "intra_cluster_distances = []\n",
    "for _, data in clusters_sequences_sample.groupby('Representative'):\n",
    "    for x, y in combinations(data['light'].sample(5), 2):\n",
    "        intra_cluster_distances.append(distance(x, y))   "
   ]
  },
  {
   "cell_type": "code",
   "execution_count": 106,
   "id": "7b861427-2b60-4f44-9828-7e062e8d36ed",
   "metadata": {},
   "outputs": [
    {
     "name": "stdout",
     "output_type": "stream",
     "text": [
      "Intra-clusters distance:\n",
      "     mean: 25.71 +/-  22.77\n",
      "      max:    80\n",
      "      min:     0\n"
     ]
    }
   ],
   "source": [
    "print('Intra-clusters distance:')\n",
    "print('{:>10}{:6.2f} +/- {:6.2f}'.format('mean:', np.mean(intra_cluster_distances), np.std(intra_cluster_distances)))\n",
    "print('{:>10}{:6}'.format('max:', max(intra_cluster_distances)))\n",
    "print('{:>10}{:6}'.format('min:', min(intra_cluster_distances)))"
   ]
  }
 ],
 "metadata": {
  "kernelspec": {
   "display_name": "Python 3 (ipykernel)",
   "language": "python",
   "name": "python3"
  },
  "language_info": {
   "codemirror_mode": {
    "name": "ipython",
    "version": 3
   },
   "file_extension": ".py",
   "mimetype": "text/x-python",
   "name": "python",
   "nbconvert_exporter": "python",
   "pygments_lexer": "ipython3",
   "version": "3.11.9+"
  }
 },
 "nbformat": 4,
 "nbformat_minor": 5
}
