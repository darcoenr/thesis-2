{
 "cells": [
  {
   "cell_type": "code",
   "execution_count": 21,
   "id": "89299323-d935-4be6-ab05-3db165ef3f34",
   "metadata": {},
   "outputs": [],
   "source": [
    "import os\n",
    "import json\n",
    "import pandas as pd\n",
    "import numpy as np\n",
    "import matplotlib\n",
    "import matplotlib.pyplot as plt\n",
    "import torch\n",
    "import itertools\n",
    "\n",
    "from collections import defaultdict\n",
    "from sklearn.metrics import roc_curve, roc_auc_score\n",
    "from sklearn.metrics import matthews_corrcoef, accuracy_score, f1_score\n",
    "from torch.utils.data import DataLoader\n",
    "from tqdm import tqdm\n",
    "from scipy.special import softmax\n",
    "from scipy.stats import pearsonr\n",
    "from math import ceil\n",
    "\n",
    "import utils"
   ]
  },
  {
   "cell_type": "markdown",
   "id": "6df8d067-900e-4579-a539-fa95bc211de4",
   "metadata": {},
   "source": [
    "### Grid Search Results"
   ]
  },
  {
   "cell_type": "code",
   "execution_count": 27,
   "id": "a5816848-ba1e-4b32-b9d0-e976be1f38f0",
   "metadata": {},
   "outputs": [],
   "source": [
    "#GRID_SEARCH_DIRECTORIES = [\n",
    "#    r'../results/classification/grid_search_1',\n",
    "#    r'../results/classification/grid_search_2',\n",
    "#    r'../results/classification/grid_search_3'\n",
    "#]\n",
    "\n",
    "#GRID_SEARCH_DIRECTORIES = [\n",
    "#    r'../results/classification/grid_search_11',\n",
    "#    r'../results/classification/grid_search_12',\n",
    "#    r'../results/classification/grid_search_13'\n",
    "#]\n",
    "\n",
    "GRID_SEARCH_DIRECTORIES = [\n",
    "    r'../results/classification/grid_search_21',\n",
    "#    r'../results/classification/grid_search_22',\n",
    "#    r'../results/classification/grid_search_23'\n",
    "]"
   ]
  },
  {
   "cell_type": "code",
   "execution_count": 28,
   "id": "b55427b3-64fb-4de5-ac8e-10a9089eb2da",
   "metadata": {},
   "outputs": [
    {
     "name": "stdout",
     "output_type": "stream",
     "text": [
      "Dataset: ../datasets/new/classificator/germline_v/train_only_v/train_only_v.csv\n",
      "Full dataset size: 1432650\n",
      "Subsample of size: 71632\n",
      "Number of epochs: 3\n",
      "Train batches: 6717\n"
     ]
    }
   ],
   "source": [
    "with open('{}/{}/hyperpar.json'.format(GRID_SEARCH_DIRECTORIES[0], '0')) as f:\n",
    "    hyperpars = json.load(f)\n",
    "\n",
    "training_data = hyperpars['train_dataset']\n",
    "print('Dataset: {}'.format(training_data['name']))\n",
    "print('Full dataset size: {}'.format(training_data['size']))\n",
    "print('Subsample of size: {}'.format(training_data['subsample']))\n",
    "print('Number of epochs: {}'.format(hyperpars['n_epochs']))\n",
    "\n",
    "# Manual computation of batches\n",
    "print('Train batches: {}'.format(\n",
    "    ceil(training_data['subsample'] / 32) * hyperpars['n_epochs']\n",
    "))\n",
    "\n",
    "#print('Train batches: {}'.format(min(hyperpars['n_epochs'] * ceil((int(training_data['subsample']) / 32)), hyperpars['train_batches'])))"
   ]
  },
  {
   "cell_type": "code",
   "execution_count": 29,
   "id": "5d9454ae-ee4e-4ea4-9df7-a85e34848e64",
   "metadata": {},
   "outputs": [
    {
     "name": "stdout",
     "output_type": "stream",
     "text": [
      "Dataset: ../datasets/new/classificator/germline_v/val_only_v/val_only_v.csv\n",
      "Full dataset size: 542466\n",
      "Subsample of size: 81369\n"
     ]
    }
   ],
   "source": [
    "with open('{}/{}/hyperpar_val_results.json'.format(GRID_SEARCH_DIRECTORIES[0], '0')) as f:\n",
    "    hyperpars = json.load(f)\n",
    "\n",
    "print('Dataset: {}'.format(hyperpars['name']))\n",
    "print('Full dataset size: {}'.format(hyperpars['size']))\n",
    "print('Subsample of size: {}'.format(hyperpars['subsample']))"
   ]
  },
  {
   "cell_type": "code",
   "execution_count": 30,
   "id": "6e083ac6-aa04-4ae3-8881-62463ee9397c",
   "metadata": {},
   "outputs": [],
   "source": [
    "gs_results = defaultdict(dict)\n",
    "\n",
    "for d in os.listdir(GRID_SEARCH_DIRECTORIES[0]):\n",
    "    with open('{}/{}/hyperpar.json'.format(GRID_SEARCH_DIRECTORIES[0], d)) as f:\n",
    "        hyperpars = json.load(f)\n",
    "    \n",
    "    gs_results[d]['number_of_layer'] = hyperpars['model']['number_of_layers']\n",
    "    gs_results[d]['layer_size'] = hyperpars['model']['layer_size']\n",
    "    gs_results[d]['lr'] = hyperpars['optimizer']['lr']\n",
    "    gs_results[d]['weight_decay'] = hyperpars['optimizer']['weight_decay']\n",
    "\n",
    "    #print(hyperpars)\n",
    "\n",
    "    if 'lr_sched' not in hyperpars:\n",
    "        gs_results[d]['lr_sched'] = 'None'\n",
    "        gs_results[d]['start_factor'] = 'None'\n",
    "        gs_results[d]['end_factor'] = 'None'\n",
    "        gs_results[d]['total_iters'] = 'None'\n",
    "    else:\n",
    "        gs_results[d]['lr_sched'] = hyperpars['lr_sched']['name']\n",
    "        gs_results[d]['start_factor'] = hyperpars['lr_sched']['start_factor']\n",
    "        gs_results[d]['end_factor'] = hyperpars['lr_sched']['end_factor']\n",
    "        gs_results[d]['total_iters'] = hyperpars['lr_sched']['total_iters']\n",
    "\n",
    "    if 'beta1' in hyperpars['optimizer']:\n",
    "        gs_results[d]['beta1'] = hyperpars['optimizer']['beta1']\n",
    "        gs_results[d]['beta2'] = hyperpars['optimizer']['beta2']"
   ]
  },
  {
   "cell_type": "code",
   "execution_count": 31,
   "id": "169bc6a6-c84c-4063-95e3-6ff0ce4cf297",
   "metadata": {},
   "outputs": [],
   "source": [
    "for d1 in GRID_SEARCH_DIRECTORIES:\n",
    "    for d2 in os.listdir(d1):\n",
    "        df = pd.read_csv('{}/{}/val_results_classification.csv'.format(d1, d2), index_col=0)\n",
    "\n",
    "        # Manually correct a bug. More sequences were tested\n",
    "        #df = df.sample(27123, random_state=42)\n",
    "        \n",
    "        gs_results[d2]['acc_{}'.format(d1.split('_')[-1])] = accuracy_score(df['label'], df['prediction'])\n",
    "        gs_results[d2]['f1_{}'.format(d1.split('_')[-1])] = f1_score(df['label'], df['prediction'])\n",
    "        gs_results[d2]['mcc_{}'.format(d1.split('_')[-1])] = matthews_corrcoef(df['label'], df['prediction'])"
   ]
  },
  {
   "cell_type": "code",
   "execution_count": 32,
   "id": "4fa6b497-e27d-4ea5-9fd8-12113e6604bc",
   "metadata": {},
   "outputs": [],
   "source": [
    "dict_results = defaultdict(list)\n",
    "\n",
    "for _, item in gs_results.items():\n",
    "    for key, value in item.items():\n",
    "        dict_results[key].append(value)\n",
    "\n",
    "df_results = pd.DataFrame(dict_results)\n",
    "\n",
    "acc_columns = sorted([c for c in df_results.columns if 'acc' in c])\n",
    "f1_columns = sorted([c for c in df_results.columns if 'f1' in c])\n",
    "mcc_columns = sorted([c for c in df_results.columns if 'mcc' in c])\n",
    "other_columns = sorted(list(set(df_results.columns).difference(set(acc_columns + f1_columns + mcc_columns))))\n",
    "\n",
    "df_results = df_results[other_columns + acc_columns + f1_columns + mcc_columns]"
   ]
  },
  {
   "cell_type": "code",
   "execution_count": 33,
   "id": "80764e97-c4fe-4612-a119-260135e9c1f0",
   "metadata": {},
   "outputs": [],
   "source": [
    "df_results = pd.merge(\n",
    "    df_results,\n",
    "    df_results[acc_columns].mean(axis=1).to_frame().rename({0: 'acc_mean'}, axis=1),\n",
    "    left_index=True,\n",
    "    right_index=True\n",
    ")\n",
    "\n",
    "df_results = pd.merge(\n",
    "    df_results,\n",
    "    df_results[acc_columns].std(axis=1).to_frame().rename({0: 'acc_std'}, axis=1),\n",
    "    left_index=True,\n",
    "    right_index=True\n",
    ")"
   ]
  },
  {
   "cell_type": "code",
   "execution_count": 34,
   "id": "7edd05ab-afed-46f9-b91a-f67518afb83b",
   "metadata": {},
   "outputs": [],
   "source": [
    "df_results = pd.merge(\n",
    "    df_results,\n",
    "    df_results[f1_columns].mean(axis=1).to_frame().rename({0: 'f1_mean'}, axis=1),\n",
    "    left_index=True,\n",
    "    right_index=True\n",
    ")\n",
    "\n",
    "df_results = pd.merge(\n",
    "    df_results,\n",
    "    df_results[f1_columns].std(axis=1).to_frame().rename({0: 'f1_std'}, axis=1),\n",
    "    left_index=True,\n",
    "    right_index=True\n",
    ")"
   ]
  },
  {
   "cell_type": "code",
   "execution_count": 35,
   "id": "59848978-f44e-49bc-bc79-6a9166f6ec63",
   "metadata": {},
   "outputs": [],
   "source": [
    "df_results = pd.merge(\n",
    "    df_results,\n",
    "    df_results[mcc_columns].mean(axis=1).to_frame().rename({0: 'mcc_mean'}, axis=1),\n",
    "    left_index=True,\n",
    "    right_index=True\n",
    ")\n",
    "\n",
    "df_results = pd.merge(\n",
    "    df_results,\n",
    "    df_results[mcc_columns].std(axis=1).to_frame().rename({0: 'mcc_std'}, axis=1),\n",
    "    left_index=True,\n",
    "    right_index=True\n",
    ")"
   ]
  },
  {
   "cell_type": "code",
   "execution_count": 38,
   "id": "c0c0f21f-65a2-4d2e-888c-76664a37318f",
   "metadata": {},
   "outputs": [
    {
     "data": {
      "text/html": [
       "<div>\n",
       "<style scoped>\n",
       "    .dataframe tbody tr th:only-of-type {\n",
       "        vertical-align: middle;\n",
       "    }\n",
       "\n",
       "    .dataframe tbody tr th {\n",
       "        vertical-align: top;\n",
       "    }\n",
       "\n",
       "    .dataframe thead th {\n",
       "        text-align: right;\n",
       "    }\n",
       "</style>\n",
       "<table border=\"1\" class=\"dataframe\">\n",
       "  <thead>\n",
       "    <tr style=\"text-align: right;\">\n",
       "      <th></th>\n",
       "      <th>beta1</th>\n",
       "      <th>beta2</th>\n",
       "      <th>end_factor</th>\n",
       "      <th>layer_size</th>\n",
       "      <th>lr</th>\n",
       "      <th>lr_sched</th>\n",
       "      <th>number_of_layer</th>\n",
       "      <th>start_factor</th>\n",
       "      <th>total_iters</th>\n",
       "      <th>weight_decay</th>\n",
       "      <th>acc_mean</th>\n",
       "      <th>acc_std</th>\n",
       "    </tr>\n",
       "  </thead>\n",
       "  <tbody>\n",
       "    <tr>\n",
       "      <th>16</th>\n",
       "      <td>0.9</td>\n",
       "      <td>0.999</td>\n",
       "      <td>None</td>\n",
       "      <td>1024</td>\n",
       "      <td>0.0001</td>\n",
       "      <td>None</td>\n",
       "      <td>5</td>\n",
       "      <td>None</td>\n",
       "      <td>None</td>\n",
       "      <td>0.00010</td>\n",
       "      <td>0.999939</td>\n",
       "      <td>NaN</td>\n",
       "    </tr>\n",
       "    <tr>\n",
       "      <th>5</th>\n",
       "      <td>0.9</td>\n",
       "      <td>0.999</td>\n",
       "      <td>None</td>\n",
       "      <td>1024</td>\n",
       "      <td>0.0001</td>\n",
       "      <td>None</td>\n",
       "      <td>3</td>\n",
       "      <td>None</td>\n",
       "      <td>None</td>\n",
       "      <td>0.00001</td>\n",
       "      <td>0.999840</td>\n",
       "      <td>NaN</td>\n",
       "    </tr>\n",
       "    <tr>\n",
       "      <th>10</th>\n",
       "      <td>0.9</td>\n",
       "      <td>0.999</td>\n",
       "      <td>None</td>\n",
       "      <td>2048</td>\n",
       "      <td>0.0001</td>\n",
       "      <td>None</td>\n",
       "      <td>3</td>\n",
       "      <td>None</td>\n",
       "      <td>None</td>\n",
       "      <td>0.00010</td>\n",
       "      <td>0.999816</td>\n",
       "      <td>NaN</td>\n",
       "    </tr>\n",
       "    <tr>\n",
       "      <th>0</th>\n",
       "      <td>0.9</td>\n",
       "      <td>0.999</td>\n",
       "      <td>None</td>\n",
       "      <td>1024</td>\n",
       "      <td>0.0010</td>\n",
       "      <td>None</td>\n",
       "      <td>3</td>\n",
       "      <td>None</td>\n",
       "      <td>None</td>\n",
       "      <td>0.00100</td>\n",
       "      <td>0.999791</td>\n",
       "      <td>NaN</td>\n",
       "    </tr>\n",
       "    <tr>\n",
       "      <th>8</th>\n",
       "      <td>0.9</td>\n",
       "      <td>0.999</td>\n",
       "      <td>None</td>\n",
       "      <td>2048</td>\n",
       "      <td>0.0010</td>\n",
       "      <td>None</td>\n",
       "      <td>3</td>\n",
       "      <td>None</td>\n",
       "      <td>None</td>\n",
       "      <td>0.00001</td>\n",
       "      <td>0.999791</td>\n",
       "      <td>NaN</td>\n",
       "    </tr>\n",
       "    <tr>\n",
       "      <th>21</th>\n",
       "      <td>0.9</td>\n",
       "      <td>0.999</td>\n",
       "      <td>None</td>\n",
       "      <td>2048</td>\n",
       "      <td>0.0001</td>\n",
       "      <td>None</td>\n",
       "      <td>5</td>\n",
       "      <td>None</td>\n",
       "      <td>None</td>\n",
       "      <td>0.00100</td>\n",
       "      <td>0.999791</td>\n",
       "      <td>NaN</td>\n",
       "    </tr>\n",
       "    <tr>\n",
       "      <th>15</th>\n",
       "      <td>0.9</td>\n",
       "      <td>0.999</td>\n",
       "      <td>None</td>\n",
       "      <td>1024</td>\n",
       "      <td>0.0001</td>\n",
       "      <td>None</td>\n",
       "      <td>5</td>\n",
       "      <td>None</td>\n",
       "      <td>None</td>\n",
       "      <td>0.00100</td>\n",
       "      <td>0.999791</td>\n",
       "      <td>NaN</td>\n",
       "    </tr>\n",
       "    <tr>\n",
       "      <th>12</th>\n",
       "      <td>0.9</td>\n",
       "      <td>0.999</td>\n",
       "      <td>None</td>\n",
       "      <td>1024</td>\n",
       "      <td>0.0010</td>\n",
       "      <td>None</td>\n",
       "      <td>5</td>\n",
       "      <td>None</td>\n",
       "      <td>None</td>\n",
       "      <td>0.00100</td>\n",
       "      <td>0.999791</td>\n",
       "      <td>NaN</td>\n",
       "    </tr>\n",
       "    <tr>\n",
       "      <th>22</th>\n",
       "      <td>0.9</td>\n",
       "      <td>0.999</td>\n",
       "      <td>None</td>\n",
       "      <td>2048</td>\n",
       "      <td>0.0001</td>\n",
       "      <td>None</td>\n",
       "      <td>5</td>\n",
       "      <td>None</td>\n",
       "      <td>None</td>\n",
       "      <td>0.00010</td>\n",
       "      <td>0.999791</td>\n",
       "      <td>NaN</td>\n",
       "    </tr>\n",
       "    <tr>\n",
       "      <th>6</th>\n",
       "      <td>0.9</td>\n",
       "      <td>0.999</td>\n",
       "      <td>None</td>\n",
       "      <td>2048</td>\n",
       "      <td>0.0010</td>\n",
       "      <td>None</td>\n",
       "      <td>3</td>\n",
       "      <td>None</td>\n",
       "      <td>None</td>\n",
       "      <td>0.00100</td>\n",
       "      <td>0.999791</td>\n",
       "      <td>NaN</td>\n",
       "    </tr>\n",
       "    <tr>\n",
       "      <th>4</th>\n",
       "      <td>0.9</td>\n",
       "      <td>0.999</td>\n",
       "      <td>None</td>\n",
       "      <td>1024</td>\n",
       "      <td>0.0001</td>\n",
       "      <td>None</td>\n",
       "      <td>3</td>\n",
       "      <td>None</td>\n",
       "      <td>None</td>\n",
       "      <td>0.00010</td>\n",
       "      <td>0.999791</td>\n",
       "      <td>NaN</td>\n",
       "    </tr>\n",
       "    <tr>\n",
       "      <th>3</th>\n",
       "      <td>0.9</td>\n",
       "      <td>0.999</td>\n",
       "      <td>None</td>\n",
       "      <td>1024</td>\n",
       "      <td>0.0001</td>\n",
       "      <td>None</td>\n",
       "      <td>3</td>\n",
       "      <td>None</td>\n",
       "      <td>None</td>\n",
       "      <td>0.00100</td>\n",
       "      <td>0.999791</td>\n",
       "      <td>NaN</td>\n",
       "    </tr>\n",
       "    <tr>\n",
       "      <th>7</th>\n",
       "      <td>0.9</td>\n",
       "      <td>0.999</td>\n",
       "      <td>None</td>\n",
       "      <td>2048</td>\n",
       "      <td>0.0010</td>\n",
       "      <td>None</td>\n",
       "      <td>3</td>\n",
       "      <td>None</td>\n",
       "      <td>None</td>\n",
       "      <td>0.00010</td>\n",
       "      <td>0.999779</td>\n",
       "      <td>NaN</td>\n",
       "    </tr>\n",
       "    <tr>\n",
       "      <th>1</th>\n",
       "      <td>0.9</td>\n",
       "      <td>0.999</td>\n",
       "      <td>None</td>\n",
       "      <td>1024</td>\n",
       "      <td>0.0010</td>\n",
       "      <td>None</td>\n",
       "      <td>3</td>\n",
       "      <td>None</td>\n",
       "      <td>None</td>\n",
       "      <td>0.00010</td>\n",
       "      <td>0.999766</td>\n",
       "      <td>NaN</td>\n",
       "    </tr>\n",
       "    <tr>\n",
       "      <th>9</th>\n",
       "      <td>0.9</td>\n",
       "      <td>0.999</td>\n",
       "      <td>None</td>\n",
       "      <td>2048</td>\n",
       "      <td>0.0001</td>\n",
       "      <td>None</td>\n",
       "      <td>3</td>\n",
       "      <td>None</td>\n",
       "      <td>None</td>\n",
       "      <td>0.00100</td>\n",
       "      <td>0.999742</td>\n",
       "      <td>NaN</td>\n",
       "    </tr>\n",
       "    <tr>\n",
       "      <th>20</th>\n",
       "      <td>0.9</td>\n",
       "      <td>0.999</td>\n",
       "      <td>None</td>\n",
       "      <td>2048</td>\n",
       "      <td>0.0010</td>\n",
       "      <td>None</td>\n",
       "      <td>5</td>\n",
       "      <td>None</td>\n",
       "      <td>None</td>\n",
       "      <td>0.00001</td>\n",
       "      <td>0.999705</td>\n",
       "      <td>NaN</td>\n",
       "    </tr>\n",
       "    <tr>\n",
       "      <th>14</th>\n",
       "      <td>0.9</td>\n",
       "      <td>0.999</td>\n",
       "      <td>None</td>\n",
       "      <td>1024</td>\n",
       "      <td>0.0010</td>\n",
       "      <td>None</td>\n",
       "      <td>5</td>\n",
       "      <td>None</td>\n",
       "      <td>None</td>\n",
       "      <td>0.00001</td>\n",
       "      <td>0.999680</td>\n",
       "      <td>NaN</td>\n",
       "    </tr>\n",
       "    <tr>\n",
       "      <th>11</th>\n",
       "      <td>0.9</td>\n",
       "      <td>0.999</td>\n",
       "      <td>None</td>\n",
       "      <td>2048</td>\n",
       "      <td>0.0001</td>\n",
       "      <td>None</td>\n",
       "      <td>3</td>\n",
       "      <td>None</td>\n",
       "      <td>None</td>\n",
       "      <td>0.00001</td>\n",
       "      <td>0.999644</td>\n",
       "      <td>NaN</td>\n",
       "    </tr>\n",
       "    <tr>\n",
       "      <th>2</th>\n",
       "      <td>0.9</td>\n",
       "      <td>0.999</td>\n",
       "      <td>None</td>\n",
       "      <td>1024</td>\n",
       "      <td>0.0010</td>\n",
       "      <td>None</td>\n",
       "      <td>3</td>\n",
       "      <td>None</td>\n",
       "      <td>None</td>\n",
       "      <td>0.00001</td>\n",
       "      <td>0.999435</td>\n",
       "      <td>NaN</td>\n",
       "    </tr>\n",
       "    <tr>\n",
       "      <th>13</th>\n",
       "      <td>0.9</td>\n",
       "      <td>0.999</td>\n",
       "      <td>None</td>\n",
       "      <td>1024</td>\n",
       "      <td>0.0010</td>\n",
       "      <td>None</td>\n",
       "      <td>5</td>\n",
       "      <td>None</td>\n",
       "      <td>None</td>\n",
       "      <td>0.00010</td>\n",
       "      <td>0.999361</td>\n",
       "      <td>NaN</td>\n",
       "    </tr>\n",
       "  </tbody>\n",
       "</table>\n",
       "</div>"
      ],
      "text/plain": [
       "    beta1  beta2 end_factor  layer_size      lr lr_sched  number_of_layer  \\\n",
       "16    0.9  0.999       None        1024  0.0001     None                5   \n",
       "5     0.9  0.999       None        1024  0.0001     None                3   \n",
       "10    0.9  0.999       None        2048  0.0001     None                3   \n",
       "0     0.9  0.999       None        1024  0.0010     None                3   \n",
       "8     0.9  0.999       None        2048  0.0010     None                3   \n",
       "21    0.9  0.999       None        2048  0.0001     None                5   \n",
       "15    0.9  0.999       None        1024  0.0001     None                5   \n",
       "12    0.9  0.999       None        1024  0.0010     None                5   \n",
       "22    0.9  0.999       None        2048  0.0001     None                5   \n",
       "6     0.9  0.999       None        2048  0.0010     None                3   \n",
       "4     0.9  0.999       None        1024  0.0001     None                3   \n",
       "3     0.9  0.999       None        1024  0.0001     None                3   \n",
       "7     0.9  0.999       None        2048  0.0010     None                3   \n",
       "1     0.9  0.999       None        1024  0.0010     None                3   \n",
       "9     0.9  0.999       None        2048  0.0001     None                3   \n",
       "20    0.9  0.999       None        2048  0.0010     None                5   \n",
       "14    0.9  0.999       None        1024  0.0010     None                5   \n",
       "11    0.9  0.999       None        2048  0.0001     None                3   \n",
       "2     0.9  0.999       None        1024  0.0010     None                3   \n",
       "13    0.9  0.999       None        1024  0.0010     None                5   \n",
       "\n",
       "   start_factor total_iters  weight_decay  acc_mean  acc_std  \n",
       "16         None        None       0.00010  0.999939      NaN  \n",
       "5          None        None       0.00001  0.999840      NaN  \n",
       "10         None        None       0.00010  0.999816      NaN  \n",
       "0          None        None       0.00100  0.999791      NaN  \n",
       "8          None        None       0.00001  0.999791      NaN  \n",
       "21         None        None       0.00100  0.999791      NaN  \n",
       "15         None        None       0.00100  0.999791      NaN  \n",
       "12         None        None       0.00100  0.999791      NaN  \n",
       "22         None        None       0.00010  0.999791      NaN  \n",
       "6          None        None       0.00100  0.999791      NaN  \n",
       "4          None        None       0.00010  0.999791      NaN  \n",
       "3          None        None       0.00100  0.999791      NaN  \n",
       "7          None        None       0.00010  0.999779      NaN  \n",
       "1          None        None       0.00010  0.999766      NaN  \n",
       "9          None        None       0.00100  0.999742      NaN  \n",
       "20         None        None       0.00001  0.999705      NaN  \n",
       "14         None        None       0.00001  0.999680      NaN  \n",
       "11         None        None       0.00001  0.999644      NaN  \n",
       "2          None        None       0.00001  0.999435      NaN  \n",
       "13         None        None       0.00010  0.999361      NaN  "
      ]
     },
     "execution_count": 38,
     "metadata": {},
     "output_type": "execute_result"
    }
   ],
   "source": [
    "WHICH = 'acc'\n",
    "df_results[other_columns + \n",
    "           ['{}_mean'.format(WHICH), '{}_std'.format(WHICH)]].sort_values(by='{}_mean'.format(WHICH), \n",
    "                                                                          ascending=False).head(20)"
   ]
  },
  {
   "cell_type": "code",
   "execution_count": 12,
   "id": "fd0e9206-be99-4bb5-8569-126e1fc25014",
   "metadata": {},
   "outputs": [
    {
     "data": {
      "text/html": [
       "<div>\n",
       "<style scoped>\n",
       "    .dataframe tbody tr th:only-of-type {\n",
       "        vertical-align: middle;\n",
       "    }\n",
       "\n",
       "    .dataframe tbody tr th {\n",
       "        vertical-align: top;\n",
       "    }\n",
       "\n",
       "    .dataframe thead th {\n",
       "        text-align: right;\n",
       "    }\n",
       "</style>\n",
       "<table border=\"1\" class=\"dataframe\">\n",
       "  <thead>\n",
       "    <tr style=\"text-align: right;\">\n",
       "      <th></th>\n",
       "      <th>beta1</th>\n",
       "      <th>beta2</th>\n",
       "      <th>end_factor</th>\n",
       "      <th>layer_size</th>\n",
       "      <th>lr</th>\n",
       "      <th>lr_sched</th>\n",
       "      <th>number_of_layer</th>\n",
       "      <th>start_factor</th>\n",
       "      <th>total_iters</th>\n",
       "      <th>weight_decay</th>\n",
       "      <th>mcc_mean</th>\n",
       "      <th>mcc_std</th>\n",
       "    </tr>\n",
       "  </thead>\n",
       "  <tbody>\n",
       "    <tr>\n",
       "      <th>2</th>\n",
       "      <td>0.9</td>\n",
       "      <td>0.999</td>\n",
       "      <td>None</td>\n",
       "      <td>1024</td>\n",
       "      <td>0.0010</td>\n",
       "      <td>None</td>\n",
       "      <td>3</td>\n",
       "      <td>None</td>\n",
       "      <td>None</td>\n",
       "      <td>0.00001</td>\n",
       "      <td>0.422196</td>\n",
       "      <td>0.004056</td>\n",
       "    </tr>\n",
       "    <tr>\n",
       "      <th>0</th>\n",
       "      <td>0.9</td>\n",
       "      <td>0.999</td>\n",
       "      <td>None</td>\n",
       "      <td>1024</td>\n",
       "      <td>0.0010</td>\n",
       "      <td>None</td>\n",
       "      <td>3</td>\n",
       "      <td>None</td>\n",
       "      <td>None</td>\n",
       "      <td>0.00100</td>\n",
       "      <td>0.412808</td>\n",
       "      <td>0.003334</td>\n",
       "    </tr>\n",
       "    <tr>\n",
       "      <th>11</th>\n",
       "      <td>0.9</td>\n",
       "      <td>0.999</td>\n",
       "      <td>None</td>\n",
       "      <td>2048</td>\n",
       "      <td>0.0001</td>\n",
       "      <td>None</td>\n",
       "      <td>3</td>\n",
       "      <td>None</td>\n",
       "      <td>None</td>\n",
       "      <td>0.00001</td>\n",
       "      <td>0.399770</td>\n",
       "      <td>0.006226</td>\n",
       "    </tr>\n",
       "    <tr>\n",
       "      <th>4</th>\n",
       "      <td>0.9</td>\n",
       "      <td>0.999</td>\n",
       "      <td>None</td>\n",
       "      <td>1024</td>\n",
       "      <td>0.0001</td>\n",
       "      <td>None</td>\n",
       "      <td>3</td>\n",
       "      <td>None</td>\n",
       "      <td>None</td>\n",
       "      <td>0.00010</td>\n",
       "      <td>0.398775</td>\n",
       "      <td>0.002951</td>\n",
       "    </tr>\n",
       "    <tr>\n",
       "      <th>7</th>\n",
       "      <td>0.9</td>\n",
       "      <td>0.999</td>\n",
       "      <td>None</td>\n",
       "      <td>2048</td>\n",
       "      <td>0.0010</td>\n",
       "      <td>None</td>\n",
       "      <td>3</td>\n",
       "      <td>None</td>\n",
       "      <td>None</td>\n",
       "      <td>0.00010</td>\n",
       "      <td>0.398585</td>\n",
       "      <td>0.017244</td>\n",
       "    </tr>\n",
       "  </tbody>\n",
       "</table>\n",
       "</div>"
      ],
      "text/plain": [
       "    beta1  beta2 end_factor  layer_size      lr lr_sched  number_of_layer  \\\n",
       "2     0.9  0.999       None        1024  0.0010     None                3   \n",
       "0     0.9  0.999       None        1024  0.0010     None                3   \n",
       "11    0.9  0.999       None        2048  0.0001     None                3   \n",
       "4     0.9  0.999       None        1024  0.0001     None                3   \n",
       "7     0.9  0.999       None        2048  0.0010     None                3   \n",
       "\n",
       "   start_factor total_iters  weight_decay  mcc_mean   mcc_std  \n",
       "2          None        None       0.00001  0.422196  0.004056  \n",
       "0          None        None       0.00100  0.412808  0.003334  \n",
       "11         None        None       0.00001  0.399770  0.006226  \n",
       "4          None        None       0.00010  0.398775  0.002951  \n",
       "7          None        None       0.00010  0.398585  0.017244  "
      ]
     },
     "execution_count": 12,
     "metadata": {},
     "output_type": "execute_result"
    }
   ],
   "source": [
    "WHICH = 'mcc'\n",
    "df_results[other_columns + \n",
    "           ['{}_mean'.format(WHICH), '{}_std'.format(WHICH)]].sort_values(by='{}_mean'.format(WHICH), \n",
    "                                                                          ascending=False).head(5)"
   ]
  },
  {
   "cell_type": "code",
   "execution_count": 13,
   "id": "289c3a62-ccb4-43c7-8782-5896e39cae35",
   "metadata": {},
   "outputs": [
    {
     "data": {
      "text/html": [
       "<div>\n",
       "<style scoped>\n",
       "    .dataframe tbody tr th:only-of-type {\n",
       "        vertical-align: middle;\n",
       "    }\n",
       "\n",
       "    .dataframe tbody tr th {\n",
       "        vertical-align: top;\n",
       "    }\n",
       "\n",
       "    .dataframe thead th {\n",
       "        text-align: right;\n",
       "    }\n",
       "</style>\n",
       "<table border=\"1\" class=\"dataframe\">\n",
       "  <thead>\n",
       "    <tr style=\"text-align: right;\">\n",
       "      <th></th>\n",
       "      <th>beta1</th>\n",
       "      <th>beta2</th>\n",
       "      <th>end_factor</th>\n",
       "      <th>layer_size</th>\n",
       "      <th>lr</th>\n",
       "      <th>lr_sched</th>\n",
       "      <th>number_of_layer</th>\n",
       "      <th>start_factor</th>\n",
       "      <th>total_iters</th>\n",
       "      <th>weight_decay</th>\n",
       "      <th>f1_mean</th>\n",
       "      <th>f1_std</th>\n",
       "    </tr>\n",
       "  </thead>\n",
       "  <tbody>\n",
       "    <tr>\n",
       "      <th>19</th>\n",
       "      <td>0.9</td>\n",
       "      <td>0.999</td>\n",
       "      <td>None</td>\n",
       "      <td>2048</td>\n",
       "      <td>0.0010</td>\n",
       "      <td>None</td>\n",
       "      <td>5</td>\n",
       "      <td>None</td>\n",
       "      <td>None</td>\n",
       "      <td>0.00010</td>\n",
       "      <td>0.668276</td>\n",
       "      <td>0.000000</td>\n",
       "    </tr>\n",
       "    <tr>\n",
       "      <th>17</th>\n",
       "      <td>0.9</td>\n",
       "      <td>0.999</td>\n",
       "      <td>None</td>\n",
       "      <td>1024</td>\n",
       "      <td>0.0001</td>\n",
       "      <td>None</td>\n",
       "      <td>5</td>\n",
       "      <td>None</td>\n",
       "      <td>None</td>\n",
       "      <td>0.00001</td>\n",
       "      <td>0.652759</td>\n",
       "      <td>0.012808</td>\n",
       "    </tr>\n",
       "    <tr>\n",
       "      <th>10</th>\n",
       "      <td>0.9</td>\n",
       "      <td>0.999</td>\n",
       "      <td>None</td>\n",
       "      <td>2048</td>\n",
       "      <td>0.0001</td>\n",
       "      <td>None</td>\n",
       "      <td>3</td>\n",
       "      <td>None</td>\n",
       "      <td>None</td>\n",
       "      <td>0.00010</td>\n",
       "      <td>0.650472</td>\n",
       "      <td>0.011319</td>\n",
       "    </tr>\n",
       "    <tr>\n",
       "      <th>22</th>\n",
       "      <td>0.9</td>\n",
       "      <td>0.999</td>\n",
       "      <td>None</td>\n",
       "      <td>2048</td>\n",
       "      <td>0.0001</td>\n",
       "      <td>None</td>\n",
       "      <td>5</td>\n",
       "      <td>None</td>\n",
       "      <td>None</td>\n",
       "      <td>0.00010</td>\n",
       "      <td>0.649785</td>\n",
       "      <td>0.022710</td>\n",
       "    </tr>\n",
       "    <tr>\n",
       "      <th>1</th>\n",
       "      <td>0.9</td>\n",
       "      <td>0.999</td>\n",
       "      <td>None</td>\n",
       "      <td>1024</td>\n",
       "      <td>0.0010</td>\n",
       "      <td>None</td>\n",
       "      <td>3</td>\n",
       "      <td>None</td>\n",
       "      <td>None</td>\n",
       "      <td>0.00010</td>\n",
       "      <td>0.647484</td>\n",
       "      <td>0.005919</td>\n",
       "    </tr>\n",
       "  </tbody>\n",
       "</table>\n",
       "</div>"
      ],
      "text/plain": [
       "    beta1  beta2 end_factor  layer_size      lr lr_sched  number_of_layer  \\\n",
       "19    0.9  0.999       None        2048  0.0010     None                5   \n",
       "17    0.9  0.999       None        1024  0.0001     None                5   \n",
       "10    0.9  0.999       None        2048  0.0001     None                3   \n",
       "22    0.9  0.999       None        2048  0.0001     None                5   \n",
       "1     0.9  0.999       None        1024  0.0010     None                3   \n",
       "\n",
       "   start_factor total_iters  weight_decay   f1_mean    f1_std  \n",
       "19         None        None       0.00010  0.668276  0.000000  \n",
       "17         None        None       0.00001  0.652759  0.012808  \n",
       "10         None        None       0.00010  0.650472  0.011319  \n",
       "22         None        None       0.00010  0.649785  0.022710  \n",
       "1          None        None       0.00010  0.647484  0.005919  "
      ]
     },
     "execution_count": 13,
     "metadata": {},
     "output_type": "execute_result"
    }
   ],
   "source": [
    "WHICH = 'f1'\n",
    "df_results[other_columns + \n",
    "           ['{}_mean'.format(WHICH), '{}_std'.format(WHICH)]].sort_values(by='{}_mean'.format(WHICH), \n",
    "                                                                          ascending=False).head(5)"
   ]
  },
  {
   "cell_type": "markdown",
   "id": "1febe37e-f64b-44c7-9db8-4e589979772e",
   "metadata": {
    "jp-MarkdownHeadingCollapsed": true
   },
   "source": [
    "### Second Grid Search"
   ]
  },
  {
   "cell_type": "code",
   "execution_count": 14,
   "id": "2ca890da-6f42-4c4b-866a-ffa4db2e863b",
   "metadata": {},
   "outputs": [],
   "source": [
    "#GRID_SEARCH_DIRECTORIES = [\n",
    "#    r'../results/classification/grid_search_4',\n",
    "#    r'../results/classification/grid_search_5',\n",
    "#    r'../results/classification/grid_search_6'\n",
    "#]\n",
    "\n",
    "GRID_SEARCH_DIRECTORIES = [\n",
    "    r'../results/classification/grid_search_14',\n",
    "    r'../results/classification/grid_search_15',\n",
    "    r'../results/classification/grid_search_16'\n",
    "]"
   ]
  },
  {
   "cell_type": "code",
   "execution_count": 15,
   "id": "ef0b6afa-3ba1-47ab-8173-83ae4c0710ff",
   "metadata": {},
   "outputs": [
    {
     "name": "stdout",
     "output_type": "stream",
     "text": [
      "Dataset: ../datasets/new/classificator/random/train_random/train.csv\n",
      "Full dataset size: 1432650\n",
      "Subsample of size: None\n",
      "Train batches: 10000\n"
     ]
    }
   ],
   "source": [
    "with open('{}/{}/hyperpar.json'.format(GRID_SEARCH_DIRECTORIES[0], '0')) as f:\n",
    "    hyperpars = json.load(f)\n",
    "\n",
    "training_data = hyperpars['train_dataset']\n",
    "print('Dataset: {}'.format(training_data['name']))\n",
    "print('Full dataset size: {}'.format(training_data['size']))\n",
    "print('Subsample of size: {}'.format(training_data['subsample']))\n",
    "#print('Number of epochs: {}'.format(hyperpars['n_epochs']))\n",
    "\n",
    "# Manual computation of batches\n",
    "print('Train batches: {}'.format(hyperpars['train_batches']))"
   ]
  },
  {
   "cell_type": "code",
   "execution_count": 16,
   "id": "018f5c1f-e09b-4c88-943d-d99555d07ed9",
   "metadata": {},
   "outputs": [
    {
     "name": "stdout",
     "output_type": "stream",
     "text": [
      "Dataset: ../datasets/new/classificator/random/val_random/val.csv\n",
      "Full dataset size: 542466\n",
      "Subsample of size: 81369\n"
     ]
    }
   ],
   "source": [
    "with open('{}/{}/hyperpar_val_results.json'.format(GRID_SEARCH_DIRECTORIES[0], '0')) as f:\n",
    "    hyperpars = json.load(f)\n",
    "\n",
    "print('Dataset: {}'.format(hyperpars['name']))\n",
    "print('Full dataset size: {}'.format(hyperpars['size']))\n",
    "print('Subsample of size: {}'.format(hyperpars['subsample']))"
   ]
  },
  {
   "cell_type": "code",
   "execution_count": 17,
   "id": "631fecc4-ca85-41e4-b2f4-deaf3a9798cc",
   "metadata": {},
   "outputs": [],
   "source": [
    "gs_results = defaultdict(dict)\n",
    "\n",
    "for d in os.listdir(GRID_SEARCH_DIRECTORIES[0]):\n",
    "    with open('{}/{}/hyperpar.json'.format(GRID_SEARCH_DIRECTORIES[0], d)) as f:\n",
    "        hyperpars = json.load(f)\n",
    "    \n",
    "    gs_results[d]['number_of_layer'] = hyperpars['model']['number_of_layers']\n",
    "    gs_results[d]['layer_size'] = hyperpars['model']['layer_size']\n",
    "    gs_results[d]['lr'] = hyperpars['optimizer']['lr']\n",
    "    gs_results[d]['weight_decay'] = hyperpars['optimizer']['weight_decay']\n",
    "\n",
    "    #print(hyperpars)\n",
    "\n",
    "    if 'lr_sched' not in hyperpars:\n",
    "        gs_results[d]['lr_sched'] = 'None'\n",
    "        gs_results[d]['start_factor'] = 'None'\n",
    "        gs_results[d]['end_factor'] = 'None'\n",
    "        gs_results[d]['total_iters'] = 'None'\n",
    "    else:\n",
    "        gs_results[d]['lr_sched'] = hyperpars['lr_sched']['name']\n",
    "        gs_results[d]['start_factor'] = hyperpars['lr_sched']['start_factor']\n",
    "        gs_results[d]['end_factor'] = hyperpars['lr_sched']['end_factor']\n",
    "        gs_results[d]['total_iters'] = hyperpars['lr_sched']['total_iters']\n",
    "\n",
    "    if 'beta1' in hyperpars['optimizer']:\n",
    "        gs_results[d]['beta1'] = hyperpars['optimizer']['beta1']\n",
    "        gs_results[d]['beta2'] = hyperpars['optimizer']['beta2']"
   ]
  },
  {
   "cell_type": "code",
   "execution_count": 18,
   "id": "310070cb-0c8b-4d97-83ea-ea2524976956",
   "metadata": {},
   "outputs": [],
   "source": [
    "for d1 in GRID_SEARCH_DIRECTORIES:\n",
    "    for d2 in os.listdir(d1):\n",
    "        df = pd.read_csv('{}/{}/val_results_classification.csv'.format(d1, d2), index_col=0)\n",
    "        gs_results[d2]['acc_{}'.format(d1.split('_')[-1])] = accuracy_score(df['label'], df['prediction'])\n",
    "        gs_results[d2]['f1_{}'.format(d1.split('_')[-1])] = f1_score(df['label'], df['prediction'])\n",
    "        gs_results[d2]['mcc_{}'.format(d1.split('_')[-1])] = matthews_corrcoef(df['label'], df['prediction'])"
   ]
  },
  {
   "cell_type": "code",
   "execution_count": 19,
   "id": "8569e7bf-6cda-4fa7-92ca-4dc8470b6a5a",
   "metadata": {},
   "outputs": [],
   "source": [
    "dict_results = defaultdict(list)\n",
    "\n",
    "for _, item in gs_results.items():\n",
    "    for key, value in item.items():\n",
    "        dict_results[key].append(value)\n",
    "\n",
    "df_results = pd.DataFrame(dict_results)\n",
    "\n",
    "acc_columns = sorted([c for c in df_results.columns if 'acc' in c])\n",
    "f1_columns = sorted([c for c in df_results.columns if 'f1' in c])\n",
    "mcc_columns = sorted([c for c in df_results.columns if 'mcc' in c])\n",
    "other_columns = sorted(list(set(df_results.columns).difference(set(acc_columns + f1_columns + mcc_columns))))\n",
    "\n",
    "df_results = df_results[other_columns + acc_columns + f1_columns + mcc_columns]"
   ]
  },
  {
   "cell_type": "code",
   "execution_count": 20,
   "id": "610953a4-f9d3-49d0-a776-3c7e604678ce",
   "metadata": {},
   "outputs": [],
   "source": [
    "df_results = pd.merge(\n",
    "    df_results,\n",
    "    df_results[acc_columns].mean(axis=1).to_frame().rename({0: 'acc_mean'}, axis=1),\n",
    "    left_index=True,\n",
    "    right_index=True\n",
    ")\n",
    "\n",
    "df_results = pd.merge(\n",
    "    df_results,\n",
    "    df_results[acc_columns].std(axis=1).to_frame().rename({0: 'acc_std'}, axis=1),\n",
    "    left_index=True,\n",
    "    right_index=True\n",
    ")"
   ]
  },
  {
   "cell_type": "code",
   "execution_count": 21,
   "id": "9c408952-df83-40b3-b0ad-76eff9188876",
   "metadata": {},
   "outputs": [],
   "source": [
    "df_results = pd.merge(\n",
    "    df_results,\n",
    "    df_results[f1_columns].mean(axis=1).to_frame().rename({0: 'f1_mean'}, axis=1),\n",
    "    left_index=True,\n",
    "    right_index=True\n",
    ")\n",
    "\n",
    "df_results = pd.merge(\n",
    "    df_results,\n",
    "    df_results[f1_columns].std(axis=1).to_frame().rename({0: 'f1_std'}, axis=1),\n",
    "    left_index=True,\n",
    "    right_index=True\n",
    ")"
   ]
  },
  {
   "cell_type": "code",
   "execution_count": 22,
   "id": "cf7b0dc9-3582-47ba-bb00-be88f3ba53e1",
   "metadata": {},
   "outputs": [],
   "source": [
    "df_results = pd.merge(\n",
    "    df_results,\n",
    "    df_results[mcc_columns].mean(axis=1).to_frame().rename({0: 'mcc_mean'}, axis=1),\n",
    "    left_index=True,\n",
    "    right_index=True\n",
    ")\n",
    "\n",
    "df_results = pd.merge(\n",
    "    df_results,\n",
    "    df_results[mcc_columns].std(axis=1).to_frame().rename({0: 'mcc_std'}, axis=1),\n",
    "    left_index=True,\n",
    "    right_index=True\n",
    ")"
   ]
  },
  {
   "cell_type": "code",
   "execution_count": 23,
   "id": "0bdfa50a-31cb-46ec-bb64-1fb6f1b64344",
   "metadata": {},
   "outputs": [
    {
     "data": {
      "text/html": [
       "<div>\n",
       "<style scoped>\n",
       "    .dataframe tbody tr th:only-of-type {\n",
       "        vertical-align: middle;\n",
       "    }\n",
       "\n",
       "    .dataframe tbody tr th {\n",
       "        vertical-align: top;\n",
       "    }\n",
       "\n",
       "    .dataframe thead th {\n",
       "        text-align: right;\n",
       "    }\n",
       "</style>\n",
       "<table border=\"1\" class=\"dataframe\">\n",
       "  <thead>\n",
       "    <tr style=\"text-align: right;\">\n",
       "      <th></th>\n",
       "      <th>beta1</th>\n",
       "      <th>beta2</th>\n",
       "      <th>end_factor</th>\n",
       "      <th>layer_size</th>\n",
       "      <th>lr</th>\n",
       "      <th>lr_sched</th>\n",
       "      <th>number_of_layer</th>\n",
       "      <th>start_factor</th>\n",
       "      <th>total_iters</th>\n",
       "      <th>weight_decay</th>\n",
       "      <th>acc_mean</th>\n",
       "      <th>acc_std</th>\n",
       "    </tr>\n",
       "  </thead>\n",
       "  <tbody>\n",
       "    <tr>\n",
       "      <th>2</th>\n",
       "      <td>0.9</td>\n",
       "      <td>0.999</td>\n",
       "      <td>0.05</td>\n",
       "      <td>1024</td>\n",
       "      <td>0.0001</td>\n",
       "      <td>linear</td>\n",
       "      <td>3</td>\n",
       "      <td>1</td>\n",
       "      <td>1000</td>\n",
       "      <td>0.0001</td>\n",
       "      <td>0.688477</td>\n",
       "      <td>0.000902</td>\n",
       "    </tr>\n",
       "    <tr>\n",
       "      <th>0</th>\n",
       "      <td>0.9</td>\n",
       "      <td>0.999</td>\n",
       "      <td>None</td>\n",
       "      <td>1024</td>\n",
       "      <td>0.0001</td>\n",
       "      <td>None</td>\n",
       "      <td>3</td>\n",
       "      <td>None</td>\n",
       "      <td>None</td>\n",
       "      <td>0.0001</td>\n",
       "      <td>0.688006</td>\n",
       "      <td>0.004569</td>\n",
       "    </tr>\n",
       "    <tr>\n",
       "      <th>5</th>\n",
       "      <td>0.9</td>\n",
       "      <td>0.999</td>\n",
       "      <td>0.05</td>\n",
       "      <td>1024</td>\n",
       "      <td>0.0001</td>\n",
       "      <td>linear</td>\n",
       "      <td>3</td>\n",
       "      <td>1</td>\n",
       "      <td>2000</td>\n",
       "      <td>0.0001</td>\n",
       "      <td>0.687539</td>\n",
       "      <td>0.000817</td>\n",
       "    </tr>\n",
       "    <tr>\n",
       "      <th>1</th>\n",
       "      <td>0.9</td>\n",
       "      <td>0.999</td>\n",
       "      <td>0.1</td>\n",
       "      <td>1024</td>\n",
       "      <td>0.0001</td>\n",
       "      <td>linear</td>\n",
       "      <td>3</td>\n",
       "      <td>1</td>\n",
       "      <td>1000</td>\n",
       "      <td>0.0001</td>\n",
       "      <td>0.687358</td>\n",
       "      <td>0.003061</td>\n",
       "    </tr>\n",
       "    <tr>\n",
       "      <th>6</th>\n",
       "      <td>0.9</td>\n",
       "      <td>0.999</td>\n",
       "      <td>0.01</td>\n",
       "      <td>1024</td>\n",
       "      <td>0.0001</td>\n",
       "      <td>linear</td>\n",
       "      <td>3</td>\n",
       "      <td>1</td>\n",
       "      <td>2000</td>\n",
       "      <td>0.0001</td>\n",
       "      <td>0.685306</td>\n",
       "      <td>0.000467</td>\n",
       "    </tr>\n",
       "  </tbody>\n",
       "</table>\n",
       "</div>"
      ],
      "text/plain": [
       "   beta1  beta2 end_factor  layer_size      lr lr_sched  number_of_layer  \\\n",
       "2    0.9  0.999       0.05        1024  0.0001   linear                3   \n",
       "0    0.9  0.999       None        1024  0.0001     None                3   \n",
       "5    0.9  0.999       0.05        1024  0.0001   linear                3   \n",
       "1    0.9  0.999        0.1        1024  0.0001   linear                3   \n",
       "6    0.9  0.999       0.01        1024  0.0001   linear                3   \n",
       "\n",
       "  start_factor total_iters  weight_decay  acc_mean   acc_std  \n",
       "2            1        1000        0.0001  0.688477  0.000902  \n",
       "0         None        None        0.0001  0.688006  0.004569  \n",
       "5            1        2000        0.0001  0.687539  0.000817  \n",
       "1            1        1000        0.0001  0.687358  0.003061  \n",
       "6            1        2000        0.0001  0.685306  0.000467  "
      ]
     },
     "execution_count": 23,
     "metadata": {},
     "output_type": "execute_result"
    }
   ],
   "source": [
    "WHICH = 'acc'\n",
    "df_results[other_columns + \n",
    "           ['{}_mean'.format(WHICH), '{}_std'.format(WHICH)]].sort_values(by='{}_mean'.format(WHICH), \n",
    "                                                                          ascending=False).head(5)"
   ]
  },
  {
   "cell_type": "code",
   "execution_count": 24,
   "id": "8cfb7e6b-255b-4a8c-8b53-4176baa0db12",
   "metadata": {},
   "outputs": [
    {
     "data": {
      "text/html": [
       "<div>\n",
       "<style scoped>\n",
       "    .dataframe tbody tr th:only-of-type {\n",
       "        vertical-align: middle;\n",
       "    }\n",
       "\n",
       "    .dataframe tbody tr th {\n",
       "        vertical-align: top;\n",
       "    }\n",
       "\n",
       "    .dataframe thead th {\n",
       "        text-align: right;\n",
       "    }\n",
       "</style>\n",
       "<table border=\"1\" class=\"dataframe\">\n",
       "  <thead>\n",
       "    <tr style=\"text-align: right;\">\n",
       "      <th></th>\n",
       "      <th>beta1</th>\n",
       "      <th>beta2</th>\n",
       "      <th>end_factor</th>\n",
       "      <th>layer_size</th>\n",
       "      <th>lr</th>\n",
       "      <th>lr_sched</th>\n",
       "      <th>number_of_layer</th>\n",
       "      <th>start_factor</th>\n",
       "      <th>total_iters</th>\n",
       "      <th>weight_decay</th>\n",
       "      <th>mcc_mean</th>\n",
       "      <th>mcc_std</th>\n",
       "    </tr>\n",
       "  </thead>\n",
       "  <tbody>\n",
       "    <tr>\n",
       "      <th>2</th>\n",
       "      <td>0.9</td>\n",
       "      <td>0.999</td>\n",
       "      <td>0.05</td>\n",
       "      <td>1024</td>\n",
       "      <td>0.0001</td>\n",
       "      <td>linear</td>\n",
       "      <td>3</td>\n",
       "      <td>1</td>\n",
       "      <td>1000</td>\n",
       "      <td>0.0001</td>\n",
       "      <td>0.399326</td>\n",
       "      <td>0.005643</td>\n",
       "    </tr>\n",
       "    <tr>\n",
       "      <th>0</th>\n",
       "      <td>0.9</td>\n",
       "      <td>0.999</td>\n",
       "      <td>None</td>\n",
       "      <td>1024</td>\n",
       "      <td>0.0001</td>\n",
       "      <td>None</td>\n",
       "      <td>3</td>\n",
       "      <td>None</td>\n",
       "      <td>None</td>\n",
       "      <td>0.0001</td>\n",
       "      <td>0.392765</td>\n",
       "      <td>0.015821</td>\n",
       "    </tr>\n",
       "    <tr>\n",
       "      <th>5</th>\n",
       "      <td>0.9</td>\n",
       "      <td>0.999</td>\n",
       "      <td>0.05</td>\n",
       "      <td>1024</td>\n",
       "      <td>0.0001</td>\n",
       "      <td>linear</td>\n",
       "      <td>3</td>\n",
       "      <td>1</td>\n",
       "      <td>2000</td>\n",
       "      <td>0.0001</td>\n",
       "      <td>0.392593</td>\n",
       "      <td>0.004339</td>\n",
       "    </tr>\n",
       "    <tr>\n",
       "      <th>1</th>\n",
       "      <td>0.9</td>\n",
       "      <td>0.999</td>\n",
       "      <td>0.1</td>\n",
       "      <td>1024</td>\n",
       "      <td>0.0001</td>\n",
       "      <td>linear</td>\n",
       "      <td>3</td>\n",
       "      <td>1</td>\n",
       "      <td>1000</td>\n",
       "      <td>0.0001</td>\n",
       "      <td>0.392250</td>\n",
       "      <td>0.011303</td>\n",
       "    </tr>\n",
       "    <tr>\n",
       "      <th>6</th>\n",
       "      <td>0.9</td>\n",
       "      <td>0.999</td>\n",
       "      <td>0.01</td>\n",
       "      <td>1024</td>\n",
       "      <td>0.0001</td>\n",
       "      <td>linear</td>\n",
       "      <td>3</td>\n",
       "      <td>1</td>\n",
       "      <td>2000</td>\n",
       "      <td>0.0001</td>\n",
       "      <td>0.386087</td>\n",
       "      <td>0.001704</td>\n",
       "    </tr>\n",
       "  </tbody>\n",
       "</table>\n",
       "</div>"
      ],
      "text/plain": [
       "   beta1  beta2 end_factor  layer_size      lr lr_sched  number_of_layer  \\\n",
       "2    0.9  0.999       0.05        1024  0.0001   linear                3   \n",
       "0    0.9  0.999       None        1024  0.0001     None                3   \n",
       "5    0.9  0.999       0.05        1024  0.0001   linear                3   \n",
       "1    0.9  0.999        0.1        1024  0.0001   linear                3   \n",
       "6    0.9  0.999       0.01        1024  0.0001   linear                3   \n",
       "\n",
       "  start_factor total_iters  weight_decay  mcc_mean   mcc_std  \n",
       "2            1        1000        0.0001  0.399326  0.005643  \n",
       "0         None        None        0.0001  0.392765  0.015821  \n",
       "5            1        2000        0.0001  0.392593  0.004339  \n",
       "1            1        1000        0.0001  0.392250  0.011303  \n",
       "6            1        2000        0.0001  0.386087  0.001704  "
      ]
     },
     "execution_count": 24,
     "metadata": {},
     "output_type": "execute_result"
    }
   ],
   "source": [
    "WHICH = 'mcc'\n",
    "df_results[other_columns + \n",
    "           ['{}_mean'.format(WHICH), '{}_std'.format(WHICH)]].sort_values(by='{}_mean'.format(WHICH), \n",
    "                                                                          ascending=False).head(5)"
   ]
  },
  {
   "cell_type": "code",
   "execution_count": 25,
   "id": "6eda6ca3-111c-4128-bfeb-313705a98af1",
   "metadata": {},
   "outputs": [
    {
     "data": {
      "text/html": [
       "<div>\n",
       "<style scoped>\n",
       "    .dataframe tbody tr th:only-of-type {\n",
       "        vertical-align: middle;\n",
       "    }\n",
       "\n",
       "    .dataframe tbody tr th {\n",
       "        vertical-align: top;\n",
       "    }\n",
       "\n",
       "    .dataframe thead th {\n",
       "        text-align: right;\n",
       "    }\n",
       "</style>\n",
       "<table border=\"1\" class=\"dataframe\">\n",
       "  <thead>\n",
       "    <tr style=\"text-align: right;\">\n",
       "      <th></th>\n",
       "      <th>beta1</th>\n",
       "      <th>beta2</th>\n",
       "      <th>end_factor</th>\n",
       "      <th>layer_size</th>\n",
       "      <th>lr</th>\n",
       "      <th>lr_sched</th>\n",
       "      <th>number_of_layer</th>\n",
       "      <th>start_factor</th>\n",
       "      <th>total_iters</th>\n",
       "      <th>weight_decay</th>\n",
       "      <th>f1_mean</th>\n",
       "      <th>f1_std</th>\n",
       "    </tr>\n",
       "  </thead>\n",
       "  <tbody>\n",
       "    <tr>\n",
       "      <th>4</th>\n",
       "      <td>0.9</td>\n",
       "      <td>0.999</td>\n",
       "      <td>0.1</td>\n",
       "      <td>1024</td>\n",
       "      <td>0.0001</td>\n",
       "      <td>linear</td>\n",
       "      <td>3</td>\n",
       "      <td>1</td>\n",
       "      <td>2000</td>\n",
       "      <td>0.0001</td>\n",
       "      <td>0.642413</td>\n",
       "      <td>0.010288</td>\n",
       "    </tr>\n",
       "    <tr>\n",
       "      <th>0</th>\n",
       "      <td>0.9</td>\n",
       "      <td>0.999</td>\n",
       "      <td>None</td>\n",
       "      <td>1024</td>\n",
       "      <td>0.0001</td>\n",
       "      <td>None</td>\n",
       "      <td>3</td>\n",
       "      <td>None</td>\n",
       "      <td>None</td>\n",
       "      <td>0.0001</td>\n",
       "      <td>0.638865</td>\n",
       "      <td>0.006282</td>\n",
       "    </tr>\n",
       "    <tr>\n",
       "      <th>6</th>\n",
       "      <td>0.9</td>\n",
       "      <td>0.999</td>\n",
       "      <td>0.01</td>\n",
       "      <td>1024</td>\n",
       "      <td>0.0001</td>\n",
       "      <td>linear</td>\n",
       "      <td>3</td>\n",
       "      <td>1</td>\n",
       "      <td>2000</td>\n",
       "      <td>0.0001</td>\n",
       "      <td>0.636679</td>\n",
       "      <td>0.001036</td>\n",
       "    </tr>\n",
       "    <tr>\n",
       "      <th>1</th>\n",
       "      <td>0.9</td>\n",
       "      <td>0.999</td>\n",
       "      <td>0.1</td>\n",
       "      <td>1024</td>\n",
       "      <td>0.0001</td>\n",
       "      <td>linear</td>\n",
       "      <td>3</td>\n",
       "      <td>1</td>\n",
       "      <td>1000</td>\n",
       "      <td>0.0001</td>\n",
       "      <td>0.636258</td>\n",
       "      <td>0.004836</td>\n",
       "    </tr>\n",
       "    <tr>\n",
       "      <th>5</th>\n",
       "      <td>0.9</td>\n",
       "      <td>0.999</td>\n",
       "      <td>0.05</td>\n",
       "      <td>1024</td>\n",
       "      <td>0.0001</td>\n",
       "      <td>linear</td>\n",
       "      <td>3</td>\n",
       "      <td>1</td>\n",
       "      <td>2000</td>\n",
       "      <td>0.0001</td>\n",
       "      <td>0.636152</td>\n",
       "      <td>0.003557</td>\n",
       "    </tr>\n",
       "  </tbody>\n",
       "</table>\n",
       "</div>"
      ],
      "text/plain": [
       "   beta1  beta2 end_factor  layer_size      lr lr_sched  number_of_layer  \\\n",
       "4    0.9  0.999        0.1        1024  0.0001   linear                3   \n",
       "0    0.9  0.999       None        1024  0.0001     None                3   \n",
       "6    0.9  0.999       0.01        1024  0.0001   linear                3   \n",
       "1    0.9  0.999        0.1        1024  0.0001   linear                3   \n",
       "5    0.9  0.999       0.05        1024  0.0001   linear                3   \n",
       "\n",
       "  start_factor total_iters  weight_decay   f1_mean    f1_std  \n",
       "4            1        2000        0.0001  0.642413  0.010288  \n",
       "0         None        None        0.0001  0.638865  0.006282  \n",
       "6            1        2000        0.0001  0.636679  0.001036  \n",
       "1            1        1000        0.0001  0.636258  0.004836  \n",
       "5            1        2000        0.0001  0.636152  0.003557  "
      ]
     },
     "execution_count": 25,
     "metadata": {},
     "output_type": "execute_result"
    }
   ],
   "source": [
    "WHICH = 'f1'\n",
    "df_results[other_columns + \n",
    "           ['{}_mean'.format(WHICH), '{}_std'.format(WHICH)]].sort_values(by='{}_mean'.format(WHICH), \n",
    "                                                                          ascending=False).head(5)"
   ]
  },
  {
   "cell_type": "markdown",
   "id": "45a2f090-fe39-4d7b-916b-4e7e5d96b92f",
   "metadata": {
    "jp-MarkdownHeadingCollapsed": true
   },
   "source": [
    "### Third grid search"
   ]
  },
  {
   "cell_type": "code",
   "execution_count": 26,
   "id": "452deaa4-cbaf-4019-a35f-533d6b59cc19",
   "metadata": {},
   "outputs": [],
   "source": [
    "#GRID_SEARCH_DIRECTORIES = [\n",
    "#    r'../results/classification/grid_search_7',\n",
    "#    r'../results/classification/grid_search_8',\n",
    "#    r'../results/classification/grid_search_9'\n",
    "#]\n",
    "\n",
    "GRID_SEARCH_DIRECTORIES = [\n",
    "    r'../results/classification/grid_search_17',\n",
    "    r'../results/classification/grid_search_18',\n",
    "    r'../results/classification/grid_search_19'\n",
    "]"
   ]
  },
  {
   "cell_type": "code",
   "execution_count": 27,
   "id": "d91dca17-e753-4365-ac87-27532a5ec29d",
   "metadata": {},
   "outputs": [
    {
     "name": "stdout",
     "output_type": "stream",
     "text": [
      "Dataset: ../datasets/new/classificator/random/train_random/train.csv\n",
      "Full dataset size: 1432650\n",
      "Subsample of size: None\n",
      "Train batches: 10000\n"
     ]
    }
   ],
   "source": [
    "with open('{}/{}/hyperpar.json'.format(GRID_SEARCH_DIRECTORIES[0], '0')) as f:\n",
    "    hyperpars = json.load(f)\n",
    "\n",
    "training_data = hyperpars['train_dataset']\n",
    "print('Dataset: {}'.format(training_data['name']))\n",
    "print('Full dataset size: {}'.format(training_data['size']))\n",
    "print('Subsample of size: {}'.format(training_data['subsample']))\n",
    "#print('Number of epochs: {}'.format(hyperpars['n_epochs']))\n",
    "\n",
    "# Manual computation of batches\n",
    "print('Train batches: {}'.format(hyperpars['train_batches']))"
   ]
  },
  {
   "cell_type": "code",
   "execution_count": 28,
   "id": "986b1439-330c-4554-9db3-ca90b773048d",
   "metadata": {},
   "outputs": [
    {
     "name": "stdout",
     "output_type": "stream",
     "text": [
      "Dataset: ../datasets/new/classificator/random/val_random/val.csv\n",
      "Full dataset size: 542466\n",
      "Subsample of size: 81369\n"
     ]
    }
   ],
   "source": [
    "with open('{}/{}/hyperpar_val_results.json'.format(GRID_SEARCH_DIRECTORIES[0], '0')) as f:\n",
    "    hyperpars = json.load(f)\n",
    "\n",
    "print('Dataset: {}'.format(hyperpars['name']))\n",
    "print('Full dataset size: {}'.format(hyperpars['size']))\n",
    "print('Subsample of size: {}'.format(hyperpars['subsample']))"
   ]
  },
  {
   "cell_type": "code",
   "execution_count": 29,
   "id": "ca6547d9-bed1-48aa-a281-c482ea072f80",
   "metadata": {},
   "outputs": [],
   "source": [
    "gs_results = defaultdict(dict)\n",
    "\n",
    "for d in os.listdir(GRID_SEARCH_DIRECTORIES[0]):\n",
    "    with open('{}/{}/hyperpar.json'.format(GRID_SEARCH_DIRECTORIES[0], d)) as f:\n",
    "        hyperpars = json.load(f)\n",
    "    \n",
    "    gs_results[d]['number_of_layer'] = hyperpars['model']['number_of_layers']\n",
    "    gs_results[d]['layer_size'] = hyperpars['model']['layer_size']\n",
    "    gs_results[d]['lr'] = hyperpars['optimizer']['lr']\n",
    "    gs_results[d]['weight_decay'] = hyperpars['optimizer']['weight_decay']\n",
    "\n",
    "    #print(hyperpars)\n",
    "\n",
    "    if 'lr_sched' not in hyperpars:\n",
    "        gs_results[d]['lr_sched'] = 'None'\n",
    "        gs_results[d]['start_factor'] = 'None'\n",
    "        gs_results[d]['end_factor'] = 'None'\n",
    "        gs_results[d]['total_iters'] = 'None'\n",
    "    else:\n",
    "        gs_results[d]['lr_sched'] = hyperpars['lr_sched']['name']\n",
    "        gs_results[d]['start_factor'] = hyperpars['lr_sched']['start_factor']\n",
    "        gs_results[d]['end_factor'] = hyperpars['lr_sched']['end_factor']\n",
    "        gs_results[d]['total_iters'] = hyperpars['lr_sched']['total_iters']\n",
    "\n",
    "    if 'beta1' in hyperpars['optimizer']:\n",
    "        gs_results[d]['beta1'] = hyperpars['optimizer']['beta1']\n",
    "        gs_results[d]['beta2'] = hyperpars['optimizer']['beta2']"
   ]
  },
  {
   "cell_type": "code",
   "execution_count": 30,
   "id": "e7052b3e-2f25-41f1-8aa9-8050004a5db3",
   "metadata": {},
   "outputs": [],
   "source": [
    "for d1 in GRID_SEARCH_DIRECTORIES:\n",
    "    for d2 in os.listdir(d1):\n",
    "        df = pd.read_csv('{}/{}/val_results_classification.csv'.format(d1, d2), index_col=0)\n",
    "        gs_results[d2]['acc_{}'.format(d1.split('_')[-1])] = accuracy_score(df['label'], df['prediction'])\n",
    "        gs_results[d2]['f1_{}'.format(d1.split('_')[-1])] = f1_score(df['label'], df['prediction'])\n",
    "        gs_results[d2]['mcc_{}'.format(d1.split('_')[-1])] = matthews_corrcoef(df['label'], df['prediction'])"
   ]
  },
  {
   "cell_type": "code",
   "execution_count": 31,
   "id": "8822cab3-f090-4871-847c-3fb1ace23833",
   "metadata": {},
   "outputs": [],
   "source": [
    "dict_results = defaultdict(list)\n",
    "\n",
    "for _, item in gs_results.items():\n",
    "    for key, value in item.items():\n",
    "        dict_results[key].append(value)\n",
    "\n",
    "df_results = pd.DataFrame(dict_results)\n",
    "\n",
    "acc_columns = sorted([c for c in df_results.columns if 'acc' in c])\n",
    "f1_columns = sorted([c for c in df_results.columns if 'f1' in c])\n",
    "mcc_columns = sorted([c for c in df_results.columns if 'mcc' in c])\n",
    "other_columns = sorted(list(set(df_results.columns).difference(set(acc_columns + f1_columns + mcc_columns))))\n",
    "\n",
    "df_results = df_results[other_columns + acc_columns + f1_columns + mcc_columns]"
   ]
  },
  {
   "cell_type": "code",
   "execution_count": 32,
   "id": "200b8158-c4d7-4eba-926b-53c473bf3430",
   "metadata": {},
   "outputs": [],
   "source": [
    "df_results = pd.merge(\n",
    "    df_results,\n",
    "    df_results[acc_columns].mean(axis=1).to_frame().rename({0: 'acc_mean'}, axis=1),\n",
    "    left_index=True,\n",
    "    right_index=True\n",
    ")\n",
    "\n",
    "df_results = pd.merge(\n",
    "    df_results,\n",
    "    df_results[acc_columns].std(axis=1).to_frame().rename({0: 'acc_std'}, axis=1),\n",
    "    left_index=True,\n",
    "    right_index=True\n",
    ")"
   ]
  },
  {
   "cell_type": "code",
   "execution_count": 33,
   "id": "5bfebc66-8436-44c7-a625-902d4dfaba44",
   "metadata": {},
   "outputs": [],
   "source": [
    "df_results = pd.merge(\n",
    "    df_results,\n",
    "    df_results[f1_columns].mean(axis=1).to_frame().rename({0: 'f1_mean'}, axis=1),\n",
    "    left_index=True,\n",
    "    right_index=True\n",
    ")\n",
    "\n",
    "df_results = pd.merge(\n",
    "    df_results,\n",
    "    df_results[f1_columns].std(axis=1).to_frame().rename({0: 'f1_std'}, axis=1),\n",
    "    left_index=True,\n",
    "    right_index=True\n",
    ")"
   ]
  },
  {
   "cell_type": "code",
   "execution_count": 34,
   "id": "a5b3f109-d39a-4cdc-b55f-171ae441143b",
   "metadata": {},
   "outputs": [],
   "source": [
    "df_results = pd.merge(\n",
    "    df_results,\n",
    "    df_results[mcc_columns].mean(axis=1).to_frame().rename({0: 'mcc_mean'}, axis=1),\n",
    "    left_index=True,\n",
    "    right_index=True\n",
    ")\n",
    "\n",
    "df_results = pd.merge(\n",
    "    df_results,\n",
    "    df_results[mcc_columns].std(axis=1).to_frame().rename({0: 'mcc_std'}, axis=1),\n",
    "    left_index=True,\n",
    "    right_index=True\n",
    ")"
   ]
  },
  {
   "cell_type": "code",
   "execution_count": 35,
   "id": "df7e58b5-f275-4477-a16f-8a39bea8f927",
   "metadata": {},
   "outputs": [
    {
     "data": {
      "text/html": [
       "<div>\n",
       "<style scoped>\n",
       "    .dataframe tbody tr th:only-of-type {\n",
       "        vertical-align: middle;\n",
       "    }\n",
       "\n",
       "    .dataframe tbody tr th {\n",
       "        vertical-align: top;\n",
       "    }\n",
       "\n",
       "    .dataframe thead th {\n",
       "        text-align: right;\n",
       "    }\n",
       "</style>\n",
       "<table border=\"1\" class=\"dataframe\">\n",
       "  <thead>\n",
       "    <tr style=\"text-align: right;\">\n",
       "      <th></th>\n",
       "      <th>beta1</th>\n",
       "      <th>beta2</th>\n",
       "      <th>end_factor</th>\n",
       "      <th>layer_size</th>\n",
       "      <th>lr</th>\n",
       "      <th>lr_sched</th>\n",
       "      <th>number_of_layer</th>\n",
       "      <th>start_factor</th>\n",
       "      <th>total_iters</th>\n",
       "      <th>weight_decay</th>\n",
       "      <th>acc_mean</th>\n",
       "      <th>acc_std</th>\n",
       "    </tr>\n",
       "  </thead>\n",
       "  <tbody>\n",
       "    <tr>\n",
       "      <th>10</th>\n",
       "      <td>0.85</td>\n",
       "      <td>0.96</td>\n",
       "      <td>0.05</td>\n",
       "      <td>1024</td>\n",
       "      <td>0.0001</td>\n",
       "      <td>linear</td>\n",
       "      <td>3</td>\n",
       "      <td>1</td>\n",
       "      <td>1000</td>\n",
       "      <td>0.001</td>\n",
       "      <td>0.687113</td>\n",
       "      <td>0.000523</td>\n",
       "    </tr>\n",
       "    <tr>\n",
       "      <th>2</th>\n",
       "      <td>0.90</td>\n",
       "      <td>0.96</td>\n",
       "      <td>0.05</td>\n",
       "      <td>1024</td>\n",
       "      <td>0.0001</td>\n",
       "      <td>linear</td>\n",
       "      <td>3</td>\n",
       "      <td>1</td>\n",
       "      <td>1000</td>\n",
       "      <td>0.001</td>\n",
       "      <td>0.686515</td>\n",
       "      <td>0.000682</td>\n",
       "    </tr>\n",
       "    <tr>\n",
       "      <th>7</th>\n",
       "      <td>0.95</td>\n",
       "      <td>0.94</td>\n",
       "      <td>0.05</td>\n",
       "      <td>1024</td>\n",
       "      <td>0.0001</td>\n",
       "      <td>linear</td>\n",
       "      <td>3</td>\n",
       "      <td>1</td>\n",
       "      <td>1000</td>\n",
       "      <td>0.001</td>\n",
       "      <td>0.686469</td>\n",
       "      <td>0.001211</td>\n",
       "    </tr>\n",
       "    <tr>\n",
       "      <th>13</th>\n",
       "      <td>0.80</td>\n",
       "      <td>0.98</td>\n",
       "      <td>0.05</td>\n",
       "      <td>1024</td>\n",
       "      <td>0.0001</td>\n",
       "      <td>linear</td>\n",
       "      <td>3</td>\n",
       "      <td>1</td>\n",
       "      <td>1000</td>\n",
       "      <td>0.001</td>\n",
       "      <td>0.686199</td>\n",
       "      <td>0.002003</td>\n",
       "    </tr>\n",
       "    <tr>\n",
       "      <th>15</th>\n",
       "      <td>0.80</td>\n",
       "      <td>0.94</td>\n",
       "      <td>0.05</td>\n",
       "      <td>1024</td>\n",
       "      <td>0.0001</td>\n",
       "      <td>linear</td>\n",
       "      <td>3</td>\n",
       "      <td>1</td>\n",
       "      <td>1000</td>\n",
       "      <td>0.001</td>\n",
       "      <td>0.685843</td>\n",
       "      <td>0.001836</td>\n",
       "    </tr>\n",
       "  </tbody>\n",
       "</table>\n",
       "</div>"
      ],
      "text/plain": [
       "    beta1  beta2  end_factor  layer_size      lr lr_sched  number_of_layer  \\\n",
       "10   0.85   0.96        0.05        1024  0.0001   linear                3   \n",
       "2    0.90   0.96        0.05        1024  0.0001   linear                3   \n",
       "7    0.95   0.94        0.05        1024  0.0001   linear                3   \n",
       "13   0.80   0.98        0.05        1024  0.0001   linear                3   \n",
       "15   0.80   0.94        0.05        1024  0.0001   linear                3   \n",
       "\n",
       "    start_factor  total_iters  weight_decay  acc_mean   acc_std  \n",
       "10             1         1000         0.001  0.687113  0.000523  \n",
       "2              1         1000         0.001  0.686515  0.000682  \n",
       "7              1         1000         0.001  0.686469  0.001211  \n",
       "13             1         1000         0.001  0.686199  0.002003  \n",
       "15             1         1000         0.001  0.685843  0.001836  "
      ]
     },
     "execution_count": 35,
     "metadata": {},
     "output_type": "execute_result"
    }
   ],
   "source": [
    "WHICH = 'acc'\n",
    "df_results[other_columns + \n",
    "           ['{}_mean'.format(WHICH), '{}_std'.format(WHICH)]].sort_values(by='{}_mean'.format(WHICH), \n",
    "                                                                          ascending=False).head(5)"
   ]
  },
  {
   "cell_type": "code",
   "execution_count": 36,
   "id": "72a9c1a9-425e-42ba-aa93-62a31686be07",
   "metadata": {},
   "outputs": [
    {
     "data": {
      "text/html": [
       "<div>\n",
       "<style scoped>\n",
       "    .dataframe tbody tr th:only-of-type {\n",
       "        vertical-align: middle;\n",
       "    }\n",
       "\n",
       "    .dataframe tbody tr th {\n",
       "        vertical-align: top;\n",
       "    }\n",
       "\n",
       "    .dataframe thead th {\n",
       "        text-align: right;\n",
       "    }\n",
       "</style>\n",
       "<table border=\"1\" class=\"dataframe\">\n",
       "  <thead>\n",
       "    <tr style=\"text-align: right;\">\n",
       "      <th></th>\n",
       "      <th>beta1</th>\n",
       "      <th>beta2</th>\n",
       "      <th>end_factor</th>\n",
       "      <th>layer_size</th>\n",
       "      <th>lr</th>\n",
       "      <th>lr_sched</th>\n",
       "      <th>number_of_layer</th>\n",
       "      <th>start_factor</th>\n",
       "      <th>total_iters</th>\n",
       "      <th>weight_decay</th>\n",
       "      <th>mcc_mean</th>\n",
       "      <th>mcc_std</th>\n",
       "    </tr>\n",
       "  </thead>\n",
       "  <tbody>\n",
       "    <tr>\n",
       "      <th>10</th>\n",
       "      <td>0.85</td>\n",
       "      <td>0.96</td>\n",
       "      <td>0.05</td>\n",
       "      <td>1024</td>\n",
       "      <td>0.0001</td>\n",
       "      <td>linear</td>\n",
       "      <td>3</td>\n",
       "      <td>1</td>\n",
       "      <td>1000</td>\n",
       "      <td>0.001</td>\n",
       "      <td>0.393161</td>\n",
       "      <td>0.002533</td>\n",
       "    </tr>\n",
       "    <tr>\n",
       "      <th>7</th>\n",
       "      <td>0.95</td>\n",
       "      <td>0.94</td>\n",
       "      <td>0.05</td>\n",
       "      <td>1024</td>\n",
       "      <td>0.0001</td>\n",
       "      <td>linear</td>\n",
       "      <td>3</td>\n",
       "      <td>1</td>\n",
       "      <td>1000</td>\n",
       "      <td>0.001</td>\n",
       "      <td>0.391014</td>\n",
       "      <td>0.004416</td>\n",
       "    </tr>\n",
       "    <tr>\n",
       "      <th>2</th>\n",
       "      <td>0.90</td>\n",
       "      <td>0.96</td>\n",
       "      <td>0.05</td>\n",
       "      <td>1024</td>\n",
       "      <td>0.0001</td>\n",
       "      <td>linear</td>\n",
       "      <td>3</td>\n",
       "      <td>1</td>\n",
       "      <td>1000</td>\n",
       "      <td>0.001</td>\n",
       "      <td>0.390869</td>\n",
       "      <td>0.002809</td>\n",
       "    </tr>\n",
       "    <tr>\n",
       "      <th>13</th>\n",
       "      <td>0.80</td>\n",
       "      <td>0.98</td>\n",
       "      <td>0.05</td>\n",
       "      <td>1024</td>\n",
       "      <td>0.0001</td>\n",
       "      <td>linear</td>\n",
       "      <td>3</td>\n",
       "      <td>1</td>\n",
       "      <td>1000</td>\n",
       "      <td>0.001</td>\n",
       "      <td>0.390120</td>\n",
       "      <td>0.008233</td>\n",
       "    </tr>\n",
       "    <tr>\n",
       "      <th>15</th>\n",
       "      <td>0.80</td>\n",
       "      <td>0.94</td>\n",
       "      <td>0.05</td>\n",
       "      <td>1024</td>\n",
       "      <td>0.0001</td>\n",
       "      <td>linear</td>\n",
       "      <td>3</td>\n",
       "      <td>1</td>\n",
       "      <td>1000</td>\n",
       "      <td>0.001</td>\n",
       "      <td>0.388801</td>\n",
       "      <td>0.007373</td>\n",
       "    </tr>\n",
       "  </tbody>\n",
       "</table>\n",
       "</div>"
      ],
      "text/plain": [
       "    beta1  beta2  end_factor  layer_size      lr lr_sched  number_of_layer  \\\n",
       "10   0.85   0.96        0.05        1024  0.0001   linear                3   \n",
       "7    0.95   0.94        0.05        1024  0.0001   linear                3   \n",
       "2    0.90   0.96        0.05        1024  0.0001   linear                3   \n",
       "13   0.80   0.98        0.05        1024  0.0001   linear                3   \n",
       "15   0.80   0.94        0.05        1024  0.0001   linear                3   \n",
       "\n",
       "    start_factor  total_iters  weight_decay  mcc_mean   mcc_std  \n",
       "10             1         1000         0.001  0.393161  0.002533  \n",
       "7              1         1000         0.001  0.391014  0.004416  \n",
       "2              1         1000         0.001  0.390869  0.002809  \n",
       "13             1         1000         0.001  0.390120  0.008233  \n",
       "15             1         1000         0.001  0.388801  0.007373  "
      ]
     },
     "execution_count": 36,
     "metadata": {},
     "output_type": "execute_result"
    }
   ],
   "source": [
    "WHICH = 'mcc'\n",
    "df_results[other_columns + \n",
    "           ['{}_mean'.format(WHICH), '{}_std'.format(WHICH)]].sort_values(by='{}_mean'.format(WHICH), \n",
    "                                                                          ascending=False).head(5)"
   ]
  },
  {
   "cell_type": "code",
   "execution_count": 37,
   "id": "e52d238d-ccec-46c8-a4fc-03c6be91ed2c",
   "metadata": {},
   "outputs": [
    {
     "data": {
      "text/html": [
       "<div>\n",
       "<style scoped>\n",
       "    .dataframe tbody tr th:only-of-type {\n",
       "        vertical-align: middle;\n",
       "    }\n",
       "\n",
       "    .dataframe tbody tr th {\n",
       "        vertical-align: top;\n",
       "    }\n",
       "\n",
       "    .dataframe thead th {\n",
       "        text-align: right;\n",
       "    }\n",
       "</style>\n",
       "<table border=\"1\" class=\"dataframe\">\n",
       "  <thead>\n",
       "    <tr style=\"text-align: right;\">\n",
       "      <th></th>\n",
       "      <th>beta1</th>\n",
       "      <th>beta2</th>\n",
       "      <th>end_factor</th>\n",
       "      <th>layer_size</th>\n",
       "      <th>lr</th>\n",
       "      <th>lr_sched</th>\n",
       "      <th>number_of_layer</th>\n",
       "      <th>start_factor</th>\n",
       "      <th>total_iters</th>\n",
       "      <th>weight_decay</th>\n",
       "      <th>f1_mean</th>\n",
       "      <th>f1_std</th>\n",
       "    </tr>\n",
       "  </thead>\n",
       "  <tbody>\n",
       "    <tr>\n",
       "      <th>4</th>\n",
       "      <td>0.95</td>\n",
       "      <td>0.999</td>\n",
       "      <td>0.05</td>\n",
       "      <td>1024</td>\n",
       "      <td>0.0001</td>\n",
       "      <td>linear</td>\n",
       "      <td>3</td>\n",
       "      <td>1</td>\n",
       "      <td>1000</td>\n",
       "      <td>0.001</td>\n",
       "      <td>0.640614</td>\n",
       "      <td>0.003471</td>\n",
       "    </tr>\n",
       "    <tr>\n",
       "      <th>3</th>\n",
       "      <td>0.90</td>\n",
       "      <td>0.940</td>\n",
       "      <td>0.05</td>\n",
       "      <td>1024</td>\n",
       "      <td>0.0001</td>\n",
       "      <td>linear</td>\n",
       "      <td>3</td>\n",
       "      <td>1</td>\n",
       "      <td>1000</td>\n",
       "      <td>0.001</td>\n",
       "      <td>0.637902</td>\n",
       "      <td>0.003878</td>\n",
       "    </tr>\n",
       "    <tr>\n",
       "      <th>11</th>\n",
       "      <td>0.85</td>\n",
       "      <td>0.940</td>\n",
       "      <td>0.05</td>\n",
       "      <td>1024</td>\n",
       "      <td>0.0001</td>\n",
       "      <td>linear</td>\n",
       "      <td>3</td>\n",
       "      <td>1</td>\n",
       "      <td>1000</td>\n",
       "      <td>0.001</td>\n",
       "      <td>0.637897</td>\n",
       "      <td>0.001416</td>\n",
       "    </tr>\n",
       "    <tr>\n",
       "      <th>14</th>\n",
       "      <td>0.80</td>\n",
       "      <td>0.960</td>\n",
       "      <td>0.05</td>\n",
       "      <td>1024</td>\n",
       "      <td>0.0001</td>\n",
       "      <td>linear</td>\n",
       "      <td>3</td>\n",
       "      <td>1</td>\n",
       "      <td>1000</td>\n",
       "      <td>0.001</td>\n",
       "      <td>0.637100</td>\n",
       "      <td>0.002813</td>\n",
       "    </tr>\n",
       "    <tr>\n",
       "      <th>9</th>\n",
       "      <td>0.85</td>\n",
       "      <td>0.980</td>\n",
       "      <td>0.05</td>\n",
       "      <td>1024</td>\n",
       "      <td>0.0001</td>\n",
       "      <td>linear</td>\n",
       "      <td>3</td>\n",
       "      <td>1</td>\n",
       "      <td>1000</td>\n",
       "      <td>0.001</td>\n",
       "      <td>0.637048</td>\n",
       "      <td>0.002827</td>\n",
       "    </tr>\n",
       "  </tbody>\n",
       "</table>\n",
       "</div>"
      ],
      "text/plain": [
       "    beta1  beta2  end_factor  layer_size      lr lr_sched  number_of_layer  \\\n",
       "4    0.95  0.999        0.05        1024  0.0001   linear                3   \n",
       "3    0.90  0.940        0.05        1024  0.0001   linear                3   \n",
       "11   0.85  0.940        0.05        1024  0.0001   linear                3   \n",
       "14   0.80  0.960        0.05        1024  0.0001   linear                3   \n",
       "9    0.85  0.980        0.05        1024  0.0001   linear                3   \n",
       "\n",
       "    start_factor  total_iters  weight_decay   f1_mean    f1_std  \n",
       "4              1         1000         0.001  0.640614  0.003471  \n",
       "3              1         1000         0.001  0.637902  0.003878  \n",
       "11             1         1000         0.001  0.637897  0.001416  \n",
       "14             1         1000         0.001  0.637100  0.002813  \n",
       "9              1         1000         0.001  0.637048  0.002827  "
      ]
     },
     "execution_count": 37,
     "metadata": {},
     "output_type": "execute_result"
    }
   ],
   "source": [
    "WHICH = 'f1'\n",
    "df_results[other_columns + \n",
    "           ['{}_mean'.format(WHICH), '{}_std'.format(WHICH)]].sort_values(by='{}_mean'.format(WHICH), \n",
    "                                                                          ascending=False).head(5)"
   ]
  },
  {
   "cell_type": "markdown",
   "id": "5378d80d-3168-4e66-bc18-6e50abb2334d",
   "metadata": {},
   "source": [
    "### Final model "
   ]
  },
  {
   "cell_type": "code",
   "execution_count": 26,
   "id": "ed5471a7-2ef2-4e87-8a3e-1926108cc06f",
   "metadata": {},
   "outputs": [],
   "source": [
    "DIRECTORIES = [\n",
    "    r'../results/classification/final_train_1', \n",
    "    r'../results/classification/final_train_2',\n",
    "    r'../results/classification/final_train_3' \n",
    "]"
   ]
  },
  {
   "cell_type": "code",
   "execution_count": 27,
   "id": "caf8d7fe-ef86-4a25-a0b6-4abcf7496455",
   "metadata": {},
   "outputs": [],
   "source": [
    "learning_curves_train = [pd.read_csv('{}/results_train.csv'.format(d), index_col=0) for d in DIRECTORIES]\n",
    "learning_curves_eval = [pd.read_csv('{}/results_eval.csv'.format(d), index_col=0) for d in DIRECTORIES]"
   ]
  },
  {
   "cell_type": "code",
   "execution_count": 28,
   "id": "1484fcc7-dcf0-4075-bebf-4251ed954550",
   "metadata": {},
   "outputs": [
    {
     "name": "stdout",
     "output_type": "stream",
     "text": [
      "Training dataset:    ../datasets/new/classificator/germline_all/train/train.csv\n",
      "Size of the dataset: 1432650\n",
      "    Subsample:       None\n",
      "    Frac:            None\n",
      "\n",
      "Validation dataset:  ../datasets/new/classificator/germline_all/val/val.csv\n",
      "Size of the dataset: 542466\n",
      "    Subsample:       None\n",
      "    Frac:            None\n",
      "\n",
      "Model:               average\n",
      "    Checkpoint:      Exscientia/IgBert\n",
      "    N. layers:       5\n",
      "    Layer size:      2048\n",
      "\n",
      "Optimizer            adam\n",
      "    Lr:              0.0001\n",
      "    Weight decay:    0.001\n",
      "    Beta1:           0.95\n",
      "    Beta2:           0.96\n",
      "\n",
      "Scheduler            linear\n",
      "    Start factor:    1\n",
      "    End factor:      0.1\n",
      "    Tot. iters:      1000\n",
      "\n",
      "N. epochs            1\n",
      "Train batches:       None\n",
      "Eval batches:        30\n",
      "Evaluate every:      100\n",
      "Mean last:           20\n",
      "\n",
      "Note! Batch size: 32\n"
     ]
    }
   ],
   "source": [
    "with open('{}/hyperpar.json'.format(DIRECTORIES[0])) as f:\n",
    "    hyperpars = json.load(f)\n",
    "\n",
    "print('Training dataset:    {}'.format(hyperpars['train_dataset']['name']))\n",
    "print('Size of the dataset: {}'.format(hyperpars['train_dataset']['size']))\n",
    "print('    Subsample:       {}'.format(hyperpars['train_dataset']['subsample']))\n",
    "print('    Frac:            {}'.format(hyperpars['train_dataset']['frac']))\n",
    "print()\n",
    "print('Validation dataset:  {}'.format(hyperpars['val_dataset']['name']))\n",
    "print('Size of the dataset: {}'.format(hyperpars['val_dataset']['size']))\n",
    "print('    Subsample:       {}'.format(hyperpars['val_dataset']['subsample']))\n",
    "print('    Frac:            {}'.format(hyperpars['val_dataset']['frac']))\n",
    "print()\n",
    "print('Model:               {}'.format(hyperpars['model']['name']))\n",
    "print('    Checkpoint:      {}'.format(hyperpars['model']['checkpoint']))\n",
    "print('    N. layers:       {}'.format(hyperpars['model']['number_of_layers']))\n",
    "print('    Layer size:      {}'.format(hyperpars['model']['layer_size']))\n",
    "print()\n",
    "print('Optimizer            {}'.format(hyperpars['optimizer']['name']))\n",
    "print('    Lr:              {}'.format(hyperpars['optimizer']['lr']))\n",
    "print('    Weight decay:    {}'.format(hyperpars['optimizer']['weight_decay']))\n",
    "print('    Beta1:           {}'.format(hyperpars['optimizer']['beta1']))\n",
    "print('    Beta2:           {}'.format(hyperpars['optimizer']['beta2']))\n",
    "print()\n",
    "print('Scheduler            {}'.format(hyperpars['lr_sched']['name']))\n",
    "print('    Start factor:    {}'.format(hyperpars['lr_sched']['start_factor']))\n",
    "print('    End factor:      {}'.format(hyperpars['lr_sched']['end_factor']))\n",
    "print('    Tot. iters:      {}'.format(hyperpars['lr_sched']['total_iters']))\n",
    "print()\n",
    "print('N. epochs            {}'.format(hyperpars['n_epochs']))\n",
    "print('Train batches:       {}'.format(hyperpars['train_batches']))\n",
    "print('Eval batches:        {}'.format(hyperpars['eval_batches']))\n",
    "print('Evaluate every:      {}'.format(hyperpars['evaluate_every']))\n",
    "print('Mean last:           {}'.format(hyperpars['mean_last']))\n",
    "print()\n",
    "print('Note! Batch size: 32')"
   ]
  },
  {
   "cell_type": "code",
   "execution_count": 29,
   "id": "959add30-5f96-4b72-9d0c-616b7bfbe406",
   "metadata": {},
   "outputs": [
    {
     "data": {
      "image/png": "[encoded data removed]",
      "text/plain": [
       "<Figure size 1000x500 with 2 Axes>"
      ]
     },
     "metadata": {},
     "output_type": "display_data"
    }
   ],
   "source": [
    "WHICH = 2\n",
    "\n",
    "fig, axs = plt.subplots(2, 1)\n",
    "\n",
    "axs[0].plot(learning_curves_train[WHICH]['loss_mean'])\n",
    "axs[0].plot(learning_curves_eval[WHICH]['loss_mean'])\n",
    "\n",
    "axs[0].set_ylim(0, 0.5)\n",
    "\n",
    "axs[1].plot(learning_curves_train[WHICH]['accuracy_mean'])\n",
    "axs[1].plot(learning_curves_eval[WHICH]['accuracy_mean'])\n",
    "\n",
    "axs[1].set_ylim(0.5, 1)\n",
    "\n",
    "x_ticks = [x for x in range(0, len(learning_curves_train[WHICH]['loss_mean']), 50)]\n",
    "x_ticklabels = [x*int(hyperpars['evaluate_every']) for x in x_ticks]\n",
    "\n",
    "axs[0].set_xticks(x_ticks)\n",
    "axs[0].set_xticklabels(x_ticklabels)\n",
    "\n",
    "axs[1].set_xticks(x_ticks)\n",
    "axs[1].set_xticklabels(x_ticklabels)\n",
    "\n",
    "fig.set_size_inches(10, 5)"
   ]
  },
  {
   "cell_type": "code",
   "execution_count": 30,
   "id": "7291a723-7523-4d16-acbc-b5c289b59a7f",
   "metadata": {},
   "outputs": [
    {
     "data": {
      "image/png": "[encoded data removed]",
      "text/plain": [
       "<Figure size 1000x500 with 2 Axes>"
      ]
     },
     "metadata": {},
     "output_type": "display_data"
    }
   ],
   "source": [
    "mean_tr_loss = np.mean([df['loss_mean'].to_numpy() for df in learning_curves_train], axis=0)\n",
    "std_tr_loss = np.std([df['loss_mean'].to_numpy() for df in learning_curves_train], axis=0)\n",
    "\n",
    "mean_tr_acc = np.mean([df['accuracy_mean'].to_numpy() for df in learning_curves_train], axis=0)\n",
    "std_tr_acc = np.std([df['accuracy_mean'].to_numpy() for df in learning_curves_train], axis=0)\n",
    "\n",
    "mean_vl_loss = np.mean([df['loss_mean'].to_numpy() for df in learning_curves_eval], axis=0)\n",
    "std_vl_loss = np.std([df['loss_mean'].to_numpy() for df in learning_curves_eval], axis=0)\n",
    "\n",
    "mean_vl_acc = np.mean([df['accuracy_mean'].to_numpy() for df in learning_curves_eval], axis=0)\n",
    "std_vl_acc = np.std([df['accuracy_mean'].to_numpy() for df in learning_curves_eval], axis=0)\n",
    "\n",
    "fig, axs = plt.subplots(2, 1)\n",
    "\n",
    "axs[0].plot(mean_tr_loss)\n",
    "axs[0].plot(mean_vl_loss)\n",
    "\n",
    "axs[0].set_ylim(0, 0.5)\n",
    "\n",
    "axs[1].plot(mean_tr_acc)\n",
    "axs[1].plot(mean_vl_acc)\n",
    "\n",
    "axs[1].set_ylim(0.5, 1)\n",
    "\n",
    "x_ticks = [x for x in range(0, len(mean_tr_loss), 50)]\n",
    "x_ticklabels = [x*int(hyperpars['evaluate_every']) for x in x_ticks]\n",
    "\n",
    "axs[0].set_xticks(x_ticks)\n",
    "axs[0].set_xticklabels(x_ticklabels)\n",
    "\n",
    "axs[1].set_xticks(x_ticks)\n",
    "axs[1].set_xticklabels(x_ticklabels)\n",
    "\n",
    "fig.set_size_inches(10, 5)"
   ]
  },
  {
   "cell_type": "code",
   "execution_count": 31,
   "id": "1821595a-6639-4d50-893b-8fb6147fcf4a",
   "metadata": {},
   "outputs": [
    {
     "name": "stdout",
     "output_type": "stream",
     "text": [
      "Accuracy:    0.930\n",
      "F1:          0.931\n",
      "MCC:         0.861\n"
     ]
    }
   ],
   "source": [
    "test_res = [pd.read_csv('{}/test_results_classification.csv'.format(d), index_col=0) for d in DIRECTORIES]\n",
    "labels = test_res[0]['label'].to_numpy()\n",
    "majority_vote = [df['prediction'].to_numpy() for df in test_res]\n",
    "majority_vote = np.sum(majority_vote, axis=0)\n",
    "majority_vote = (majority_vote > 1).astype(int)\n",
    "\n",
    "print('Accuracy:    {:.3f}'.format(accuracy_score(majority_vote, labels)))\n",
    "print('F1:          {:.3f}'.format(f1_score(majority_vote, labels)))\n",
    "print('MCC:         {:.3f}'.format(matthews_corrcoef(majority_vote, labels)))"
   ]
  },
  {
   "cell_type": "code",
   "execution_count": null,
   "id": "382428bd-efa4-430c-b79d-6fee9b2b819c",
   "metadata": {},
   "outputs": [],
   "source": []
  },
  {
   "cell_type": "code",
   "execution_count": 2,
   "id": "c2a89111-fc05-4315-982d-a5a8a1787e64",
   "metadata": {},
   "outputs": [],
   "source": [
    "DIRECTORY = r'../results/classification/final_train_11' \n",
    "#DIRECTORY = r'../results/classification/IgBert/long_training'"
   ]
  },
  {
   "cell_type": "code",
   "execution_count": 3,
   "id": "c999d5cf-f286-42a2-94c0-5eba2414b91c",
   "metadata": {},
   "outputs": [],
   "source": [
    "results_train = pd.read_csv('{}/results_train.csv'.format(DIRECTORY), index_col=0)\n",
    "results_eval = pd.read_csv('{}/results_eval.csv'.format(DIRECTORY), index_col=0)"
   ]
  },
  {
   "cell_type": "code",
   "execution_count": 4,
   "id": "a88cf0dc-78cc-46e7-962c-ff3c24749f3b",
   "metadata": {},
   "outputs": [
    {
     "name": "stdout",
     "output_type": "stream",
     "text": [
      "Training dataset:    ../datasets/new/classificator/random/train_random/train.csv\n",
      "Size of the dataset: 1432650\n",
      "    Subsample:       None\n",
      "    Frac:            None\n",
      "\n",
      "Validation dataset:  ../datasets/new/classificator/random/val_random/val.csv\n",
      "Size of the dataset: 542466\n",
      "    Subsample:       None\n",
      "    Frac:            None\n",
      "\n",
      "Model:               average\n",
      "    Checkpoint:      Exscientia/IgBert\n",
      "    N. layers:       3\n",
      "    Layer size:      1024\n",
      "\n",
      "Optimizer            adam\n",
      "    Lr:              0.0001\n",
      "    Weight decay:    0.0001\n",
      "    Beta1:           0.85\n",
      "    Beta2:           0.96\n",
      "\n",
      "Scheduler            linear\n",
      "    Start factor:    1\n",
      "    End factor:      0.05\n",
      "    Tot. iters:      1000\n",
      "\n",
      "N. epochs            1\n",
      "Train batches:       None\n",
      "Eval batches:        30\n",
      "Evaluate every:      100\n",
      "Mean last:           20\n",
      "\n",
      "Note! Batch size: 32\n"
     ]
    }
   ],
   "source": [
    "with open('{}/hyperpar.json'.format(DIRECTORY)) as f:\n",
    "    hyperpars = json.load(f)\n",
    "\n",
    "print('Training dataset:    {}'.format(hyperpars['train_dataset']['name']))\n",
    "print('Size of the dataset: {}'.format(hyperpars['train_dataset']['size']))\n",
    "print('    Subsample:       {}'.format(hyperpars['train_dataset']['subsample']))\n",
    "print('    Frac:            {}'.format(hyperpars['train_dataset']['frac']))\n",
    "print()\n",
    "print('Validation dataset:  {}'.format(hyperpars['val_dataset']['name']))\n",
    "print('Size of the dataset: {}'.format(hyperpars['val_dataset']['size']))\n",
    "print('    Subsample:       {}'.format(hyperpars['val_dataset']['subsample']))\n",
    "print('    Frac:            {}'.format(hyperpars['val_dataset']['frac']))\n",
    "print()\n",
    "print('Model:               {}'.format(hyperpars['model']['name']))\n",
    "print('    Checkpoint:      {}'.format(hyperpars['model']['checkpoint']))\n",
    "print('    N. layers:       {}'.format(hyperpars['model']['number_of_layers']))\n",
    "print('    Layer size:      {}'.format(hyperpars['model']['layer_size']))\n",
    "print()\n",
    "print('Optimizer            {}'.format(hyperpars['optimizer']['name']))\n",
    "print('    Lr:              {}'.format(hyperpars['optimizer']['lr']))\n",
    "print('    Weight decay:    {}'.format(hyperpars['optimizer']['weight_decay']))\n",
    "print('    Beta1:           {}'.format(hyperpars['optimizer']['beta1']))\n",
    "print('    Beta2:           {}'.format(hyperpars['optimizer']['beta2']))\n",
    "print()\n",
    "print('Scheduler            {}'.format(hyperpars['lr_sched']['name']))\n",
    "print('    Start factor:    {}'.format(hyperpars['lr_sched']['start_factor']))\n",
    "print('    End factor:      {}'.format(hyperpars['lr_sched']['end_factor']))\n",
    "print('    Tot. iters:      {}'.format(hyperpars['lr_sched']['total_iters']))\n",
    "print()\n",
    "print('N. epochs            {}'.format(hyperpars['n_epochs']))\n",
    "print('Train batches:       {}'.format(hyperpars['train_batches']))\n",
    "print('Eval batches:        {}'.format(hyperpars['eval_batches']))\n",
    "print('Evaluate every:      {}'.format(hyperpars['evaluate_every']))\n",
    "print('Mean last:           {}'.format(hyperpars['mean_last']))\n",
    "print()\n",
    "print('Note! Batch size: 32')"
   ]
  },
  {
   "cell_type": "code",
   "execution_count": 5,
   "id": "b1944825-3a97-474a-81fc-ca6d0096cd8b",
   "metadata": {},
   "outputs": [
    {
     "data": {
      "image/png": "[encoded data removed]",
      "text/plain": [
       "<Figure size 1000x600 with 2 Axes>"
      ]
     },
     "metadata": {},
     "output_type": "display_data"
    }
   ],
   "source": [
    "fig, axs = plt.subplots(2, 1)\n",
    "\n",
    "axs[0].plot(results_train['loss_mean'], label='Training')\n",
    "axs[0].plot(results_eval['loss_mean'], label='Validation')\n",
    "\n",
    "axs[0].set_ylim(0, 0.7)\n",
    "\n",
    "axs[1].plot(results_train['accuracy_mean'], label='Training')\n",
    "axs[1].plot(results_eval['accuracy_mean'], label='Validation')\n",
    "\n",
    "axs[1].set_ylim(0.5, 1)\n",
    "\n",
    "x_ticks = [x for x in range(0, len(results_train['loss_mean']), 50)]\n",
    "x_ticklabels = [x*int(hyperpars['evaluate_every']) for x in x_ticks]\n",
    "\n",
    "axs[0].set_xticks(x_ticks)\n",
    "axs[0].set_xticklabels(x_ticklabels)\n",
    "\n",
    "axs[1].set_xticks(x_ticks)\n",
    "axs[1].set_xticklabels(x_ticklabels)\n",
    "\n",
    "axs[0].set_title('Loss', size='xx-large')\n",
    "axs[1].set_title('Accuracy', size='xx-large')\n",
    "\n",
    "axs[0].tick_params('both', labelsize='large')\n",
    "axs[1].tick_params('both', labelsize='large')\n",
    "\n",
    "axs[0].legend(fontsize='large')\n",
    "axs[1].legend(loc='lower right', fontsize='large')\n",
    "\n",
    "fig.subplots_adjust(hspace=0.5)\n",
    "\n",
    "fig.set_size_inches(10, 6)\n",
    "\n",
    "fig.savefig('germline-pairing-learinng-curves.png', bbox_inches='tight')"
   ]
  },
  {
   "cell_type": "code",
   "execution_count": 6,
   "id": "095fc10a-d5e0-4b51-b0e2-86d4e5d8e4bd",
   "metadata": {},
   "outputs": [],
   "source": [
    "test_res = pd.read_csv('{}/test_results_classification.csv'.format(DIRECTORY), index_col=0)"
   ]
  },
  {
   "cell_type": "code",
   "execution_count": 7,
   "id": "9cf7a76c-cc2c-4487-947b-281305b429a5",
   "metadata": {},
   "outputs": [
    {
     "name": "stdout",
     "output_type": "stream",
     "text": [
      "Accuracy:    0.685\n",
      "F1:          0.640\n",
      "MCC:         0.382\n"
     ]
    }
   ],
   "source": [
    "print('Accuracy:    {:.3f}'.format(accuracy_score(test_res['prediction'], test_res['label'])))\n",
    "print('F1:          {:.3f}'.format(f1_score(test_res['prediction'], test_res['label'])))\n",
    "print('MCC:         {:.3f}'.format(matthews_corrcoef(test_res['prediction'], test_res['label'])))"
   ]
  },
  {
   "cell_type": "code",
   "execution_count": 8,
   "id": "4a9f9d37-7242-4c32-aada-dade50ea81a2",
   "metadata": {},
   "outputs": [],
   "source": [
    "val_logits = pd.read_csv('{}/{}'.format(DIRECTORY, 'logits_val.csv'), index_col=0)"
   ]
  },
  {
   "cell_type": "code",
   "execution_count": 9,
   "id": "251eb980-8902-4f7e-bca4-5f55db2cd0f8",
   "metadata": {},
   "outputs": [],
   "source": [
    "fpr_test, tpr_test, _ = roc_curve(val_logits['labels'], val_logits['logits'])"
   ]
  },
  {
   "cell_type": "code",
   "execution_count": 10,
   "id": "a5161a4c-7a66-43f8-aa0e-fd3f25102d45",
   "metadata": {},
   "outputs": [
    {
     "name": "stdout",
     "output_type": "stream",
     "text": [
      "AUC: 0.785\n"
     ]
    },
    {
     "data": {
      "image/png": "[encoded data removed]",
      "text/plain": [
       "<Figure size 640x480 with 1 Axes>"
      ]
     },
     "metadata": {},
     "output_type": "display_data"
    }
   ],
   "source": [
    "fig, ax = plt.subplots(1)\n",
    "\n",
    "ax.plot(fpr_test, tpr_test)\n",
    "\n",
    "print('AUC: {:.3f}'.format(roc_auc_score(val_logits['labels'], val_logits['logits'])))"
   ]
  },
  {
   "cell_type": "code",
   "execution_count": 11,
   "id": "46eb9f49-cc90-4c18-a103-b74bb705de7c",
   "metadata": {},
   "outputs": [],
   "source": [
    "metrics = {\n",
    "    'mcc': matthews_corrcoef,\n",
    "    'accuracy': accuracy_score,\n",
    "    'f1': f1_score\n",
    "}\n",
    "\n",
    "metrics_results = {\n",
    "    'mcc': [],\n",
    "    'accuracy': [],\n",
    "    'f1': []\n",
    "}\n",
    "\n",
    "min_logit = val_logits['logits'].min()\n",
    "max_logit = val_logits['logits'].max()\n",
    "thresholds = np.linspace(min_logit, max_logit, 200)\n",
    "\n",
    "for x in thresholds:\n",
    "    predicted_class = val_logits['logits'] > x\n",
    "    true_class = val_logits['labels']\n",
    "\n",
    "    for m in metrics:\n",
    "        metrics_results[m].append(metrics[m](true_class, predicted_class))"
   ]
  },
  {
   "cell_type": "code",
   "execution_count": 12,
   "id": "3d625588-1e44-4bfc-b558-9973bed0f763",
   "metadata": {},
   "outputs": [
    {
     "data": {
      "text/plain": [
       "[<matplotlib.lines.Line2D at 0xec5be84a8850>]"
      ]
     },
     "execution_count": 12,
     "metadata": {},
     "output_type": "execute_result"
    },
    {
     "data": {
      "image/png": "[encoded data removed]",
      "text/plain": [
       "<Figure size 640x480 with 1 Axes>"
      ]
     },
     "metadata": {},
     "output_type": "display_data"
    }
   ],
   "source": [
    "fig, ax = plt.subplots(1)\n",
    "\n",
    "ax.plot(metrics_results['accuracy'])\n",
    "ax.plot(metrics_results['f1'])\n",
    "ax.plot(metrics_results['mcc'])"
   ]
  },
  {
   "cell_type": "code",
   "execution_count": 13,
   "id": "59be5a96-9312-4896-97fc-c31e0d8d4fd4",
   "metadata": {},
   "outputs": [],
   "source": [
    "threshold = thresholds[np.argmax(metrics_results['mcc'])]"
   ]
  },
  {
   "cell_type": "code",
   "execution_count": 14,
   "id": "90472568-6dc5-410b-abb3-fab4f6e6d200",
   "metadata": {},
   "outputs": [
    {
     "data": {
      "text/plain": [
       "np.float64(-0.28264587989949774)"
      ]
     },
     "execution_count": 14,
     "metadata": {},
     "output_type": "execute_result"
    }
   ],
   "source": [
    "threshold"
   ]
  },
  {
   "cell_type": "code",
   "execution_count": 15,
   "id": "35071807-b929-4ab8-a171-8d46e014779a",
   "metadata": {},
   "outputs": [
    {
     "data": {
      "text/html": [
       "<div>\n",
       "<style scoped>\n",
       "    .dataframe tbody tr th:only-of-type {\n",
       "        vertical-align: middle;\n",
       "    }\n",
       "\n",
       "    .dataframe tbody tr th {\n",
       "        vertical-align: top;\n",
       "    }\n",
       "\n",
       "    .dataframe thead th {\n",
       "        text-align: right;\n",
       "    }\n",
       "</style>\n",
       "<table border=\"1\" class=\"dataframe\">\n",
       "  <thead>\n",
       "    <tr style=\"text-align: right;\">\n",
       "      <th></th>\n",
       "      <th>heavy_id</th>\n",
       "      <th>light_id</th>\n",
       "      <th>logits</th>\n",
       "      <th>labels</th>\n",
       "    </tr>\n",
       "  </thead>\n",
       "  <tbody>\n",
       "    <tr>\n",
       "      <th>0</th>\n",
       "      <td>89210</td>\n",
       "      <td>9</td>\n",
       "      <td>0.160559</td>\n",
       "      <td>1</td>\n",
       "    </tr>\n",
       "    <tr>\n",
       "      <th>1</th>\n",
       "      <td>1467429</td>\n",
       "      <td>38</td>\n",
       "      <td>0.221621</td>\n",
       "      <td>1</td>\n",
       "    </tr>\n",
       "    <tr>\n",
       "      <th>2</th>\n",
       "      <td>789270</td>\n",
       "      <td>1191</td>\n",
       "      <td>0.143645</td>\n",
       "      <td>1</td>\n",
       "    </tr>\n",
       "    <tr>\n",
       "      <th>3</th>\n",
       "      <td>1572203</td>\n",
       "      <td>680699</td>\n",
       "      <td>0.947593</td>\n",
       "      <td>1</td>\n",
       "    </tr>\n",
       "    <tr>\n",
       "      <th>4</th>\n",
       "      <td>364465</td>\n",
       "      <td>367</td>\n",
       "      <td>0.092297</td>\n",
       "      <td>1</td>\n",
       "    </tr>\n",
       "    <tr>\n",
       "      <th>...</th>\n",
       "      <td>...</td>\n",
       "      <td>...</td>\n",
       "      <td>...</td>\n",
       "      <td>...</td>\n",
       "    </tr>\n",
       "    <tr>\n",
       "      <th>542461</th>\n",
       "      <td>1319747</td>\n",
       "      <td>19321</td>\n",
       "      <td>0.037684</td>\n",
       "      <td>0</td>\n",
       "    </tr>\n",
       "    <tr>\n",
       "      <th>542462</th>\n",
       "      <td>1289926</td>\n",
       "      <td>283618</td>\n",
       "      <td>0.040375</td>\n",
       "      <td>0</td>\n",
       "    </tr>\n",
       "    <tr>\n",
       "      <th>542463</th>\n",
       "      <td>749832</td>\n",
       "      <td>303529</td>\n",
       "      <td>-0.780617</td>\n",
       "      <td>0</td>\n",
       "    </tr>\n",
       "    <tr>\n",
       "      <th>542464</th>\n",
       "      <td>1042967</td>\n",
       "      <td>440786</td>\n",
       "      <td>1.019127</td>\n",
       "      <td>0</td>\n",
       "    </tr>\n",
       "    <tr>\n",
       "      <th>542465</th>\n",
       "      <td>101426</td>\n",
       "      <td>166779</td>\n",
       "      <td>-0.603352</td>\n",
       "      <td>0</td>\n",
       "    </tr>\n",
       "  </tbody>\n",
       "</table>\n",
       "<p>542466 rows × 4 columns</p>\n",
       "</div>"
      ],
      "text/plain": [
       "        heavy_id  light_id    logits  labels\n",
       "0          89210         9  0.160559       1\n",
       "1        1467429        38  0.221621       1\n",
       "2         789270      1191  0.143645       1\n",
       "3        1572203    680699  0.947593       1\n",
       "4         364465       367  0.092297       1\n",
       "...          ...       ...       ...     ...\n",
       "542461   1319747     19321  0.037684       0\n",
       "542462   1289926    283618  0.040375       0\n",
       "542463    749832    303529 -0.780617       0\n",
       "542464   1042967    440786  1.019127       0\n",
       "542465    101426    166779 -0.603352       0\n",
       "\n",
       "[542466 rows x 4 columns]"
      ]
     },
     "execution_count": 15,
     "metadata": {},
     "output_type": "execute_result"
    }
   ],
   "source": [
    "val_logits\n"
   ]
  },
  {
   "cell_type": "code",
   "execution_count": 16,
   "id": "9268cbaf-56b3-42a4-bdba-5d9c25324747",
   "metadata": {},
   "outputs": [
    {
     "name": "stdout",
     "output_type": "stream",
     "text": [
      "Accuracy:    0.757\n",
      "F1:          0.788\n",
      "MCC:         0.538\n"
     ]
    }
   ],
   "source": [
    "predicted = val_logits['logits'] > threshold\n",
    "\n",
    "print('Accuracy:    {:.3f}'.format(accuracy_score(predicted, val_logits['labels'])))\n",
    "print('F1:          {:.3f}'.format(f1_score(predicted, val_logits['labels'])))\n",
    "print('MCC:         {:.3f}'.format(matthews_corrcoef(predicted, val_logits['labels'])))"
   ]
  },
  {
   "cell_type": "code",
   "execution_count": 17,
   "id": "d14b2e8c-f476-4ed8-be48-6ed09266db12",
   "metadata": {},
   "outputs": [],
   "source": [
    "test_logits = pd.read_csv('{}/{}'.format(DIRECTORY, 'logits_test.csv'), index_col=0)"
   ]
  },
  {
   "cell_type": "code",
   "execution_count": 18,
   "id": "12e64724-0858-4a06-8fef-509416fc27fe",
   "metadata": {},
   "outputs": [],
   "source": [
    "fpr_test, tpr_test, _ = roc_curve(test_logits['labels'], test_logits['logits'])"
   ]
  },
  {
   "cell_type": "code",
   "execution_count": 19,
   "id": "0291a163-fcec-48e7-88a6-a5bf0ab7bb2c",
   "metadata": {},
   "outputs": [
    {
     "name": "stdout",
     "output_type": "stream",
     "text": [
      "AUC: 0.791\n"
     ]
    },
    {
     "data": {
      "image/png": "[encoded data removed]",
      "text/plain": [
       "<Figure size 640x480 with 1 Axes>"
      ]
     },
     "metadata": {},
     "output_type": "display_data"
    }
   ],
   "source": [
    "fig, ax = plt.subplots(1)\n",
    "\n",
    "ax.plot(fpr_test, tpr_test)\n",
    "\n",
    "print('AUC: {:.3f}'.format(roc_auc_score(test_logits['labels'], test_logits['logits'])))"
   ]
  },
  {
   "cell_type": "code",
   "execution_count": 20,
   "id": "1ec57eb1-4070-4024-8f9c-b6b76ab8212c",
   "metadata": {},
   "outputs": [
    {
     "name": "stdout",
     "output_type": "stream",
     "text": [
      "Accuracy:    0.748\n",
      "F1:          0.782\n",
      "MCC:         0.522\n"
     ]
    }
   ],
   "source": [
    "predicted = test_logits['logits'] > threshold\n",
    "\n",
    "print('Accuracy:    {:.3f}'.format(accuracy_score(predicted, test_logits['labels'])))\n",
    "print('F1:          {:.3f}'.format(f1_score(predicted, test_logits['labels'])))\n",
    "print('MCC:         {:.3f}'.format(matthews_corrcoef(predicted, test_logits['labels'])))"
   ]
  },
  {
   "cell_type": "markdown",
   "id": "173d66ab-5bac-4f40-9245-98957b19361a",
   "metadata": {
    "jp-MarkdownHeadingCollapsed": true
   },
   "source": [
    "### Other datasets"
   ]
  },
  {
   "cell_type": "code",
   "execution_count": 43,
   "id": "9e845bec-dfe1-479e-92fe-8587ea0e0985",
   "metadata": {},
   "outputs": [],
   "source": [
    "DIRECTORY = r'../results/classification/grid_search_11'"
   ]
  },
  {
   "cell_type": "code",
   "execution_count": 44,
   "id": "cc5c1d17-1709-409e-a7aa-72a59ae0de1b",
   "metadata": {},
   "outputs": [],
   "source": [
    "gs_results = defaultdict(dict)\n",
    "\n",
    "for d in os.listdir(DIRECTORY):\n",
    "    with open('{}/{}/hyperpar.json'.format(DIRECTORY, d)) as f:\n",
    "        hyperpars = json.load(f)\n",
    "    \n",
    "    gs_results[d]['number_of_layer'] = hyperpars['model']['number_of_layers']\n",
    "    gs_results[d]['layer_size'] = hyperpars['model']['layer_size']\n",
    "    gs_results[d]['lr'] = hyperpars['optimizer']['lr']\n",
    "    gs_results[d]['weight_decay'] = hyperpars['optimizer']['weight_decay']\n",
    "\n",
    "    #print(hyperpars)\n",
    "\n",
    "    if 'lr_sched' not in hyperpars:\n",
    "        gs_results[d]['lr_sched'] = 'None'\n",
    "        gs_results[d]['start_factor'] = 'None'\n",
    "        gs_results[d]['end_factor'] = 'None'\n",
    "        gs_results[d]['total_iters'] = 'None'\n",
    "    else:\n",
    "        gs_results[d]['lr_sched'] = hyperpars['lr_sched']['name']\n",
    "        gs_results[d]['start_factor'] = hyperpars['lr_sched']['start_factor']\n",
    "        gs_results[d]['end_factor'] = hyperpars['lr_sched']['end_factor']\n",
    "        gs_results[d]['total_iters'] = hyperpars['lr_sched']['total_iters']\n",
    "\n",
    "    if 'beta1' in hyperpars['optimizer']:\n",
    "        gs_results[d]['beta1'] = hyperpars['optimizer']['beta1']\n",
    "        gs_results[d]['beta2'] = hyperpars['optimizer']['beta2']"
   ]
  },
  {
   "cell_type": "code",
   "execution_count": 45,
   "id": "a0bf400e-efe2-4bfa-a4e8-22cb9660524d",
   "metadata": {},
   "outputs": [],
   "source": [
    "for d in os.listdir(DIRECTORY):\n",
    "    df = pd.read_csv('{}/{}/val_results_classification.csv'.format(DIRECTORY, d), index_col=0)\n",
    "    gs_results[d]['acc'] = accuracy_score(df['label'], df['prediction'])\n",
    "    gs_results[d]['f1'] = f1_score(df['label'], df['prediction'])\n",
    "    gs_results[d]['mcc'] = matthews_corrcoef(df['label'], df['prediction'])"
   ]
  },
  {
   "cell_type": "code",
   "execution_count": 46,
   "id": "2605b64d-7d65-43c2-bcff-5fab368ae408",
   "metadata": {},
   "outputs": [],
   "source": [
    "dict_results = defaultdict(list)\n",
    "\n",
    "for _, item in gs_results.items():\n",
    "    for key, value in item.items():\n",
    "        dict_results[key].append(value)"
   ]
  },
  {
   "cell_type": "code",
   "execution_count": 47,
   "id": "d6b685f0-6876-4121-a8db-0f904191b569",
   "metadata": {},
   "outputs": [],
   "source": [
    "dict_results = defaultdict(list)\n",
    "\n",
    "for _, item in gs_results.items():\n",
    "    for key, value in item.items():\n",
    "        dict_results[key].append(value)\n",
    "\n",
    "df_results = pd.DataFrame(dict_results)\n",
    "\n",
    "acc_columns = sorted([c for c in df_results.columns if 'acc' in c])\n",
    "f1_columns = sorted([c for c in df_results.columns if 'f1' in c])\n",
    "mcc_columns = sorted([c for c in df_results.columns if 'mcc' in c])\n",
    "other_columns = sorted(list(set(df_results.columns).difference(set(acc_columns + f1_columns + mcc_columns))))\n",
    "\n",
    "df_results = df_results[other_columns + acc_columns + f1_columns + mcc_columns]"
   ]
  },
  {
   "cell_type": "code",
   "execution_count": 56,
   "id": "4814c3ef-ee14-4490-a94d-f1fdebc1bf02",
   "metadata": {},
   "outputs": [
    {
     "data": {
      "text/html": [
       "<div>\n",
       "<style scoped>\n",
       "    .dataframe tbody tr th:only-of-type {\n",
       "        vertical-align: middle;\n",
       "    }\n",
       "\n",
       "    .dataframe tbody tr th {\n",
       "        vertical-align: top;\n",
       "    }\n",
       "\n",
       "    .dataframe thead th {\n",
       "        text-align: right;\n",
       "    }\n",
       "</style>\n",
       "<table border=\"1\" class=\"dataframe\">\n",
       "  <thead>\n",
       "    <tr style=\"text-align: right;\">\n",
       "      <th></th>\n",
       "      <th>beta1</th>\n",
       "      <th>beta2</th>\n",
       "      <th>end_factor</th>\n",
       "      <th>layer_size</th>\n",
       "      <th>lr</th>\n",
       "      <th>lr_sched</th>\n",
       "      <th>number_of_layer</th>\n",
       "      <th>start_factor</th>\n",
       "      <th>total_iters</th>\n",
       "      <th>weight_decay</th>\n",
       "      <th>f1</th>\n",
       "    </tr>\n",
       "  </thead>\n",
       "  <tbody>\n",
       "    <tr>\n",
       "      <th>14</th>\n",
       "      <td>0.9</td>\n",
       "      <td>0.999</td>\n",
       "      <td>None</td>\n",
       "      <td>1024</td>\n",
       "      <td>0.0010</td>\n",
       "      <td>None</td>\n",
       "      <td>5</td>\n",
       "      <td>None</td>\n",
       "      <td>None</td>\n",
       "      <td>0.00001</td>\n",
       "      <td>0.676739</td>\n",
       "    </tr>\n",
       "    <tr>\n",
       "      <th>20</th>\n",
       "      <td>0.9</td>\n",
       "      <td>0.999</td>\n",
       "      <td>None</td>\n",
       "      <td>2048</td>\n",
       "      <td>0.0010</td>\n",
       "      <td>None</td>\n",
       "      <td>5</td>\n",
       "      <td>None</td>\n",
       "      <td>None</td>\n",
       "      <td>0.00001</td>\n",
       "      <td>0.668276</td>\n",
       "    </tr>\n",
       "    <tr>\n",
       "      <th>19</th>\n",
       "      <td>0.9</td>\n",
       "      <td>0.999</td>\n",
       "      <td>None</td>\n",
       "      <td>2048</td>\n",
       "      <td>0.0010</td>\n",
       "      <td>None</td>\n",
       "      <td>5</td>\n",
       "      <td>None</td>\n",
       "      <td>None</td>\n",
       "      <td>0.00010</td>\n",
       "      <td>0.668276</td>\n",
       "    </tr>\n",
       "    <tr>\n",
       "      <th>13</th>\n",
       "      <td>0.9</td>\n",
       "      <td>0.999</td>\n",
       "      <td>None</td>\n",
       "      <td>1024</td>\n",
       "      <td>0.0010</td>\n",
       "      <td>None</td>\n",
       "      <td>5</td>\n",
       "      <td>None</td>\n",
       "      <td>None</td>\n",
       "      <td>0.00010</td>\n",
       "      <td>0.668276</td>\n",
       "    </tr>\n",
       "    <tr>\n",
       "      <th>12</th>\n",
       "      <td>0.9</td>\n",
       "      <td>0.999</td>\n",
       "      <td>None</td>\n",
       "      <td>1024</td>\n",
       "      <td>0.0010</td>\n",
       "      <td>None</td>\n",
       "      <td>5</td>\n",
       "      <td>None</td>\n",
       "      <td>None</td>\n",
       "      <td>0.00100</td>\n",
       "      <td>0.665187</td>\n",
       "    </tr>\n",
       "    <tr>\n",
       "      <th>1</th>\n",
       "      <td>0.9</td>\n",
       "      <td>0.999</td>\n",
       "      <td>None</td>\n",
       "      <td>1024</td>\n",
       "      <td>0.0010</td>\n",
       "      <td>None</td>\n",
       "      <td>3</td>\n",
       "      <td>None</td>\n",
       "      <td>None</td>\n",
       "      <td>0.00010</td>\n",
       "      <td>0.650029</td>\n",
       "    </tr>\n",
       "    <tr>\n",
       "      <th>10</th>\n",
       "      <td>0.9</td>\n",
       "      <td>0.999</td>\n",
       "      <td>None</td>\n",
       "      <td>2048</td>\n",
       "      <td>0.0001</td>\n",
       "      <td>None</td>\n",
       "      <td>3</td>\n",
       "      <td>None</td>\n",
       "      <td>None</td>\n",
       "      <td>0.00010</td>\n",
       "      <td>0.645421</td>\n",
       "    </tr>\n",
       "    <tr>\n",
       "      <th>21</th>\n",
       "      <td>0.9</td>\n",
       "      <td>0.999</td>\n",
       "      <td>None</td>\n",
       "      <td>2048</td>\n",
       "      <td>0.0001</td>\n",
       "      <td>None</td>\n",
       "      <td>5</td>\n",
       "      <td>None</td>\n",
       "      <td>None</td>\n",
       "      <td>0.00100</td>\n",
       "      <td>0.643457</td>\n",
       "    </tr>\n",
       "    <tr>\n",
       "      <th>17</th>\n",
       "      <td>0.9</td>\n",
       "      <td>0.999</td>\n",
       "      <td>None</td>\n",
       "      <td>1024</td>\n",
       "      <td>0.0001</td>\n",
       "      <td>None</td>\n",
       "      <td>5</td>\n",
       "      <td>None</td>\n",
       "      <td>None</td>\n",
       "      <td>0.00001</td>\n",
       "      <td>0.641608</td>\n",
       "    </tr>\n",
       "    <tr>\n",
       "      <th>5</th>\n",
       "      <td>0.9</td>\n",
       "      <td>0.999</td>\n",
       "      <td>None</td>\n",
       "      <td>1024</td>\n",
       "      <td>0.0001</td>\n",
       "      <td>None</td>\n",
       "      <td>3</td>\n",
       "      <td>None</td>\n",
       "      <td>None</td>\n",
       "      <td>0.00001</td>\n",
       "      <td>0.641313</td>\n",
       "    </tr>\n",
       "    <tr>\n",
       "      <th>3</th>\n",
       "      <td>0.9</td>\n",
       "      <td>0.999</td>\n",
       "      <td>None</td>\n",
       "      <td>1024</td>\n",
       "      <td>0.0001</td>\n",
       "      <td>None</td>\n",
       "      <td>3</td>\n",
       "      <td>None</td>\n",
       "      <td>None</td>\n",
       "      <td>0.00100</td>\n",
       "      <td>0.641220</td>\n",
       "    </tr>\n",
       "    <tr>\n",
       "      <th>16</th>\n",
       "      <td>0.9</td>\n",
       "      <td>0.999</td>\n",
       "      <td>None</td>\n",
       "      <td>1024</td>\n",
       "      <td>0.0001</td>\n",
       "      <td>None</td>\n",
       "      <td>5</td>\n",
       "      <td>None</td>\n",
       "      <td>None</td>\n",
       "      <td>0.00010</td>\n",
       "      <td>0.638970</td>\n",
       "    </tr>\n",
       "    <tr>\n",
       "      <th>4</th>\n",
       "      <td>0.9</td>\n",
       "      <td>0.999</td>\n",
       "      <td>None</td>\n",
       "      <td>1024</td>\n",
       "      <td>0.0001</td>\n",
       "      <td>None</td>\n",
       "      <td>3</td>\n",
       "      <td>None</td>\n",
       "      <td>None</td>\n",
       "      <td>0.00010</td>\n",
       "      <td>0.637261</td>\n",
       "    </tr>\n",
       "    <tr>\n",
       "      <th>11</th>\n",
       "      <td>0.9</td>\n",
       "      <td>0.999</td>\n",
       "      <td>None</td>\n",
       "      <td>2048</td>\n",
       "      <td>0.0001</td>\n",
       "      <td>None</td>\n",
       "      <td>3</td>\n",
       "      <td>None</td>\n",
       "      <td>None</td>\n",
       "      <td>0.00001</td>\n",
       "      <td>0.635071</td>\n",
       "    </tr>\n",
       "    <tr>\n",
       "      <th>15</th>\n",
       "      <td>0.9</td>\n",
       "      <td>0.999</td>\n",
       "      <td>None</td>\n",
       "      <td>1024</td>\n",
       "      <td>0.0001</td>\n",
       "      <td>None</td>\n",
       "      <td>5</td>\n",
       "      <td>None</td>\n",
       "      <td>None</td>\n",
       "      <td>0.00100</td>\n",
       "      <td>0.632446</td>\n",
       "    </tr>\n",
       "    <tr>\n",
       "      <th>22</th>\n",
       "      <td>0.9</td>\n",
       "      <td>0.999</td>\n",
       "      <td>None</td>\n",
       "      <td>2048</td>\n",
       "      <td>0.0001</td>\n",
       "      <td>None</td>\n",
       "      <td>5</td>\n",
       "      <td>None</td>\n",
       "      <td>None</td>\n",
       "      <td>0.00010</td>\n",
       "      <td>0.631260</td>\n",
       "    </tr>\n",
       "    <tr>\n",
       "      <th>7</th>\n",
       "      <td>0.9</td>\n",
       "      <td>0.999</td>\n",
       "      <td>None</td>\n",
       "      <td>2048</td>\n",
       "      <td>0.0010</td>\n",
       "      <td>None</td>\n",
       "      <td>3</td>\n",
       "      <td>None</td>\n",
       "      <td>None</td>\n",
       "      <td>0.00010</td>\n",
       "      <td>0.630233</td>\n",
       "    </tr>\n",
       "    <tr>\n",
       "      <th>6</th>\n",
       "      <td>0.9</td>\n",
       "      <td>0.999</td>\n",
       "      <td>None</td>\n",
       "      <td>2048</td>\n",
       "      <td>0.0010</td>\n",
       "      <td>None</td>\n",
       "      <td>3</td>\n",
       "      <td>None</td>\n",
       "      <td>None</td>\n",
       "      <td>0.00100</td>\n",
       "      <td>0.629021</td>\n",
       "    </tr>\n",
       "    <tr>\n",
       "      <th>9</th>\n",
       "      <td>0.9</td>\n",
       "      <td>0.999</td>\n",
       "      <td>None</td>\n",
       "      <td>2048</td>\n",
       "      <td>0.0001</td>\n",
       "      <td>None</td>\n",
       "      <td>3</td>\n",
       "      <td>None</td>\n",
       "      <td>None</td>\n",
       "      <td>0.00100</td>\n",
       "      <td>0.627646</td>\n",
       "    </tr>\n",
       "    <tr>\n",
       "      <th>2</th>\n",
       "      <td>0.9</td>\n",
       "      <td>0.999</td>\n",
       "      <td>None</td>\n",
       "      <td>1024</td>\n",
       "      <td>0.0010</td>\n",
       "      <td>None</td>\n",
       "      <td>3</td>\n",
       "      <td>None</td>\n",
       "      <td>None</td>\n",
       "      <td>0.00001</td>\n",
       "      <td>0.619843</td>\n",
       "    </tr>\n",
       "    <tr>\n",
       "      <th>8</th>\n",
       "      <td>0.9</td>\n",
       "      <td>0.999</td>\n",
       "      <td>None</td>\n",
       "      <td>2048</td>\n",
       "      <td>0.0010</td>\n",
       "      <td>None</td>\n",
       "      <td>3</td>\n",
       "      <td>None</td>\n",
       "      <td>None</td>\n",
       "      <td>0.00001</td>\n",
       "      <td>0.614298</td>\n",
       "    </tr>\n",
       "    <tr>\n",
       "      <th>0</th>\n",
       "      <td>0.9</td>\n",
       "      <td>0.999</td>\n",
       "      <td>None</td>\n",
       "      <td>1024</td>\n",
       "      <td>0.0010</td>\n",
       "      <td>None</td>\n",
       "      <td>3</td>\n",
       "      <td>None</td>\n",
       "      <td>None</td>\n",
       "      <td>0.00100</td>\n",
       "      <td>0.607389</td>\n",
       "    </tr>\n",
       "    <tr>\n",
       "      <th>18</th>\n",
       "      <td>0.9</td>\n",
       "      <td>0.999</td>\n",
       "      <td>None</td>\n",
       "      <td>2048</td>\n",
       "      <td>0.0010</td>\n",
       "      <td>None</td>\n",
       "      <td>5</td>\n",
       "      <td>None</td>\n",
       "      <td>None</td>\n",
       "      <td>0.00100</td>\n",
       "      <td>0.409205</td>\n",
       "    </tr>\n",
       "  </tbody>\n",
       "</table>\n",
       "</div>"
      ],
      "text/plain": [
       "    beta1  beta2 end_factor  layer_size      lr lr_sched  number_of_layer  \\\n",
       "14    0.9  0.999       None        1024  0.0010     None                5   \n",
       "20    0.9  0.999       None        2048  0.0010     None                5   \n",
       "19    0.9  0.999       None        2048  0.0010     None                5   \n",
       "13    0.9  0.999       None        1024  0.0010     None                5   \n",
       "12    0.9  0.999       None        1024  0.0010     None                5   \n",
       "1     0.9  0.999       None        1024  0.0010     None                3   \n",
       "10    0.9  0.999       None        2048  0.0001     None                3   \n",
       "21    0.9  0.999       None        2048  0.0001     None                5   \n",
       "17    0.9  0.999       None        1024  0.0001     None                5   \n",
       "5     0.9  0.999       None        1024  0.0001     None                3   \n",
       "3     0.9  0.999       None        1024  0.0001     None                3   \n",
       "16    0.9  0.999       None        1024  0.0001     None                5   \n",
       "4     0.9  0.999       None        1024  0.0001     None                3   \n",
       "11    0.9  0.999       None        2048  0.0001     None                3   \n",
       "15    0.9  0.999       None        1024  0.0001     None                5   \n",
       "22    0.9  0.999       None        2048  0.0001     None                5   \n",
       "7     0.9  0.999       None        2048  0.0010     None                3   \n",
       "6     0.9  0.999       None        2048  0.0010     None                3   \n",
       "9     0.9  0.999       None        2048  0.0001     None                3   \n",
       "2     0.9  0.999       None        1024  0.0010     None                3   \n",
       "8     0.9  0.999       None        2048  0.0010     None                3   \n",
       "0     0.9  0.999       None        1024  0.0010     None                3   \n",
       "18    0.9  0.999       None        2048  0.0010     None                5   \n",
       "\n",
       "   start_factor total_iters  weight_decay        f1  \n",
       "14         None        None       0.00001  0.676739  \n",
       "20         None        None       0.00001  0.668276  \n",
       "19         None        None       0.00010  0.668276  \n",
       "13         None        None       0.00010  0.668276  \n",
       "12         None        None       0.00100  0.665187  \n",
       "1          None        None       0.00010  0.650029  \n",
       "10         None        None       0.00010  0.645421  \n",
       "21         None        None       0.00100  0.643457  \n",
       "17         None        None       0.00001  0.641608  \n",
       "5          None        None       0.00001  0.641313  \n",
       "3          None        None       0.00100  0.641220  \n",
       "16         None        None       0.00010  0.638970  \n",
       "4          None        None       0.00010  0.637261  \n",
       "11         None        None       0.00001  0.635071  \n",
       "15         None        None       0.00100  0.632446  \n",
       "22         None        None       0.00010  0.631260  \n",
       "7          None        None       0.00010  0.630233  \n",
       "6          None        None       0.00100  0.629021  \n",
       "9          None        None       0.00100  0.627646  \n",
       "2          None        None       0.00001  0.619843  \n",
       "8          None        None       0.00001  0.614298  \n",
       "0          None        None       0.00100  0.607389  \n",
       "18         None        None       0.00100  0.409205  "
      ]
     },
     "execution_count": 56,
     "metadata": {},
     "output_type": "execute_result"
    }
   ],
   "source": [
    "WHICH = 'f1'\n",
    "df_results[other_columns + \n",
    "           ['{}'.format(WHICH)]].sort_values(by='{}'.format(WHICH), ascending=False)"
   ]
  },
  {
   "cell_type": "code",
   "execution_count": 54,
   "id": "8b47bc82-7c8f-457b-8390-2d25b23d3a5e",
   "metadata": {},
   "outputs": [
    {
     "data": {
      "text/plain": [
       "[<matplotlib.lines.Line2D at 0xfd261fe2d010>]"
      ]
     },
     "execution_count": 54,
     "metadata": {},
     "output_type": "execute_result"
    },
    {
     "data": {
      "image/png": "[encoded data removed]",
      "text/plain": [
       "<Figure size 640x480 with 2 Axes>"
      ]
     },
     "metadata": {},
     "output_type": "display_data"
    }
   ],
   "source": [
    "WHICH = 20\n",
    "\n",
    "fig, axs = plt.subplots(2)\n",
    "\n",
    "learning_curves_train = pd.read_csv('{}/{}/results_train.csv'.format(DIRECTORY, WHICH), index_col=0)\n",
    "learning_curves_eval = pd.read_csv('{}/{}/results_eval.csv'.format(DIRECTORY, WHICH), index_col=0)\n",
    "\n",
    "axs[0].plot(learning_curves_train['loss_mean'])\n",
    "axs[0].plot(learning_curves_eval['loss_mean'])\n",
    "\n",
    "axs[1].plot(learning_curves_train['accuracy_mean'])\n",
    "axs[1].plot(learning_curves_eval['accuracy_mean'])"
   ]
  },
  {
   "cell_type": "markdown",
   "id": "5829b326-f1f1-47df-a7d4-5ab3a0c96c1e",
   "metadata": {},
   "source": [
    "### Test correlation"
   ]
  },
  {
   "cell_type": "code",
   "execution_count": 5,
   "id": "72ee0e57-f683-4425-a8bc-388d9e755741",
   "metadata": {},
   "outputs": [],
   "source": [
    "WHICH_MODEL = 'final_train_1'\n",
    "LOCATION = '../results/classification/{}'.format(WHICH_MODEL)\n",
    "\n",
    "CHECKPOINT = 'Exscientia/IgBert'\n",
    "MODEL_NAME = 'average'\n",
    "\n",
    "TOKENIZER_CHECKPOINT = None\n",
    "if TOKENIZER_CHECKPOINT is None: TOKENIZER_CHECKPOINT = CHECKPOINT"
   ]
  },
  {
   "cell_type": "code",
   "execution_count": 11,
   "id": "180902e7-7ef7-4aa3-85dc-e992fbba3828",
   "metadata": {},
   "outputs": [
    {
     "name": "stdout",
     "output_type": "stream",
     "text": [
      "Tokenizer checkpoint: Exscientia/IgBert\n"
     ]
    }
   ],
   "source": [
    "state_dict = torch.load('{}/model.pt'.format(LOCATION), weights_only=True)\n",
    "model = utils.load_model(MODEL_NAME, checkpoint=CHECKPOINT, state_dict=state_dict)\n",
    "tokenizer = utils.retrieve_tokenizer(TOKENIZER_CHECKPOINT)"
   ]
  },
  {
   "cell_type": "code",
   "execution_count": 12,
   "id": "44497d52-aa8a-411f-ba53-be5f1dfe8e4f",
   "metadata": {},
   "outputs": [],
   "source": [
    "df = pd.read_csv('../datasets/functionality-developability-cross_reactivity-data_vh_vl.csv')"
   ]
  },
  {
   "cell_type": "code",
   "execution_count": 25,
   "id": "706523e8-021d-45ee-8d5b-3a6ee9a7c697",
   "metadata": {},
   "outputs": [],
   "source": [
    "id_col = [i for i in range(len(df[['VH', 'VL']]))]\n",
    "class_col = [0 for i in range(len(df[['VH', 'VL']]))]\n",
    "\n",
    "data_dict = {\n",
    "    'pair_id': id_col,\n",
    "    'heavy': df['VH'].to_numpy(),\n",
    "    'light': df['VL'].to_numpy(),\n",
    "    'class': class_col\n",
    "}\n",
    "\n",
    "ab_df = pd.DataFrame(data_dict)\n",
    "data = DataLoader(utils.AbDataset(ab_df), batch_size=32)"
   ]
  },
  {
   "cell_type": "code",
   "execution_count": 27,
   "id": "d31c940b-5ccf-4b1d-b2cd-d09399f474d2",
   "metadata": {},
   "outputs": [
    {
     "name": "stderr",
     "output_type": "stream",
     "text": [
      "100%|█████████████████████████████████████████████| 1/1 [00:00<00:00,  1.48it/s]\n"
     ]
    }
   ],
   "source": [
    "device = torch.device('cuda' if torch.cuda.is_available() else 'cpu')\n",
    "model = model.to(device)\n",
    "\n",
    "logits_vec = []\n",
    "\n",
    "model.eval()\n",
    "with torch.no_grad():\n",
    "    for batch in tqdm(data, total=len(data)):\n",
    "        _, inputs, value = batch[0], batch[1], batch[2]\n",
    "        input_dict = utils.tokenize_inputs(inputs, tokenizer, device=device)\n",
    "        logits = model(**input_dict)\n",
    "        logits_vec.append(logits.to('cpu'))"
   ]
  },
  {
   "cell_type": "code",
   "execution_count": 88,
   "id": "cf9ee5ba-f510-4785-af6e-ab538c061164",
   "metadata": {},
   "outputs": [],
   "source": [
    "logits = torch.stack(list(itertools.chain.from_iterable([x[:, 0] for x in logits_vec]))).numpy()\n",
    "probs = np.stack(list(itertools.chain.from_iterable([softmax(logits_vec[0], axis=1)[:, 0] for x in logits_vec])))"
   ]
  },
  {
   "cell_type": "code",
   "execution_count": 81,
   "id": "0aae5791-2082-4620-be93-8920ce35f449",
   "metadata": {},
   "outputs": [
    {
     "name": "stdout",
     "output_type": "stream",
     "text": [
      "-0.45364675607959637\n",
      "-0.48488630552251877\n"
     ]
    }
   ],
   "source": [
    "print(pearsonr(logits, df['KD (nM)'].to_numpy())[0])\n",
    "print(pearsonr(probs, df['KD (nM)'].to_numpy())[0])"
   ]
  },
  {
   "cell_type": "code",
   "execution_count": 89,
   "id": "5e68fef3-f19e-4973-93f7-ea28aac0c1ce",
   "metadata": {},
   "outputs": [
    {
     "name": "stdout",
     "output_type": "stream",
     "text": [
      "-0.3652444349243523\n",
      "-0.39253019645768455\n"
     ]
    }
   ],
   "source": [
    "print(pearsonr(-np.log(logits), -np.log(df['KD (nM)'].to_numpy()))[0])\n",
    "print(pearsonr(-np.log(probs), -np.log(df['KD (nM)'].to_numpy()))[0])"
   ]
  },
  {
   "cell_type": "code",
   "execution_count": 90,
   "id": "7c97ef22-4341-492c-9afa-4817184fb4d5",
   "metadata": {},
   "outputs": [
    {
     "name": "stdout",
     "output_type": "stream",
     "text": [
      "-0.42815992502992634\n",
      "-0.25601089632630714\n"
     ]
    }
   ],
   "source": [
    "print(pearsonr(logits[0] - logits[1:], df['Edit distance to trastuzumab'].to_numpy()[1:])[0])\n",
    "print(pearsonr(probs[0] - probs[1:], df['Edit distance to trastuzumab'].to_numpy()[1:])[0])"
   ]
  },
  {
   "cell_type": "code",
   "execution_count": 91,
   "id": "4284e6dd-25c0-4f90-a3d6-8231b1bdd20e",
   "metadata": {},
   "outputs": [
    {
     "name": "stdout",
     "output_type": "stream",
     "text": [
      "0.3440380591641787\n",
      "0.1424564717401281\n"
     ]
    }
   ],
   "source": [
    "print(pearsonr(abs(logits[0] - logits[1:]), df['Edit distance to trastuzumab'].to_numpy()[1:])[0])\n",
    "print(pearsonr(abs(probs[0] - probs[1:]), df['Edit distance to trastuzumab'].to_numpy()[1:])[0])"
   ]
  },
  {
   "cell_type": "code",
   "execution_count": 64,
   "id": "3c4313cb-838a-46c0-9041-6fc3bb69e098",
   "metadata": {},
   "outputs": [
    {
     "data": {
      "text/plain": [
       "array([ 0.,  9.,  7.,  6., 12.,  7.,  2.,  6.,  7.,  6., 10.,  8.,  9.])"
      ]
     },
     "execution_count": 64,
     "metadata": {},
     "output_type": "execute_result"
    }
   ],
   "source": [
    "df['Edit distance to trastuzumab'].to_numpy()"
   ]
  },
  {
   "cell_type": "code",
   "execution_count": 79,
   "id": "ec11b05a-1a85-40ec-891b-750a90b818f4",
   "metadata": {},
   "outputs": [
    {
     "data": {
      "text/plain": [
       "array([0.9721725 , 0.97734785, 0.9734665 , 0.9701591 , 0.9888383 ,\n",
       "       0.9748048 , 0.9605995 , 0.97170854, 0.9748047 , 0.9321931 ,\n",
       "       0.9371073 , 0.97855693, 0.97227997], dtype=float32)"
      ]
     },
     "execution_count": 79,
     "metadata": {},
     "output_type": "execute_result"
    }
   ],
   "source": [
    "np.stack(probs)"
   ]
  },
  {
   "cell_type": "markdown",
   "id": "a4910ca1-f2f7-40e4-b1c9-9a87d7486b3a",
   "metadata": {
    "jp-MarkdownHeadingCollapsed": true
   },
   "source": [
    "# VECCHIO"
   ]
  },
  {
   "cell_type": "code",
   "execution_count": 3,
   "id": "7837c883-b698-4ea6-8264-0e1a06c2da98",
   "metadata": {},
   "outputs": [],
   "source": [
    "directories = ['{}/{}'.format(GRID_SEARCH_DIRECTORY, d) for d in os.listdir(GRID_SEARCH_DIRECTORIES[0])]"
   ]
  },
  {
   "cell_type": "code",
   "execution_count": 4,
   "id": "d0561bc0-b665-4d28-944d-d4ee06c58978",
   "metadata": {},
   "outputs": [
    {
     "name": "stdout",
     "output_type": "stream",
     "text": [
      "../results/classification/grid_search_1/0 3 3 1024 0.001 0.001\n",
      "../results/classification/grid_search_1/1 3 3 1024 0.001 0.0001\n",
      "../results/classification/grid_search_1/2 3 3 1024 0.001 1e-05\n",
      "../results/classification/grid_search_1/3 3 3 1024 0.0001 0.001\n",
      "../results/classification/grid_search_1/4 3 3 1024 0.0001 0.0001\n",
      "../results/classification/grid_search_1/5 3 3 1024 0.0001 1e-05\n",
      "../results/classification/grid_search_1/6 3 3 2048 0.001 0.001\n",
      "../results/classification/grid_search_1/7 3 3 2048 0.001 0.0001\n",
      "../results/classification/grid_search_1/8 3 3 2048 0.001 1e-05\n",
      "../results/classification/grid_search_1/9 3 3 2048 0.0001 0.001\n",
      "../results/classification/grid_search_1/10 3 3 2048 0.0001 0.0001\n",
      "../results/classification/grid_search_1/11 3 3 2048 0.0001 1e-05\n",
      "../results/classification/grid_search_1/12 3 5 1024 0.001 0.001\n",
      "../results/classification/grid_search_1/13 3 5 1024 0.001 0.0001\n",
      "../results/classification/grid_search_1/14 3 5 1024 0.001 1e-05\n",
      "../results/classification/grid_search_1/15 3 5 1024 0.0001 0.001\n",
      "../results/classification/grid_search_1/16 3 5 1024 0.0001 0.0001\n",
      "../results/classification/grid_search_1/17 3 5 1024 0.0001 1e-05\n",
      "../results/classification/grid_search_1/18 3 5 2048 0.001 0.001\n",
      "../results/classification/grid_search_1/19 3 5 2048 0.001 0.0001\n",
      "../results/classification/grid_search_1/20 3 5 2048 0.001 1e-05\n",
      "../results/classification/grid_search_1/21 3 5 2048 0.0001 0.001\n",
      "../results/classification/grid_search_1/22 3 5 2048 0.0001 0.0001\n"
     ]
    }
   ],
   "source": [
    "hyperpars_list = []\n",
    "for d in directories:\n",
    "    with open('{}/hyperpar.json'.format(d)) as f:\n",
    "        hyperpars_list.append(json.load(f))\n",
    "        print(d, \n",
    "              hyperpars_list[-1]['n_epochs'], \n",
    "              hyperpars_list[-1]['model']['number_of_layers'],\n",
    "              hyperpars_list[-1]['model']['layer_size'],\n",
    "              hyperpars_list[-1]['optimizer']['lr'],\n",
    "              hyperpars_list[-1]['optimizer']['weight_decay'])"
   ]
  },
  {
   "cell_type": "code",
   "execution_count": 24,
   "id": "242621ae-253f-4c1f-8532-55cda986911d",
   "metadata": {},
   "outputs": [],
   "source": [
    "learning_curves = defaultdict(list)\n",
    "\n",
    "for d in directories:\n",
    "    df_train = pd.read_csv('{}/results_train.csv'.format(d), index_col=0)\n",
    "    learning_curves['train'].append(df_train)\n",
    "    df_val = pd.read_csv('{}/results_eval.csv'.format(d), index_col=0)\n",
    "    learning_curves['eval'].append(df_val)"
   ]
  },
  {
   "cell_type": "code",
   "execution_count": 27,
   "id": "084e0d8b-69d9-4796-9810-f36066453612",
   "metadata": {},
   "outputs": [
    {
     "data": {
      "text/plain": [
       "(0.0, 1.0)"
      ]
     },
     "execution_count": 27,
     "metadata": {},
     "output_type": "execute_result"
    },
    {
     "data": {
      "image/png": "[encoded data removed]",
      "text/plain": [
       "<Figure size 1000x300 with 1 Axes>"
      ]
     },
     "metadata": {},
     "output_type": "display_data"
    }
   ],
   "source": [
    "fig, axs = plt.subplots(1)\n",
    "\n",
    "fig.set_size_inches(10, 3)\n",
    "\n",
    "i = 4\n",
    "\n",
    "axs.plot(learning_curves['train'][i]['accuracy_mean'])\n",
    "axs.plot(learning_curves['eval'][i]['accuracy_mean'])\n",
    "\n",
    "axs.set_ylim(0.0, 1)"
   ]
  },
  {
   "cell_type": "code",
   "execution_count": 15,
   "id": "21d29ce4-fb12-4865-ab6b-d65c86e87626",
   "metadata": {},
   "outputs": [
    {
     "name": "stdout",
     "output_type": "stream",
     "text": [
      "3 1024 0.001 0.001\n",
      "0.9055414224090256\n",
      "\n",
      "3 1024 0.001 0.0001\n",
      "0.9014858238395458\n",
      "\n",
      "3 1024 0.001 1e-05\n",
      "0.9029605869557202\n",
      "\n",
      "3 1024 0.0001 0.001\n",
      "0.8808760092910076\n",
      "\n",
      "3 1024 0.0001 0.0001\n",
      "0.9081591269402353\n",
      "\n",
      "3 1024 0.0001 1e-05\n",
      "0.9061681967333997\n",
      "\n",
      "3 2048 0.001 0.001\n",
      "0.8422003465693323\n",
      "\n",
      "3 2048 0.001 0.0001\n",
      "0.9053202079415994\n",
      "\n",
      "3 2048 0.001 1e-05\n",
      "0.8788850790841721\n",
      "\n",
      "3 2048 0.0001 0.001\n",
      "0.8844154407698264\n",
      "\n",
      "3 2048 0.0001 0.0001\n",
      "0.8945175681156214\n",
      "\n",
      "3 2048 0.0001 1e-05\n",
      "0.8949968661283781\n",
      "\n",
      "5 1024 0.001 0.001\n",
      "0.48999004534896584\n",
      "\n",
      "5 1024 0.001 0.0001\n",
      "0.8320244810677285\n",
      "\n",
      "5 1024 0.001 1e-05\n",
      "0.8747557423588836\n",
      "\n",
      "5 1024 0.0001 0.001\n",
      "0.8885079084172105\n",
      "\n",
      "5 1024 0.0001 0.0001\n",
      "0.9055414224090256\n",
      "\n",
      "5 1024 0.0001 1e-05\n",
      "0.9021494672418243\n",
      "\n",
      "5 2048 0.001 0.001\n",
      "0.8840098809128784\n",
      "\n",
      "5 2048 0.001 0.0001\n",
      "0.49717951554031636\n",
      "\n",
      "5 2048 0.001 1e-05\n",
      "0.7579913726357704\n",
      "\n",
      "5 2048 0.0001 0.001\n",
      "0.9093758065110792\n",
      "\n",
      "5 2048 0.0001 0.0001\n",
      "0.9052096007078863\n",
      "\n"
     ]
    }
   ],
   "source": [
    "from sklearn.metrics import accuracy_score\n",
    "\n",
    "for d in directories:\n",
    "    with open('{}/hyperpar.json'.format(d)) as f:\n",
    "        hyperpars = json.load(f)\n",
    "    print(hyperpars['model']['number_of_layers'],\n",
    "          hyperpars['model']['layer_size'],\n",
    "          hyperpars['optimizer']['lr'],\n",
    "          hyperpars['optimizer']['weight_decay'])\n",
    "    df = pd.read_csv('{}/val_results_classification.csv'.format(d), index_col=0)\n",
    "    print(accuracy_score(df['label'], df['prediction']))\n",
    "    print()"
   ]
  },
  {
   "cell_type": "code",
   "execution_count": 26,
   "id": "5e5929a6-b113-4578-8542-6c8bd96a9e40",
   "metadata": {},
   "outputs": [
    {
     "ename": "IndexError",
     "evalue": "list index out of range",
     "output_type": "error",
     "traceback": [
      "\u001b[0;31m---------------------------------------------------------------------------\u001b[0m",
      "\u001b[0;31mIndexError\u001b[0m                                Traceback (most recent call last)",
      "Cell \u001b[0;32mIn[26], line 1\u001b[0m\n\u001b[0;32m----> 1\u001b[0m \u001b[43mlearning_curves\u001b[49m\u001b[43m[\u001b[49m\u001b[38;5;124;43m'\u001b[39;49m\u001b[38;5;124;43mtrain\u001b[39;49m\u001b[38;5;124;43m'\u001b[39;49m\u001b[43m]\u001b[49m\u001b[43m[\u001b[49m\u001b[43mi\u001b[49m\u001b[43m]\u001b[49m[\u001b[38;5;124m'\u001b[39m\u001b[38;5;124maccuracy_mean\u001b[39m\u001b[38;5;124m'\u001b[39m]\n",
      "\u001b[0;31mIndexError\u001b[0m: list index out of range"
     ]
    }
   ],
   "source": [
    "learning_curves['train'][i]['accuracy_mean']"
   ]
  },
  {
   "cell_type": "code",
   "execution_count": 4,
   "id": "90835e1c-2096-434f-83e6-187611f415c2",
   "metadata": {},
   "outputs": [],
   "source": [
    "RESULTS_DIRECTORY = r'../results/classification/IgBert_only_v/'\n",
    "GRID_SEARCH_DIRECTORIES = [r'{}/lr_1e-{}'.format(RESULTS_DIRECTORY, i)\n",
    "                           for i in [2, 3, 4, 5]]\n",
    "LONG_TRAINING_DIRECTORY = '{}/long_training'.format(RESULTS_DIRECTORY)"
   ]
  },
  {
   "cell_type": "markdown",
   "id": "ff9c74bb-8aa1-43dc-afab-30770a6dfeaf",
   "metadata": {},
   "source": [
    "### Grid Search"
   ]
  },
  {
   "cell_type": "code",
   "execution_count": 5,
   "id": "6b7cf6c8-3b16-45a8-aa36-a95b9088b5a2",
   "metadata": {},
   "outputs": [
    {
     "data": {
      "image/png": "[encoded data removed]",
      "text/plain": [
       "<Figure size 800x600 with 4 Axes>"
      ]
     },
     "metadata": {},
     "output_type": "display_data"
    }
   ],
   "source": [
    "fig, axs = plt.subplots(2, 2)\n",
    "\n",
    "linestyles = ['solid', 'dotted', 'dashed', 'dashdot']\n",
    "\n",
    "for i, d in enumerate(GRID_SEARCH_DIRECTORIES):\n",
    "    train_metrics = pd.read_csv('{}/results_train.csv'.format(d), index_col=0)\n",
    "    eval_metrics = pd.read_csv('{}/results_eval.csv'.format(d), index_col = 0)\n",
    "\n",
    "    axs[0, 0].plot(train_metrics['loss_mean'][:30], label='1e-{}'.format(d.split('-')[-1]),\n",
    "                   color='k', linestyle=linestyles[i])\n",
    "    axs[0, 0].set_ylim(-0.05, 0.85)\n",
    "    axs[0, 0].set_title('Training Loss')\n",
    "\n",
    "    axs[1, 0].plot(train_metrics['accuracy_mean'][:30], label='1e-{}'.format(d.split('-')[-1]),\n",
    "                   color='k', linestyle=linestyles[i])\n",
    "    axs[1, 0].set_ylim(0.35, 1.05)\n",
    "    axs[1, 0].set_title('Training Accuracy')\n",
    "\n",
    "    axs[0, 1].plot(eval_metrics['loss_mean'][:30], label='1e-{}'.format(d.split('-')[-1]),\n",
    "                   color='k', linestyle=linestyles[i])\n",
    "    axs[0, 1].set_ylim(-0.05, 0.85)\n",
    "    axs[0, 1].set_title('Validation Loss')\n",
    "    \n",
    "    axs[1, 1].plot(eval_metrics['accuracy_mean'][:30], label='1e-{}'.format(d.split('-')[-1]),\n",
    "                   color='k', linestyle=linestyles[i])\n",
    "    axs[1, 1].set_ylim(0.35, 1.05)\n",
    "    axs[1, 1].set_title('Validation Accuracy')\n",
    "\n",
    "\n",
    "fig.set_size_inches(8, 6)\n",
    "fig.subplots_adjust(hspace=0.3)\n",
    "h, l = axs[0, 0].get_legend_handles_labels()\n",
    "fig.legend(h, l, loc=8, ncol=4)#, bbox_to_anchor=[0.5,0])\n",
    "fig.savefig('learning-curves.png', bbox_inches='tight')"
   ]
  },
  {
   "cell_type": "markdown",
   "id": "49f7fdd2-c964-4935-99c8-221f89efddc9",
   "metadata": {},
   "source": [
    "### Long Training"
   ]
  },
  {
   "cell_type": "code",
   "execution_count": 54,
   "id": "8686ed64-d012-4845-aa77-f87187846ed5",
   "metadata": {},
   "outputs": [],
   "source": [
    "train_metrics = pd.read_csv('{}/results_train.csv'.format(LONG_TRAINING_DIRECTORY), index_col=0)\n",
    "eval_metrics = pd.read_csv('{}/results_eval.csv'.format(LONG_TRAINING_DIRECTORY), index_col=0)"
   ]
  },
  {
   "cell_type": "code",
   "execution_count": 55,
   "id": "d231bffe-aec5-4455-b7ac-65ad44646335",
   "metadata": {},
   "outputs": [
    {
     "data": {
      "text/plain": [
       "[<matplotlib.lines.Line2D at 0xec9ad7d3b190>]"
      ]
     },
     "execution_count": 55,
     "metadata": {},
     "output_type": "execute_result"
    },
    {
     "data": {
      "image/png": "[encoded data removed]",
      "text/plain": [
       "<Figure size 1500x300 with 1 Axes>"
      ]
     },
     "metadata": {},
     "output_type": "display_data"
    }
   ],
   "source": [
    "fig, ax = plt.subplots(1)\n",
    "fig.set_size_inches(15, 3)\n",
    "ax.plot(train_metrics['loss_mean'])"
   ]
  },
  {
   "cell_type": "code",
   "execution_count": 56,
   "id": "a02ccb2a-0e64-48a2-974d-1ef27ca9a5a8",
   "metadata": {
    "scrolled": true
   },
   "outputs": [
    {
     "data": {
      "text/plain": [
       "[<matplotlib.lines.Line2D at 0xec9ad7dbec90>]"
      ]
     },
     "execution_count": 56,
     "metadata": {},
     "output_type": "execute_result"
    },
    {
     "data": {
      "image/png": "[encoded data removed]",
      "text/plain": [
       "<Figure size 1500x300 with 1 Axes>"
      ]
     },
     "metadata": {},
     "output_type": "display_data"
    }
   ],
   "source": [
    "fig, ax = plt.subplots(1)\n",
    "fig.set_size_inches(15, 3)\n",
    "ax.plot(train_metrics['accuracy_mean'])\n",
    "ax.plot(eval_metrics['accuracy_mean'])"
   ]
  },
  {
   "cell_type": "markdown",
   "id": "39429352-1283-4db0-b4c4-17d098f17e01",
   "metadata": {},
   "source": [
    "### Val Results"
   ]
  },
  {
   "cell_type": "code",
   "execution_count": 6,
   "id": "010efded-289f-430d-b939-fdb43005d954",
   "metadata": {},
   "outputs": [],
   "source": [
    "val_res = pd.read_csv('{}/val_results_classification.csv'.format(LONG_TRAINING_DIRECTORY), index_col=0)"
   ]
  },
  {
   "cell_type": "code",
   "execution_count": 7,
   "id": "2fda521c-6ee3-4348-8116-0378f6aa31ec",
   "metadata": {},
   "outputs": [
    {
     "name": "stdout",
     "output_type": "stream",
     "text": [
      "Accuracy:    1.000\n",
      "F1:          1.000\n",
      "MCC:         0.999\n"
     ]
    }
   ],
   "source": [
    "print('Accuracy:    {:.3f}'.format(accuracy_score(val_res['prediction'], val_res['label'])))\n",
    "print('F1:          {:.3f}'.format(f1_score(val_res['prediction'], val_res['label'])))\n",
    "print('MCC:         {:.3f}'.format(matthews_corrcoef(val_res['prediction'], val_res['label'])))"
   ]
  },
  {
   "cell_type": "code",
   "execution_count": 8,
   "id": "8285ae10-f185-4754-bad7-e25fca050b32",
   "metadata": {},
   "outputs": [],
   "source": [
    "val_logits = pd.read_csv('{}/{}'.format(LONG_TRAINING_DIRECTORY, 'logits_val.csv'), index_col=0)"
   ]
  },
  {
   "cell_type": "code",
   "execution_count": 9,
   "id": "1bedc237-4c84-40a9-ad3d-bb97fffd7b6b",
   "metadata": {},
   "outputs": [],
   "source": [
    "fpr_val, tpr_val, _ = roc_curve(val_logits['labels'], val_logits['logits'])"
   ]
  },
  {
   "cell_type": "code",
   "execution_count": 10,
   "id": "3523ed81-c765-40c3-81a2-97c41234f4bd",
   "metadata": {},
   "outputs": [
    {
     "name": "stdout",
     "output_type": "stream",
     "text": [
      "AUC: 0.703\n"
     ]
    },
    {
     "data": {
      "image/png": "[encoded data removed]",
      "text/plain": [
       "<Figure size 640x480 with 1 Axes>"
      ]
     },
     "metadata": {},
     "output_type": "display_data"
    }
   ],
   "source": [
    "fig, ax = plt.subplots(1)\n",
    "\n",
    "ax.plot(fpr_val, tpr_val)\n",
    "\n",
    "print('AUC: {:.3f}'.format(roc_auc_score(val_logits['labels'], val_logits['logits'])))"
   ]
  },
  {
   "cell_type": "code",
   "execution_count": 11,
   "id": "070c9c1a-621f-4ffa-b51d-b9f67174b607",
   "metadata": {},
   "outputs": [],
   "source": [
    "metrics = {\n",
    "    'mcc': matthews_corrcoef,\n",
    "    'accuracy': accuracy_score,\n",
    "    'f1': f1_score\n",
    "}\n",
    "\n",
    "metrics_results = {\n",
    "    'mcc': [],\n",
    "    'accuracy': [],\n",
    "    'f1': []\n",
    "}\n",
    "\n",
    "min_logit = val_logits['logits'].min()\n",
    "max_logit = val_logits['logits'].max()\n",
    "thresholds = np.linspace(min_logit, max_logit, 200)\n",
    "\n",
    "for x in thresholds:\n",
    "    predicted_class = val_logits['logits'] > x\n",
    "    true_class = val_logits['labels']\n",
    "\n",
    "    for m in metrics:\n",
    "        metrics_results[m].append(metrics[m](true_class, predicted_class))"
   ]
  },
  {
   "cell_type": "code",
   "execution_count": 12,
   "id": "765241ee-81ae-4586-bd98-539db9448d75",
   "metadata": {},
   "outputs": [
    {
     "data": {
      "text/plain": [
       "[<matplotlib.lines.Line2D at 0xe6eff11fdbd0>]"
      ]
     },
     "execution_count": 12,
     "metadata": {},
     "output_type": "execute_result"
    },
    {
     "data": {
      "image/png": "[encoded data removed]",
      "text/plain": [
       "<Figure size 640x480 with 1 Axes>"
      ]
     },
     "metadata": {},
     "output_type": "display_data"
    }
   ],
   "source": [
    "fig, ax = plt.subplots(1)\n",
    "\n",
    "ax.plot(metrics_results['accuracy'])\n",
    "ax.plot(metrics_results['f1'])\n",
    "ax.plot(metrics_results['mcc'])"
   ]
  },
  {
   "cell_type": "code",
   "execution_count": 13,
   "id": "959a270d-7280-478c-bb09-60bc063efbc7",
   "metadata": {},
   "outputs": [],
   "source": [
    "threshold = thresholds[np.argmax(metrics_results['mcc'])]"
   ]
  },
  {
   "cell_type": "code",
   "execution_count": 14,
   "id": "d3e22122-f7e4-4afb-828f-f0714258947c",
   "metadata": {},
   "outputs": [
    {
     "name": "stdout",
     "output_type": "stream",
     "text": [
      "Accuracy:    0.507\n",
      "F1:          0.670\n",
      "MCC:         0.082\n"
     ]
    }
   ],
   "source": [
    "predicted = val_logits['logits'] > threshold\n",
    "\n",
    "print('Accuracy:    {:.3f}'.format(accuracy_score(predicted, val_logits['labels'])))\n",
    "print('F1:          {:.3f}'.format(f1_score(predicted, val_logits['labels'])))\n",
    "print('MCC:         {:.3f}'.format(matthews_corrcoef(predicted, val_logits['labels'])))"
   ]
  },
  {
   "cell_type": "markdown",
   "id": "a3f44e4b-2276-47e7-b811-fbfcba804734",
   "metadata": {},
   "source": [
    "### Test analysis"
   ]
  },
  {
   "cell_type": "code",
   "execution_count": 15,
   "id": "7c5df87e-e3a3-4046-ae5e-f80068531e9c",
   "metadata": {},
   "outputs": [],
   "source": [
    "test_res = pd.read_csv('{}/{}'.format(LONG_TRAINING_DIRECTORY, 'test_results_classification.csv'), index_col=0)"
   ]
  },
  {
   "cell_type": "code",
   "execution_count": 16,
   "id": "293f4f4a-b161-44b8-b83f-05cf324a384b",
   "metadata": {},
   "outputs": [
    {
     "name": "stdout",
     "output_type": "stream",
     "text": [
      "Accuracy:    0.997\n",
      "F1:          0.997\n",
      "MCC:         0.995\n"
     ]
    }
   ],
   "source": [
    "print('Accuracy:    {:.3f}'.format(accuracy_score(test_res['prediction'], test_res['label'])))\n",
    "print('F1:          {:.3f}'.format(f1_score(test_res['prediction'], test_res['label'])))\n",
    "print('MCC:         {:.3f}'.format(matthews_corrcoef(test_res['prediction'], test_res['label'])))"
   ]
  },
  {
   "cell_type": "code",
   "execution_count": 66,
   "id": "db3659b5-f00a-4293-ac10-e4e0f83d8bee",
   "metadata": {},
   "outputs": [],
   "source": [
    "test_logits = pd.read_csv('{}/{}'.format(LONG_TRAINING_DIRECTORY, 'logits_test.csv'), index_col=0)"
   ]
  },
  {
   "cell_type": "code",
   "execution_count": 67,
   "id": "5c1cbfdb-45de-480d-b369-963ea79dba93",
   "metadata": {},
   "outputs": [],
   "source": [
    "fpr_test, tpr_test, _ = roc_curve(test_logits['labels'], test_logits['logits'])"
   ]
  },
  {
   "cell_type": "code",
   "execution_count": 68,
   "id": "927439bb-0189-4d01-a827-41b73e1f5974",
   "metadata": {},
   "outputs": [
    {
     "name": "stdout",
     "output_type": "stream",
     "text": [
      "AUC: 0.717\n"
     ]
    },
    {
     "data": {
      "image/png": "[encoded data removed]",
      "text/plain": [
       "<Figure size 640x480 with 1 Axes>"
      ]
     },
     "metadata": {},
     "output_type": "display_data"
    }
   ],
   "source": [
    "fig, ax = plt.subplots(1)\n",
    "\n",
    "ax.plot(fpr_test, tpr_test)\n",
    "\n",
    "print('AUC: {:.3f}'.format(roc_auc_score(test_logits['labels'], test_logits['logits'])))"
   ]
  },
  {
   "cell_type": "code",
   "execution_count": 69,
   "id": "5c3bdf4e-a1bc-4e7e-b8f8-f6cb47b92fa7",
   "metadata": {},
   "outputs": [
    {
     "name": "stdout",
     "output_type": "stream",
     "text": [
      "Accuracy:    0.507\n",
      "F1:          0.669\n",
      "MCC:         0.078\n"
     ]
    }
   ],
   "source": [
    "predicted = test_logits['logits'] > threshold\n",
    "\n",
    "print('Accuracy:    {:.3f}'.format(accuracy_score(predicted, test_logits['labels'])))\n",
    "print('F1:          {:.3f}'.format(f1_score(predicted, test_logits['labels'])))\n",
    "print('MCC:         {:.3f}'.format(matthews_corrcoef(predicted, test_logits['labels'])))"
   ]
  }
 ],
 "metadata": {
  "kernelspec": {
   "display_name": "Python 3 (ipykernel)",
   "language": "python",
   "name": "python3"
  },
  "language_info": {
   "codemirror_mode": {
    "name": "ipython",
    "version": 3
   },
   "file_extension": ".py",
   "mimetype": "text/x-python",
   "name": "python",
   "nbconvert_exporter": "python",
   "pygments_lexer": "ipython3",
   "version": "3.11.9+"
  }
 },
 "nbformat": 4,
 "nbformat_minor": 5
}
